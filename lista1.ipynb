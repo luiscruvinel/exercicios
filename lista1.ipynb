# Noteboook para lista1 de exercícios da disciplina de introdução à ciência de dados.

autor: Luís Eduardo Cruvinel Pinto
data: 18/08/2024


