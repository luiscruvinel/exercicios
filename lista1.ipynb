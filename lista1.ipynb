{
 "cells": [
  {
   "cell_type": "markdown",
   "metadata": {},
   "source": [
    "# Exercícios\n",
    "\n",
    "Noteboook para lista1 de exercícios da disciplina de introdução à ciência de dados.\n",
    "\n",
    "autor: Luís Eduardo Cruvinel Pinto  \n",
    "data: 18/08/2024"
   ]
  },
  {
   "cell_type": "markdown",
   "metadata": {},
   "source": [
    "[![Open In Colab](https://colab.research.google.com/assets/colab-badge.svg)](https://colab.research.google.com/github/luiscruvinel/exercicios/blob/main/lista1.ipynb)"
   ]
  },
  {
   "cell_type": "markdown",
   "metadata": {},
   "source": [
    "### Exercício-001\n",
    "Faça um programa que leia o nome de uma pessoa e mostre uma mensagem de boas-vindas."
   ]
  },
  {
   "cell_type": "code",
   "execution_count": null,
   "metadata": {},
   "outputs": [],
   "source": [
    "user_name = '' # sets a global variable to store the user's name\n",
    "\n",
    "def greeter(): # function that asks for the user's name and greets them back\n",
    "    user_name = input('What is your name? ')\n",
    "    print(f'Nice to meet you, {user_name}')\n",
    "\n",
    "greeter()"
   ]
  },
  {
   "cell_type": "markdown",
   "metadata": {},
   "source": [
    "### Exercício-002\n",
    "Crie um programa que leia dois números e mostre a soma entre eles."
   ]
  },
  {
   "cell_type": "code",
   "execution_count": null,
   "metadata": {},
   "outputs": [],
   "source": [
    "def number_asker():\n",
    "    print(\"Let's add two humbers:\") # explains what the user will be doing next\n",
    "    while True:\n",
    "        try:\n",
    "            a = int(input('What will be the first number? '))\n",
    "            break\n",
    "        except(ValueError, TypeError):\n",
    "            print('Please, enter a valid integer.')\n",
    "    \n",
    "    while True:\n",
    "        try:\n",
    "            b = int(input('What will be the second number? '))\n",
    "            break\n",
    "        except(ValueError, TypeError):\n",
    "            print('Please, enter a valid integer.')\n",
    "    return [a, b]\n",
    "\n",
    "def add(a, b):\n",
    "    result = a+b\n",
    "    print(f'{a} + {b} = {result}!')\n",
    "\n",
    "if __name__ == '__main__':\n",
    "    user_numbers = number_asker()\n",
    "    add(user_numbers[0], user_numbers[1])\n"
   ]
  },
  {
   "cell_type": "markdown",
   "metadata": {},
   "source": [
    "### Exercício-003\n",
    "Faça um programa que leia algo pelo teclado e mostre na tela o seu tipo primitivo e todas as informações possíveis sobre ele. _Dica: crie uma variável e use `var.<TAB>` para ver as opções começadas com `is`_:"
   ]
  },
  {
   "cell_type": "code",
   "execution_count": null,
   "metadata": {},
   "outputs": [],
   "source": [
    "def typechecker():\n",
    "    user_input = input('This program will give you information about anything you type: ')\n",
    "\n",
    "    # Since the input will always be a string, try to convert to all other data types:\n",
    "    try: user_input = int(user_input)\n",
    "    except:\n",
    "            try: user_input = float(user_input)\n",
    "            except: pass\n",
    "    \n",
    "    # Now print the type of the converted input\n",
    "    print(f'Your input was {user_input} and its type is \"{type(user_input).__name__}\"')\n",
    "    \n",
    "    user_input = str(user_input) # convert back to string to apply the string specific methods\n",
    "    print(f'Here are all the informations about {user_input}:')\n",
    "\n",
    "    print('Is it alphanumeric? ' + str(user_input.isalnum()))\n",
    "    print('Is it alphabetic? ' + str(user_input.isalpha()))\n",
    "    print('Is it ASCII? ' + str(user_input.isascii()))\n",
    "    print('Is it a decimal? ' + str(user_input.isdecimal()))\n",
    "    print('Is it a digit? ' + str(user_input.isdigit()))\n",
    "    print('Is it an identifier? ' + str(user_input.isidentifier()))\n",
    "    print('Is it lower case? ' + str(user_input.islower()))\n",
    "    print('Is it a number? ' + str(user_input.isnumeric()))\n",
    "    print('Is it printable? ' + str(user_input.isprintable()))\n",
    "    print('Is it a space? ' + str(user_input.isspace()))\n",
    "    print('Is it a title? ' + str(user_input.istitle()))\n",
    "    print('Is it upper case? ' + str(user_input.isupper()))\n",
    "\n",
    "typechecker()\n"
   ]
  },
  {
   "cell_type": "markdown",
   "metadata": {},
   "source": [
    "### Exercício-004\n",
    "Desenvolva um programa que leia as duas notas de um aluno, calcule e mostre a sua média."
   ]
  },
  {
   "cell_type": "code",
   "execution_count": null,
   "metadata": {},
   "outputs": [],
   "source": [
    "def grade_asker():\n",
    "    while True:\n",
    "        try:\n",
    "            grade1 = float(input('What was the first grade? ')) # guarantee the input can be converted to a float\n",
    "            if grade1<=1 or grade1>10: # guarantee the input is a valid grade that makes sense (between 1 and 10)\n",
    "                print('Please enter a number between 0 and 10')\n",
    "                continue\n",
    "            break\n",
    "        except(ValueError, TypeError): \n",
    "            print('Please enter a valid number.')\n",
    "\n",
    "    while True:\n",
    "        try:\n",
    "            grade2 = float(input('What was the second grade? '))\n",
    "            if grade2<=1 or grade2>10:\n",
    "                print('Please enter a number between 0 and 10')\n",
    "                continue\n",
    "            break\n",
    "        except(ValueError, TypeError):\n",
    "            print('Please enter a valid number.')\n",
    "    \n",
    "    return grade1, grade2\n",
    "    \n",
    "\n",
    "def average_grade(a, b):\n",
    "    return (a+b)/2\n",
    "\n",
    "if __name__ == '__main__':\n",
    "    print('Enter the grades of the student')\n",
    "    user_grade1, user_grade2 = grade_asker()\n",
    "    print('The average grade of this student was', average_grade(user_grade1, user_grade2))"
   ]
  },
  {
   "cell_type": "markdown",
   "metadata": {},
   "source": [
    "### Exercício-005\n",
    "Crie um programa que leia quanto dinheiro uma pessoa tem na carteira\n",
    "e mostre quantos Dólares ela pode comprar.\n",
    "Considere U\\$ 1,00 = R\\$ 3,27"
   ]
  },
  {
   "cell_type": "code",
   "execution_count": null,
   "metadata": {},
   "outputs": [],
   "source": [
    "import math # this will be necessary to round down the final number\n",
    "\n",
    "\n",
    "def money_asker():\n",
    "    while True:\n",
    "        try:\n",
    "            user_money = float(input('How much money do you have? '))\n",
    "            if user_money < 0:\n",
    "                print('You can\\'t buy dollars if you are in debt.')\n",
    "                continue\n",
    "            break\n",
    "        except(ValueError, TypeError):\n",
    "            print('Please, enter a valid number.')\n",
    "    \n",
    "    return user_money\n",
    "\n",
    "def money_converter(reals, exchange_rate):\n",
    "    dollars = reals/exchange_rate\n",
    "    dollars = math.floor(dollars*100)/100 # operation to round down the number and then convert it to 2 decimal places\n",
    "    \n",
    "    return dollars\n",
    "\n",
    "if __name__ == '__main__':\n",
    "    exchange = 3.27 # sets the exchange rates so that the function doesn't have to be modified after a few years of inflation\n",
    "\n",
    "    user_reals = money_asker()\n",
    "    user_dollars = money_converter(user_reals, exchange)\n",
    "    print(f'With your R${user_reals}, you can buy U${user_dollars}.')\n"
   ]
  },
  {
   "cell_type": "markdown",
   "metadata": {},
   "source": [
    "### Exercício-006\n",
    "Um professor quer sortear um dos seus quatros alunos para apagar o quadro.\n",
    "Faça um programa que ajude ele, lendo o nome deles e escrevendo o nome do escolhido."
   ]
  },
  {
   "cell_type": "code",
   "execution_count": null,
   "metadata": {},
   "outputs": [],
   "source": [
    "import random\n",
    "\n",
    "def students_asker():\n",
    "    students = [input(f'What is the name of student {i}') for i in range(1,5)]\n",
    "    return students\n",
    "    \n",
    "\n",
    "if __name__ == '__main__':\n",
    "    students = students_asker()\n",
    "    board_cleaner = random.choice(students)\n",
    "\n",
    "    print('These are the students in the class: ')\n",
    "    for student in students:\n",
    "        if student.isalpha() == False:\n",
    "            print(f'{student} (this is a weird name, but who am I to judge...)')\n",
    "            continue\n",
    "        print(student.title())\n",
    "    print()\n",
    "\n",
    "    print(f'The student chosen to wipe the board was: {board_cleaner}!')\n"
   ]
  },
  {
   "cell_type": "markdown",
   "metadata": {},
   "source": [
    "### Exercício-007\n",
    "Escreve uma programa que checa se um dicionário possui uma chave:"
   ]
  },
  {
   "cell_type": "code",
   "execution_count": null,
   "metadata": {},
   "outputs": [],
   "source": [
    "test_dict = {'a':1, 'b':2}\n",
    "empty_dict = {}\n",
    "\n",
    "def keychecker(dict):\n",
    "    if dict == {}:\n",
    "        print('The dictionary has no keys')\n",
    "    else:\n",
    "        print('The dictionary has keys')\n",
    "\n",
    "keychecker(test_dict)"
   ]
  },
  {
   "cell_type": "markdown",
   "metadata": {},
   "source": [
    "### Exercício-008\n",
    "O mesmo professor do exercício anterior quer sortear a ordem de apresentação de trabalhos dos alunos.\n",
    "Faça um programa que leia o nome dos quatro alunos e mostre a ordem sorteada."
   ]
  },
  {
   "cell_type": "code",
   "execution_count": null,
   "metadata": {},
   "outputs": [],
   "source": [
    "import random\n",
    "\n",
    "\n",
    "def students_asker():\n",
    "    students = [input(f'What is the name of student {i}') for i in range(1,5)]\n",
    "    return students\n",
    "\n",
    "def presentation_sorter(list):\n",
    "    print('The order of the presentations will be:')\n",
    "    i = 1\n",
    "    while len(list) != 0:\n",
    "        sorted = random.randint(0, len(list)-1)\n",
    "        print(f'{i}: {list[sorted]}.')\n",
    "        list.remove(list[sorted])\n",
    "        i += 1\n",
    "\n",
    "if __name__ == '__main__':\n",
    "    students = students_asker()\n",
    "\n",
    "    print('These are the students in the class: ')\n",
    "    for student in students:\n",
    "        if student.isalpha() == False:\n",
    "            print(f'{student} (this is a weird name, but who am I to judge...)')\n",
    "            continue\n",
    "        print(student.title())\n",
    "    print()\n",
    "\n",
    "    presentation_sorter(students)"
   ]
  },
  {
   "cell_type": "markdown",
   "metadata": {},
   "source": [
    "### Exercício-009\n",
    "Escreva um programa que recebe uma chave e um valor e adiciona os dicionário `d = {0:10, 1:20}`:"
   ]
  },
  {
   "cell_type": "code",
   "execution_count": null,
   "metadata": {},
   "outputs": [],
   "source": [
    "d = {0:10, 1:20}\n",
    "\n",
    "print('This is the dictionary: ')\n",
    "print(d)\n",
    "print('Lets add a new key:value pair to this dictionary?')\n",
    "\n",
    "while True:\n",
    "    key = input('Please enter a key: ')\n",
    "    \n",
    "    try: # trying to convert to the right type if the user enters a number as a key or value\n",
    "        key = int(key)\n",
    "    except:\n",
    "        try:\n",
    "            key = float(key)\n",
    "        except:\n",
    "            break\n",
    "\n",
    "    if key in d: # prompt the user to retry if the entered key already exists (we want a unique number)\n",
    "        print('This key already exists, please enter a different key: ')\n",
    "        continue\n",
    "    break\n",
    "\n",
    "value = input('Please, enter a new value: ')\n",
    "d[key] = value\n",
    "\n",
    "print(d)"
   ]
  },
  {
   "cell_type": "markdown",
   "metadata": {},
   "source": [
    "### Exercício-010\n",
    "Escreva um programa que recebe dois números correspondentes aos índices de uma lista das cores `vermelho, verde, branco, preto, rosa e amarelo` e imprime as cores dos índices indicados.\n"
   ]
  },
  {
   "cell_type": "code",
   "execution_count": null,
   "metadata": {},
   "outputs": [],
   "source": [
    "cores = {1:'vermelho', 2:'verde', 3:'branco', 4:'preto', 5:'rosa', 6:'amarelo'}\n",
    "\n",
    "print('As opções de cores são:')\n",
    "\n",
    "for key, color in cores.items():\n",
    "    print(f'{key}: {color}')\n",
    "\n",
    "def colorpicker(dict):\n",
    "    while True:\n",
    "        cor1 = input('Digite o número da primeira cor: ')\n",
    "        if not (cor1.isdigit() and int(cor1) in dict):\n",
    "            print(f'Por favor, digite um número entre 1 e {len(cores)}')\n",
    "            continue\n",
    "        break\n",
    "    while True:\n",
    "        cor2 = input('Digite o número da segunda cor: ')\n",
    "        if not (cor2.isdigit() and int(cor2) in dict):\n",
    "            print(f'Por favor, digite um número entre 1 e {len(cores)}')\n",
    "            continue\n",
    "        break\n",
    "    cor1 = int(cor1)\n",
    "    cor2 = int(cor2)\n",
    "    print(f'Você escolheu as cores {dict[cor1]} e {dict[cor2]}!')\n",
    "\n",
    "print('Vamos escolher duas das cores acima?')\n",
    "colorpicker(cores)"
   ]
  },
  {
   "cell_type": "markdown",
   "metadata": {},
   "source": [
    "### Exercício-011\n",
    "Escreva um programa que faça o computador \"pensar\" em um número inteiro entre 0 e 5\n",
    "e peça para o usuário tentar descobrir qual foi o número escolhido pelo computador.\n",
    "O programa deverá escrever na tela se o usuário venceu ou perdeu."
   ]
  },
  {
   "cell_type": "markdown",
   "metadata": {},
   "source": [
    "### Exercício-012\n",
    "Escreva um programa que leia a velocidade de um carro. Se ele ultrapassar 80 km/h, mostre uma\n",
    "mensagem dizendo que ele foi multado. A multa vai custar R$ 7,00 por cada km acima do limite."
   ]
  },
  {
   "cell_type": "code",
   "execution_count": null,
   "metadata": {},
   "outputs": [],
   "source": [
    "# In this case the vehicle speed would be provided by some sort of sensor/radar, so I will use a random number generator to simulate the car speed.\n",
    "\n",
    "import random\n",
    "\n",
    "fine_cost = 7 # in this road, the drivers pay R$7,00 for each km/h above the speed limit\n",
    "\n",
    "def random_speed(): # function to generate random car speeds, but we want the majority of the cars to be inside the permited limit.\n",
    "    odds = random.randint(1,4)\n",
    "    if odds == 1:\n",
    "        return random.randint(81, 160)\n",
    "    else:\n",
    "        return random.randint(40, 80)\n",
    "\n",
    "def speed_checker(vehicle_speed):\n",
    "    print(f'Your speed: {vehicle_speed} km/h')\n",
    "    if vehicle_speed > 80:\n",
    "        fine = (vehicle_speed - 80) / fine_cost\n",
    "        print(f'Your speed was above the speed limit of 80 km/h. You will have to pay R${fine:.2f} as a fine.')\n",
    "    else:\n",
    "        print('Your speed was inside the speed limit range. Have a nice trip!')\n",
    "\n",
    "print('You just went through a speed trap.')\n",
    "car_speed = random_speed()\n",
    "speed_checker(car_speed)\n",
    "    \n"
   ]
  },
  {
   "cell_type": "markdown",
   "metadata": {},
   "source": [
    "### Exercício-013\n",
    "Crie um programa que leia um número inteiro e mostre na tela se ele é PAR ou ÍMPAR."
   ]
  },
  {
   "cell_type": "code",
   "execution_count": null,
   "metadata": {},
   "outputs": [],
   "source": [
    "print('This program takes an integer number and tells you if it is even or odd.')\n",
    "\n",
    "def number_asker():\n",
    "    while True:\n",
    "        try:\n",
    "            n = int(input('Enter a number: '))\n",
    "            if n < 0:\n",
    "                print('Please, enter a valid positive integer.')\n",
    "                continue\n",
    "            return n\n",
    "        except(ValueError, TypeError):\n",
    "            print('Please, enter a valid integer.')\n",
    "\n",
    "def even_or_odds(n):\n",
    "    if n%2 == 0:\n",
    "        print(f'{n} is an even number.')\n",
    "    else:\n",
    "        print(f'{n} is an odd number.')\n",
    "\n",
    "user_number = number_asker()\n",
    "\n",
    "even_or_odds(user_number)"
   ]
  },
  {
   "cell_type": "markdown",
   "metadata": {},
   "source": [
    "### Exercício-014\n",
    "Desenvolva um programa que pergunte a distância de uma viagem em km. Calcule o preço da passagem,\n",
    "cobrando R\\$ 0,50 por km para viagens de até 200 km e R\\$ 0,45 para viagens mais longas."
   ]
  },
  {
   "cell_type": "code",
   "execution_count": null,
   "metadata": {},
   "outputs": [],
   "source": [
    "def distance_asker():\n",
    "    while True:\n",
    "        try:\n",
    "            distance = int(input('How far are you planning to travel (enter a number in \"km\"?'))\n",
    "            if distance < 0:\n",
    "                print('Please, enter a positive number.')\n",
    "                continue\n",
    "            return distance\n",
    "        except(ValueError):\n",
    "            print('Please, enter a valid number.')\n",
    "\n",
    "def price_calculator(distance):\n",
    "    if distance <= 200:\n",
    "        return distance/0.5\n",
    "    else:\n",
    "        return distance/0.45\n",
    "\n",
    "user_distance = distance_asker()\n",
    "\n",
    "print(f'Your trip will cost R${price_calculator(user_distance):.2f}.')\n"
   ]
  },
  {
   "cell_type": "markdown",
   "metadata": {},
   "source": [
    "### Exercício-015\n",
    "Faça um programa que leia um ano qualquer e mostre se ele é BISSEXTO."
   ]
  },
  {
   "cell_type": "code",
   "execution_count": null,
   "metadata": {},
   "outputs": [],
   "source": [
    "def year_asker():\n",
    "    while True:\n",
    "        try:\n",
    "            n = int(input('Please enter an year: '))\n",
    "            return n\n",
    "        except(ValueError):\n",
    "            print('Please, enter a valid year number.')\n",
    "\n",
    "user_year = year_asker()\n",
    "\n",
    "def isleap(year):\n",
    "    if year%100 == 0 and year%400 == 0:\n",
    "        print('This is a leap year.')\n",
    "    elif year%100 != 0 and year%4 ==0:\n",
    "        print('This is a leap year.')\n",
    "    else:\n",
    "        print('This is not a leap year.')\n",
    "\n",
    "isleap(user_year)\n"
   ]
  },
  {
   "cell_type": "markdown",
   "metadata": {},
   "source": [
    "### Exercício-016\n",
    "Faça um programa que leia o sexo de uma pessoa, mas só aceite os valores 'M' ou 'F'.\n",
    "Caso esteja errado, peça a digitação novamente até ter um valor correto."
   ]
  },
  {
   "cell_type": "code",
   "execution_count": null,
   "metadata": {},
   "outputs": [],
   "source": [
    "sex = ''\n",
    "correspondence = {'M':'male', 'F':'female', 'R':'robot'} # easter egg\n",
    "\n",
    "while True:\n",
    "    sex = input('What is your sex? (M/F) ').upper()\n",
    "    if sex not in correspondence:\n",
    "        print('Please, enter \"M\" for male or \"F\" for female.')\n",
    "        continue    \n",
    "    break\n",
    "\n",
    "print(f'The user is a {correspondence[sex]}.')"
   ]
  },
  {
   "cell_type": "markdown",
   "metadata": {},
   "source": [
    "### Exercício-017\n",
    "Crie um programa que leia dois valores e mostre um menu como o abaixo na tela:\n",
    "\n",
    "[ 1 ] Somar\n",
    "\n",
    "[ 2 ] Multiplicar\n",
    "\n",
    "[ 3 ] Maior\n",
    "\n",
    "[ 4 ] Novos Números\n",
    "\n",
    "[ 5 ] Sair do Programa\n",
    "\n",
    "Seu programa deverá realizar a operação solicitada em cada caso."
   ]
  },
  {
   "cell_type": "code",
   "execution_count": null,
   "metadata": {},
   "outputs": [],
   "source": [
    "# PS: esse eu acho que foi o mais complicado, não pelas operações em si, mas para montar de uma forma que seja funcional e que a experiência de uso seja agradável/fluida\n",
    "\n",
    "opcoes = {1:'Somar', 2:'Multiplicar', 3:'Maior', 4:'Novos Números', 5:'Sair do Programa'} # operações que nossa calculadora vai fazer\n",
    "\n",
    "numeros_usuario = [0, 0] # inicializar a lista que será usada no seletor de números e na calculadora\n",
    "\n",
    "# funções que a calculadora realiza definidas externamente para facilitar edição caso precise colocar novas operações.\n",
    "def somar(a, b):\n",
    "    print(f'{a} + {b} = {a+b}')\n",
    "\n",
    "def multiplicar(a, b):\n",
    "    print(f'{a} * {b} = {a*b}')\n",
    "\n",
    "def maior(a, b):\n",
    "    print(f'{a} > {b} = {a>b}')\n",
    "\n",
    "# perguntar ao usuário quais os números que quer usar e declarar na lista global numeros_usuario\n",
    "def seletor_de_numeros():\n",
    "    while True: \n",
    "        try:\n",
    "            numeros_usuario[0] = float(input('Digite o primeiro número: '))\n",
    "        except(ValueError, TypeError):\n",
    "            print('Você deve digitar um número válido')\n",
    "\n",
    "        break\n",
    "\n",
    "    while True: # dois loops diferentes para que cada um tenha seu mecanismo de falha (não perguntar novamente o primeiro número depois que já teve entrada válida)\n",
    "        try:\n",
    "            numeros_usuario[1] = float(input('Digite o segundo número: '))\n",
    "            pass\n",
    "        except(ValueError, TypeError):\n",
    "            print('Você deve digitar um número válido')\n",
    "\n",
    "        break\n",
    "\n",
    "def retry(): # não fechar o programa imediatamente, perguntar se o usuário quer fazer nova operação\n",
    "    retry = ''\n",
    "    \n",
    "    while not (retry == 'S' or retry == 'N'):\n",
    "        retry = input('Gostaria de realizar outra operação? (S/N): ').upper()\n",
    "    \n",
    "    if retry == 'S':\n",
    "        calculadora(numeros_usuario)\n",
    "        retry()\n",
    "\n",
    "def calculadora (list): # função principal\n",
    "    while True:\n",
    "        seletor_de_numeros()\n",
    "        a = list[0] # captura o primeiro numero que o usuario digitou em uma variável fácil de chamar mais pra frente\n",
    "        b = list[1] # mesma coisa\n",
    "        operacao = ''\n",
    "\n",
    "        print('Qual operação você deseja realizar?')\n",
    "        for i in opcoes:\n",
    "            print(f'[ {i} ] {opcoes[i]}')\n",
    "            \n",
    "        while operacao not in opcoes: # não deixa entrar uma opção que não esteja dentro das operações da calculadora\n",
    "            try:\n",
    "                operacao = int(input('Digite uma opção de 1 a 5: '))\n",
    "\n",
    "            except(ValueError,TypeError):\n",
    "                print('Por favor, digite uma opção válida.')\n",
    "\n",
    "        if operacao == 1:\n",
    "            somar(a, b)\n",
    "            retry()\n",
    "        \n",
    "        elif operacao == 2:\n",
    "            multiplicar(a, b)\n",
    "            retry()\n",
    "\n",
    "        elif operacao == 3:\n",
    "            maior(a, b)\n",
    "            retry()\n",
    "        \n",
    "        elif operacao == 4:\n",
    "            continue\n",
    "        \n",
    "        elif operacao == 5:\n",
    "            print('Volte sempre!')\n",
    "            break\n",
    "        \n",
    "        break\n",
    "\n",
    "calculadora(numeros_usuario)"
   ]
  },
  {
   "cell_type": "markdown",
   "metadata": {},
   "source": [
    "### Exercício-018\n",
    "Crie um programa que leia o ano de nascimento de sete pessoas. No final, mostre\n",
    "quantas pessoas ainda não atingiram a maioridade e quantas já são maiores."
   ]
  },
  {
   "cell_type": "code",
   "execution_count": null,
   "metadata": {},
   "outputs": [],
   "source": [
    "import datetime\n",
    "\n",
    "# pedi ao ChatGPT uma lista de 7 \"dummy names\"\n",
    "# gerei anos aleatórios entre 1980 e 2020\n",
    "\n",
    "# organizei na forma de dicionário\n",
    "nomes = [\"Lucas\", \"Mariana\", \"Pedro\", \"Gabriela\", \"João\", \"Camila\", \"Rafael\"]\n",
    "idades = [random.randint(1980, 2020) for _ in nomes]\n",
    "\n",
    "# agora organizar como se fosse um banco de dados\n",
    "pessoas = {}\n",
    "\n",
    "for i in range(len(nomes)):\n",
    "    pessoas[nomes[i]] = idades[i]\n",
    "\n",
    "def maioridade(dict):\n",
    "    for nome, ano in dict.items():\n",
    "        idade = datetime.datetime.now().year - ano\n",
    "        if idade >= 18:\n",
    "            print(f'{nome} nasceu em {ano} e já atingiu a maioridade pois tem {idade} anos.')\n",
    "        else:\n",
    "            print(f'{nome} nasceu em {ano} e ainda não atingiu a maioridade pois tem {idade} anos.')\n",
    "\n",
    "maioridade(pessoas)"
   ]
  },
  {
   "cell_type": "markdown",
   "metadata": {},
   "source": [
    "### Exercício-019\n",
    "Faça um programa que leia o peso de cinco pessoas.\n",
    "No final, mostre qual foi o maior e o menor peso lidos."
   ]
  },
  {
   "cell_type": "code",
   "execution_count": null,
   "metadata": {},
   "outputs": [],
   "source": [
    "import random\n",
    "\n",
    "# mesma lista do exercício anterior, só cortei os últimos dois\n",
    "nomes = [\"Lucas\", \"Mariana\", \"Pedro\", \"Gabriela\", \"João\"]\n",
    "pessoas = {}\n",
    "\n",
    "for i in range(len(nomes)):\n",
    "    peso = random.randint(20, 100)\n",
    "\n",
    "    while peso in pessoas.values(): # não quero pesos iguais\n",
    "        peso = random.randint(20,100)\n",
    "    \n",
    "    pessoas[nomes[i]] = peso\n",
    "\n",
    "print('Esta é a lista fornecida de pessoas e pesos:')\n",
    "\n",
    "position = 1\n",
    "for key, value in pessoas.items():\n",
    "    print(f'{position}. {key} - {value}kg.')\n",
    "    position += 1\n",
    "\n",
    "def organizador(dict):\n",
    "    dict_invertido = {}\n",
    "    dict_organizado = {}\n",
    "\n",
    "    for key, value in dict.items():\n",
    "        dict_invertido[value] = key\n",
    "    \n",
    "    lista_pesos_ordenada = sorted(dict_invertido)\n",
    "\n",
    "    for i in range(len(lista_pesos_ordenada)):\n",
    "        dict_organizado[lista_pesos_ordenada[i]] = dict_invertido[lista_pesos_ordenada[i]]\n",
    "\n",
    "    print(f'O menor peso é o de {dict_invertido[lista_pesos_ordenada[0]]}, com {lista_pesos_ordenada[0]} kg, e o maior peso é o de {dict_invertido[lista_pesos_ordenada[-1]]}, com {lista_pesos_ordenada[-1]} kg.')\n",
    "    \n",
    "organizador(pessoas)"
   ]
  },
  {
   "cell_type": "markdown",
   "metadata": {},
   "source": [
    "### Exercício-020\n",
    "Desenvolva um programa que leia o nome, idade e sexo de 4 pessoas. No final do programa, mostre:\n",
    "- A média de idade do grupo.\n",
    "- Qual é o nome do homem mais velho.\n",
    "- Quantas mulheres têm menos de 20 anos."
   ]
  },
  {
   "cell_type": "code",
   "execution_count": 15,
   "metadata": {},
   "outputs": [
    {
     "name": "stdout",
     "output_type": "stream",
     "text": [
      "A média de idade das pessoas é: 23.25 anos.\n",
      "Das pessoas existentes, 1 são mulheres com menos de 20 anos.\n",
      "O homem mais velho é: João.\n"
     ]
    }
   ],
   "source": [
    "class Pessoa:\n",
    "    nomes = []\n",
    "    idades = []\n",
    "    generos = []\n",
    "\n",
    "    def __init__ (self, name, age, gender):\n",
    "        self.name = name\n",
    "        self.age = age\n",
    "        self.gender = gender\n",
    "\n",
    "        Pessoa.nomes.append(name)\n",
    "        Pessoa.idades.append(age)\n",
    "        Pessoa.generos.append(gender)\n",
    "\n",
    "pessoa_1 = Pessoa('João', 21, 'male')\n",
    "pessoa_2 = Pessoa('Maria', 40, 'female')\n",
    "pessoa_3 = Pessoa('Ana', 18, 'female')\n",
    "pessoa_4 = Pessoa('Daniel', 14, 'male')\n",
    "\n",
    "def media(list):\n",
    "    return sum(list)/len(list)\n",
    "\n",
    "def mulheres_menos_20(lista_nomes, lista_generos):\n",
    "    count = 0\n",
    "    for i in range(len(lista_nomes)):\n",
    "        if lista_nomes[i] < 20 and lista_generos[i] == 'female':\n",
    "            count +=1\n",
    "    \n",
    "    return count\n",
    "\n",
    "def homem_mais_velho(lista_nomes, lista_idades, lista_generos):\n",
    "    homens_com_idade = {}\n",
    "    \n",
    "    for i in range(len(lista_generos)):\n",
    "        if lista_generos[i] == 'male':\n",
    "            homens_com_idade[lista_idades[i]] = lista_nomes[i]\n",
    "        \n",
    "    maior_idade = 0\n",
    "\n",
    "    for idade in homens_com_idade:\n",
    "        if idade > maior_idade:\n",
    "            maior_idade = idade\n",
    "    \n",
    "    return(homens_com_idade[maior_idade])\n",
    "\n",
    "print(f'A média de idade das pessoas é: {media(Pessoa.idades)} anos.')\n",
    "print(f'Das pessoas existentes, {mulheres_menos_20(Pessoa.idades, Pessoa.generos)} são mulheres com menos de 20 anos.')\n",
    "print(f'O homem mais velho é: {homem_mais_velho(Pessoa.nomes, Pessoa.idades, Pessoa.generos)}.')"
   ]
  },
  {
   "cell_type": "markdown",
   "metadata": {},
   "source": [
    "### Exercício-021\n",
    "Escreva uma função em python que recebe 3 números e encontra o maior valor. Execute a função com um exemplo:"
   ]
  },
  {
   "cell_type": "code",
   "execution_count": 18,
   "metadata": {},
   "outputs": [
    {
     "name": "stdout",
     "output_type": "stream",
     "text": [
      "Aqui estão 3 números aleatórios: 36, 63, 49.\n",
      "      O maior deles é 63.\n"
     ]
    }
   ],
   "source": [
    "import random\n",
    "\n",
    "list = random.sample(range(1, 100), 3)\n",
    "\n",
    "def largest(n1, n2, n3):\n",
    "    largest_for_now = 0\n",
    "    numbers = [n1, n2, n3]\n",
    "    \n",
    "    for i in numbers:\n",
    "        if i > largest_for_now:\n",
    "            largest_for_now = i\n",
    "\n",
    "    return largest_for_now\n",
    "\n",
    "print(f'Aqui estão 3 números aleatórios: {list[0]}, {list[1]}, {list[2]}.\\n\\\n",
    "      O maior deles é {largest(list[0], list[1], list[2])}.')\n",
    "\n",
    "    "
   ]
  },
  {
   "cell_type": "markdown",
   "metadata": {},
   "source": [
    "### Exerícios-022\n",
    "Escreve uma funão que recebe uma lista e retorna os elementos únicos da lista."
   ]
  },
  {
   "cell_type": "code",
   "execution_count": 20,
   "metadata": {},
   "outputs": [
    {
     "name": "stdout",
     "output_type": "stream",
     "text": [
      "['item_unico_1', 'item_unico_2']\n"
     ]
    }
   ],
   "source": [
    "list = ['item_unico_1', 'joao', 'batata', 2, 5, 'item_unico_2', 'joao', 'batata', 2, 5, 'joao']\n",
    "\n",
    "def elementos_unicos(lista):\n",
    "    contagem = {}\n",
    "    unicos = []\n",
    "\n",
    "    for item in lista: # criar um dicionário com todos os itens aparecendo uma vez e zerar sua contagem\n",
    "        contagem[item] = 0\n",
    "    \n",
    "    for item in lista: # iterar pela lista e contar +1 para cada vez que aparecer o item\n",
    "        contagem[item] += 1\n",
    "\n",
    "    for item, vezes in contagem.items():\n",
    "        if vezes == 1:\n",
    "            unicos.append(item)\n",
    "    \n",
    "    return unicos\n",
    "\n",
    "print(elementos_unicos(list))"
   ]
  },
  {
   "cell_type": "markdown",
   "metadata": {},
   "source": [
    "### Exercício-023\n",
    "Esceva uma função em python que recebe uma cadeia de caracteres separada por hifens e retorna uma cadeida de caracteres em ordem alfabética concatenada por hifens."
   ]
  },
  {
   "cell_type": "code",
   "execution_count": 55,
   "metadata": {},
   "outputs": [
    {
     "name": "stdout",
     "output_type": "stream",
     "text": [
      "String aleatória separada por hifens: o-l-a-w-i-h-e-f-n-l-a-h-l-a-w-c-n\n",
      "String aleatória organizada alfabeticamente e separada por hífens: a-a-a-c-e-f-h-h-i-l-l-l-n-n-o-w-w.\n"
     ]
    }
   ],
   "source": [
    "\n",
    "\n",
    "\n",
    "def alfabeticador(string, separator):\n",
    "    letters = string.split(separator)\n",
    "    sorted_letters = sorted(letters)\n",
    "    new_string = '-'.join(sorted_letters)\n",
    "\n",
    "    return new_string\n",
    "\n",
    "if __name__ == '__main__':\n",
    "\n",
    "    cadeia = 'o-l-a-w-i-h-e-f-n-l-a-h-l-a-w-c-n'\n",
    "    print(f'String aleatória separada por hifens: {cadeia}')\n",
    "    print(f'String aleatória organizada alfabeticamente e separada por hífens: {alfabeticador(cadeia, '-')}.')\n",
    "\n",
    "\n",
    "\n"
   ]
  },
  {
   "cell_type": "markdown",
   "metadata": {},
   "source": [
    "### Exercício-024\n",
    "Escreva uma função em python que checa se um número é primo ou não."
   ]
  },
  {
   "cell_type": "code",
   "execution_count": 57,
   "metadata": {},
   "outputs": [
    {
     "name": "stdout",
     "output_type": "stream",
     "text": [
      "60 is not a prime number.\n"
     ]
    }
   ],
   "source": [
    "\n",
    "def number_asker():\n",
    "    while True:\n",
    "        try:    \n",
    "            number = int(input('Enter a number: '))\n",
    "            break\n",
    "        except(ValueError, TypeError):\n",
    "            print('Please, enter a valid number.')\n",
    "            continue\n",
    "    \n",
    "    return number\n",
    "\n",
    "def isprime(n):\n",
    "    factors = 0\n",
    "    \n",
    "    if n == 0 or n == 1:\n",
    "        print(f'{n} is not a prime number.')\n",
    "        return\n",
    "    \n",
    "    for i in range(2, n):\n",
    "        if n%i == 0:\n",
    "            factors +=1\n",
    "    \n",
    "    if factors == 0:\n",
    "        print(f'{n} is a prime number.')\n",
    "    \n",
    "    else:\n",
    "        print(f'{n} is not a prime number.')\n",
    "\n",
    "if __name__ == '__main__':\n",
    "    user_number = number_asker()\n",
    "    isprime(user_number)"
   ]
  },
  {
   "cell_type": "markdown",
   "metadata": {},
   "source": [
    "### Exercício-025\n",
    "\n",
    "Escreva uma função em python que aceita uma cadeida de caracteres e calcula o número de letras maiúsculas e minúsculas."
   ]
  },
  {
   "cell_type": "code",
   "execution_count": 58,
   "metadata": {},
   "outputs": [
    {
     "name": "stdout",
     "output_type": "stream",
     "text": [
      "There are 12 lower case characters in this string.\n",
      "There are 3 upper case characters in this string.\n",
      "There are 0 non alphabetical characters in this string.\n"
     ]
    }
   ],
   "source": [
    "def upper_lower_checker(string):\n",
    "    upper = 0\n",
    "    lower = 0\n",
    "    not_alpha = 0\n",
    "\n",
    "    for character in string:\n",
    "        if character.isalpha() == False:\n",
    "            not_alpha += 1\n",
    "            continue\n",
    "\n",
    "        if character.islower(): lower += 1\n",
    "        if character.isupper(): upper += 1\n",
    "    \n",
    "    print(f'There are {lower} lower case characters in this string.')\n",
    "    print(f'There are {upper} upper case characters in this string.')\n",
    "    print(f'There are {not_alpha} non alphabetical characters in this string.')\n",
    "\n",
    "if __name__ == '__main__':\n",
    "    user_string = input('Enter a string: ')\n",
    "    upper_lower_checker(user_string)\n"
   ]
  },
  {
   "cell_type": "code",
   "execution_count": null,
   "metadata": {},
   "outputs": [],
   "source": []
  }
 ],
 "metadata": {
  "kernelspec": {
   "display_name": "Python 3",
   "language": "python",
   "name": "python3"
  },
  "language_info": {
   "codemirror_mode": {
    "name": "ipython",
    "version": 3
   },
   "file_extension": ".py",
   "mimetype": "text/x-python",
   "name": "python",
   "nbconvert_exporter": "python",
   "pygments_lexer": "ipython3",
   "version": "3.12.4"
  }
 },
 "nbformat": 4,
 "nbformat_minor": 2
}
