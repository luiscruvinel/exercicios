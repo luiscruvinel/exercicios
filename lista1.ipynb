{
 "cells": [
  {
   "cell_type": "markdown",
   "metadata": {},
   "source": [
    "# Exercícios\n",
    "\n",
    "Noteboook para lista1 de exercícios da disciplina de introdução à ciência de dados.\n",
    "\n",
    "autor: Luís Eduardo Cruvinel Pinto\n",
    "data: 18/08/2024"
   ]
  },
  {
   "cell_type": "markdown",
   "metadata": {},
   "source": [
    "### Exercício-001\n",
    "Faça um programa que leia o nome de uma pessoa e mostre uma mensagem de boas-vindas."
   ]
  },
  {
   "cell_type": "code",
   "execution_count": 6,
   "metadata": {},
   "outputs": [
    {
     "name": "stdout",
     "output_type": "stream",
     "text": [
      "Nice to meet you, luis\n"
     ]
    }
   ],
   "source": [
    "user_name = '' # sets a global variable to store the user's name\n",
    "\n",
    "def greeter(): # function that asks for the user's name and greets them back\n",
    "    user_name = input('What is your name? ')\n",
    "    print(f'Nice to meet you, {user_name}')\n",
    "\n",
    "greeter()"
   ]
  },
  {
   "cell_type": "markdown",
   "metadata": {},
   "source": [
    "### Exercício-002\n",
    "Crie um programa que leia dois números e mostre a soma entre eles."
   ]
  },
  {
   "cell_type": "code",
   "execution_count": 5,
   "metadata": {},
   "outputs": [
    {
     "name": "stdout",
     "output_type": "stream",
     "text": [
      "Let's add two humbers:\n",
      "5 + 3 = 8!\n"
     ]
    }
   ],
   "source": [
    "def sum():\n",
    "    print(\"Let's add two humbers:\") # explains what the user will be doing next\n",
    "    a = int(input('What will be the first number? '))\n",
    "\n",
    "    while type(a) != int: # checks if the input provided was an integer and asks for a new input if it was not\n",
    "        print('You must enter an integer!')\n",
    "        a = int(input('What will be the first number? Make sure it is an integer! '))\n",
    "\n",
    "    b = int(input('What will be the second number?'))\n",
    "    while type(b) != int: # checks if the input provided was an integer and asks for a new input if it was not\n",
    "        print('You must enter an integer!')\n",
    "        b = int(input('What will be the second number? Make sure it is an integer! '))\n",
    "\n",
    "    result = a+b\n",
    "    print(f'{a} + {b} = {result}!')\n",
    "\n",
    "sum()"
   ]
  },
  {
   "cell_type": "markdown",
   "metadata": {},
   "source": [
    "### Exercício-003\n",
    "Faça um programa que leia algo pelo teclado e mostre na tela o seu tipo primitivo e todas as informações possíveis sobre ele. _Dica: crie uma variável e use `var.<TAB>` para ver as opções começadas com `is`_:"
   ]
  },
  {
   "cell_type": "code",
   "execution_count": 40,
   "metadata": {},
   "outputs": [
    {
     "name": "stdout",
     "output_type": "stream",
     "text": [
      "Your input was 10 and its type is \"int\"\n",
      "Here are all the informations about 10:\n",
      "Is it alphanumeric? True\n",
      "Is it alphabetic? False\n",
      "Is it ASCII? True\n",
      "Is it a decimal? True\n",
      "Is it a digit? True\n",
      "Is it an identifier? False\n",
      "Is it lower case? False\n",
      "Is it a number? True\n",
      "Is it printable? True\n",
      "Is it a space? False\n",
      "Is it a title? False\n",
      "Is it upper case? False\n"
     ]
    }
   ],
   "source": [
    "def typechecker():\n",
    "    user_input = input('This program will give you information about anything you type: ')\n",
    "\n",
    "    # Since the input will always be a string, try to convert to all other data types:\n",
    "    try: user_input = int(user_input)\n",
    "    except:\n",
    "            try: user_input = float(user_input)\n",
    "            except: pass\n",
    "    \n",
    "    # Now print the type of the converted input\n",
    "    print(f'Your input was {user_input} and its type is \"{type(user_input).__name__}\"')\n",
    "    \n",
    "    user_input = str(user_input) # convert back to string to apply the string specific methods\n",
    "    print(f'Here are all the informations about {user_input}:')\n",
    "\n",
    "    print('Is it alphanumeric? ' + str(user_input.isalnum()))\n",
    "    print('Is it alphabetic? ' + str(user_input.isalpha()))\n",
    "    print('Is it ASCII? ' + str(user_input.isascii()))\n",
    "    print('Is it a decimal? ' + str(user_input.isdecimal()))\n",
    "    print('Is it a digit? ' + str(user_input.isdigit()))\n",
    "    print('Is it an identifier? ' + str(user_input.isidentifier()))\n",
    "    print('Is it lower case? ' + str(user_input.islower()))\n",
    "    print('Is it a number? ' + str(user_input.isnumeric()))\n",
    "    print('Is it printable? ' + str(user_input.isprintable()))\n",
    "    print('Is it a space? ' + str(user_input.isspace()))\n",
    "    print('Is it a title? ' + str(user_input.istitle()))\n",
    "    print('Is it upper case? ' + str(user_input.isupper()))\n",
    "\n",
    "typechecker()\n"
   ]
  },
  {
   "cell_type": "markdown",
   "metadata": {},
   "source": [
    "### Exercício-004\n",
    "Desenvolva um programa que leia as duas notas de um aluno, calcule e mostre a sua média."
   ]
  },
  {
   "cell_type": "code",
   "execution_count": 8,
   "metadata": {},
   "outputs": [
    {
     "name": "stdout",
     "output_type": "stream",
     "text": [
      "Enter the grades of the student\n",
      "Please enter a number between 0 and 10\n",
      "The average grade of this student was 2.5\n"
     ]
    }
   ],
   "source": [
    "# declaring global variables to store the grades\n",
    "# this would not be necessary if the grades were available somewhere else (like a spreadsheet)\n",
    "grade1, grade2 = '', ''\n",
    "\n",
    "print('Enter the grades of the student')\n",
    "\n",
    "while True:\n",
    "    try:\n",
    "        grade1 = float(input('What was the first grade? '))\n",
    "        if grade1<=1 or grade1>10:\n",
    "            print('Please enter a number between 0 and 10')\n",
    "            continue\n",
    "        break\n",
    "    except(ValueError, TypeError):\n",
    "        print('Please enter a valid number.')\n",
    "\n",
    "while True:\n",
    "    try:\n",
    "        grade2 = float(input('What was the second grade? '))\n",
    "        if grade2<=1 or grade2>10:\n",
    "            print('Please enter a number between 0 and 10')\n",
    "            continue\n",
    "        break\n",
    "    except(ValueError, TypeError):\n",
    "        print('Please enter a valid number.') \n",
    "\n",
    "def average_grade(a, b):\n",
    "    return (a+b)/2\n",
    "\n",
    "print('The average grade of this student was',average_grade(grade1, grade2))"
   ]
  },
  {
   "cell_type": "markdown",
   "metadata": {},
   "source": [
    "### Exercício-005\n",
    "Crie um programa que leia quanto dinheiro uma pessoa tem na carteira\n",
    "e mostre quantos Dólares ela pode comprar.\n",
    "Considere U\\$ 1,00 = R\\$ 3,27"
   ]
  },
  {
   "cell_type": "code",
   "execution_count": 14,
   "metadata": {},
   "outputs": [
    {
     "name": "stdout",
     "output_type": "stream",
     "text": [
      "With your R$123.0, you can buy U$37.61.\n"
     ]
    }
   ],
   "source": [
    "import math # this will be necessary to round down the final number\n",
    "\n",
    "user_money = '' # sets a global variable to be manipulated\n",
    "exchange = 3.27 # sets the exchange rates so that the function doesn't have to be modified after a few years of inflation\n",
    "\n",
    "while True:\n",
    "    try:\n",
    "        user_money = float(input('How much money do you have? '))\n",
    "        if user_money < 0:\n",
    "            print('Please, enter a positive number.')\n",
    "            continue\n",
    "        break\n",
    "    except(ValueError, TypeError):\n",
    "        print('Please, enter a valid number.')\n",
    "\n",
    "def money_converter(reals):\n",
    "    dollars = reals/exchange\n",
    "    dollars = math.floor(dollars*100)/100 # operation to round down the number and then convert it to 2 decimal places\n",
    "    return dollars\n",
    "print(f'With your R${user_money}, you can buy U${money_converter(user_money)}.')\n"
   ]
  },
  {
   "cell_type": "markdown",
   "metadata": {},
   "source": [
    "### Exercício-006\n",
    "Um professor quer sortear um dos seus quatros alunos para apagar o quadro.\n",
    "Faça um programa que ajude ele, lendo o nome deles e escrevendo o nome do escolhido."
   ]
  },
  {
   "cell_type": "code",
   "execution_count": 20,
   "metadata": {},
   "outputs": [
    {
     "name": "stdout",
     "output_type": "stream",
     "text": [
      "These are the students in the class: \n",
      "luis\n",
      "joao\n",
      "ana\n",
      "maria\n",
      "\n",
      "The student chosen to wipe the board was: joao!\n",
      "4\n"
     ]
    }
   ],
   "source": [
    "import random\n",
    "\n",
    "names = []\n",
    "\n",
    "for i in range(1,5):\n",
    "    names.append(input(f'What is the name of studend {i}? '))\n",
    "\n",
    "print('These are the students in the class: ')\n",
    "for name in names:\n",
    "    print(name)\n",
    "print()\n",
    "\n",
    "def sorter(list):\n",
    "    sorted = random.randint(1, len(list))\n",
    "    print(f'The student chosen to wipe the board was: {list[sorted]}!')\n",
    "\n",
    "sorter(names)"
   ]
  },
  {
   "cell_type": "markdown",
   "metadata": {},
   "source": [
    "### Exercício-007\n",
    "Escreve uma programa que checa se um dicionário possui uma chave:"
   ]
  },
  {
   "cell_type": "code",
   "execution_count": 23,
   "metadata": {},
   "outputs": [
    {
     "name": "stdout",
     "output_type": "stream",
     "text": [
      "The dictionary has keys\n"
     ]
    }
   ],
   "source": [
    "test_dict = {'a':1, 'b':2}\n",
    "empty_dict = {}\n",
    "\n",
    "def keychecker(dict):\n",
    "    if dict == {}:\n",
    "        print('The dictionary has no keys')\n",
    "    else:\n",
    "        print('The dictionary has keys')\n",
    "\n",
    "keychecker(test_dict)"
   ]
  },
  {
   "cell_type": "markdown",
   "metadata": {},
   "source": [
    "### Exercício-008\n",
    "O mesmo professor do exercício anterior quer sortear a ordem de apresentação de trabalhos dos alunos.\n",
    "Faça um programa que leia o nome dos quatro alunos e mostre a ordem sorteada."
   ]
  },
  {
   "cell_type": "code",
   "execution_count": 30,
   "metadata": {},
   "outputs": [
    {
     "name": "stdout",
     "output_type": "stream",
     "text": [
      "These are the students in the class: \n",
      "luis\n",
      "joao\n",
      "ana\n",
      "maria\n",
      "\n",
      "The order of the presentations will be:\n",
      "1: ana.\n",
      "2: maria.\n",
      "3: luis.\n",
      "4: joao.\n"
     ]
    }
   ],
   "source": [
    "import random\n",
    "\n",
    "names = []\n",
    "\n",
    "for i in range(1,5):\n",
    "    names.append(input(f'What is the name of studend {i}? '))\n",
    "\n",
    "print('These are the students in the class: ')\n",
    "for name in names:\n",
    "    print(name)\n",
    "print()\n",
    "\n",
    "def presentation_sorter(list):\n",
    "    print('The order of the presentations will be:')\n",
    "    i = 1\n",
    "    while len(list) != 0:\n",
    "        sorted = random.randint(0, len(list)-1)\n",
    "        print(f'{i}: {list[sorted]}.')\n",
    "        list.remove(list[sorted])\n",
    "        i += 1\n",
    "\n",
    "presentation_sorter(names)"
   ]
  },
  {
   "cell_type": "markdown",
   "metadata": {},
   "source": [
    "### Exercício-009\n",
    "Escreva um programa que recebe uma chave e um valor e adiciona os dicionário `d = {0:10, 1:20}`:"
   ]
  },
  {
   "cell_type": "code",
   "execution_count": 37,
   "metadata": {},
   "outputs": [
    {
     "name": "stdout",
     "output_type": "stream",
     "text": [
      "This is the dictionary: \n",
      "{0: 10, 1: 20}\n",
      "Lets add a new key:value pair to this dictionary?\n",
      "This key already exists, please enter a different key: \n",
      "{0: 10, 1: 20, '3': '30'}\n"
     ]
    }
   ],
   "source": [
    "d = {0:10, 1:20}\n",
    "\n",
    "print('This is the dictionary: ')\n",
    "print(d)\n",
    "print('Lets add a new key:value pair to this dictionary?')\n",
    "\n",
    "key = ''\n",
    "value = ''\n",
    "\n",
    "while True:\n",
    "    key = input('Please enter a key: ')\n",
    "    if key in d or int(key) in d or float(key) in d:\n",
    "        print('This key already exists, please enter a different key: ')\n",
    "        continue\n",
    "    break\n",
    "\n",
    "value = input('Please, enter a new value: ')\n",
    "\n",
    "d[key] = value\n",
    "\n",
    "print(d)"
   ]
  },
  {
   "cell_type": "markdown",
   "metadata": {},
   "source": [
    "### Exercício-010\n",
    "Escreva um programa que recebe dois números correspondentes aos índices de uma lista das cores `vermelho, verde, branco, preto, rosa e amarelo` e imprime as cores dos índices indicados.\n"
   ]
  },
  {
   "cell_type": "code",
   "execution_count": 4,
   "metadata": {},
   "outputs": [
    {
     "name": "stdout",
     "output_type": "stream",
     "text": [
      "As opções de cores são:\n",
      "1: vermelho\n",
      "2: verde\n",
      "3: branco\n",
      "4: preto\n",
      "5: rosa\n",
      "6: amarelo\n",
      "Por favor, digite um número entre 1 e 6\n",
      "Por favor, digite um número entre 1 e 6\n",
      "Por favor, digite um número entre 1 e 6\n",
      "Você escolheu as cores vermelho e verde!\n"
     ]
    }
   ],
   "source": [
    "cores = {1:'vermelho', 2:'verde', 3:'branco', 4:'preto', 5:'rosa', 6:'amarelo'}\n",
    "\n",
    "print('As opções de cores são:')\n",
    "\n",
    "for key, color in cores.items():\n",
    "    print(f'{key}: {color}')\n",
    "\n",
    "def colorpicker(dict):\n",
    "    while True:\n",
    "        cor1 = input('Digite o número da primeira cor: ')\n",
    "        if not (cor1.isdigit() and int(cor1) in dict):\n",
    "            print(f'Por favor, digite um número entre 1 e {len(cores)}')\n",
    "            continue\n",
    "        break\n",
    "    while True:\n",
    "        cor2 = input('Digite o número da segunda cor: ')\n",
    "        if not (cor2.isdigit() and int(cor2) in dict):\n",
    "            print(f'Por favor, digite um número entre 1 e {len(cores)}')\n",
    "            continue\n",
    "        break\n",
    "    cor1 = int(cor1)\n",
    "    cor2 = int(cor2)\n",
    "    print(f'Você escolheu as cores {dict[cor1]} e {dict[cor2]}!')\n",
    "\n",
    "colorpicker(cores)"
   ]
  },
  {
   "cell_type": "markdown",
   "metadata": {},
   "source": [
    "### Exercício-011\n",
    "Escreva um programa que faça o computador \"pensar\" em um número inteiro entre 0 e 5\n",
    "e peça para o usuário tentar descobrir qual foi o número escolhido pelo computador.\n",
    "O programa deverá escrever na tela se o usuário venceu ou perdeu."
   ]
  },
  {
   "cell_type": "code",
   "execution_count": 18,
   "metadata": {},
   "outputs": [
    {
     "name": "stdout",
     "output_type": "stream",
     "text": [
      "Lets play \"Guess a Number\"!\n",
      "Let me think of a number between 0 and 5...\n",
      "Ok, I got it! Now try to guess the number I picked, you have 3 tries!\n",
      "Sorted number: 1\n",
      "Please, enter a number between 0 and 5.\n",
      "Please, enter a number between 0 and 5.\n",
      "Oops, that is not the correct number, try again!\n",
      "Congratulations, you got it!\n",
      "Goodbye!\n"
     ]
    }
   ],
   "source": [
    "import random, time\n",
    "\n",
    "def number_guesser():\n",
    "    print('Lets play \"Guess a Number\"!')\n",
    "    print('Let me think of a number between 0 and 5...')\n",
    "    time.sleep(1)\n",
    "    print('Ok, I got it! Now try to guess the number I picked, you have 3 tries!')\n",
    "\n",
    "    attempt = 1\n",
    "    number = random.randint(0,5)\n",
    "    print(f'Sorted number: {number}')\n",
    "\n",
    "    while attempt < 4:\n",
    "        try:\n",
    "            guess = int(input(f'Attempt number {attempt} - Enter your guess: '))\n",
    "            if guess not in range(0,6):\n",
    "                print('Please, enter a number between 0 and 5.')\n",
    "                continue\n",
    "        except(TypeError, ValueError):\n",
    "            print('Please, guess a valid number between 0 and 5.')\n",
    "            continue\n",
    "\n",
    "        if guess == number:\n",
    "            print('Congratulations, you got it!')\n",
    "            return\n",
    "        \n",
    "        print('Oops, that is not the correct number, try again!')\n",
    "        attempt += 1\n",
    "        continue\n",
    "    retry = input('Oops, you ran out of attempts... want to start again? (Y/N): ' )\n",
    "    \n",
    "    while not (retry.upper() == 'Y' or retry.upper() == 'N'):\n",
    "        retry = input('Please, enter \"Y\" for yes or \"N\" for no.')\n",
    "    \n",
    "    if retry.upper() == 'Y':\n",
    "        number_guesser()\n",
    "\n",
    "number_guesser()\n",
    "print('Goodbye!')"
   ]
  },
  {
   "cell_type": "markdown",
   "metadata": {},
   "source": [
    "### Exercício-012\n",
    "Escreva um programa que leia a velocidade de um carro. Se ele ultrapassar 80 km/h, mostre uma\n",
    "mensagem dizendo que ele foi multado. A multa vai custar R$ 7,00 por cada km acima do limite."
   ]
  },
  {
   "cell_type": "markdown",
   "metadata": {},
   "source": [
    "### Exercício-013\n",
    "Crie um programa que leia um número inteiro e mostre na tela se ele é PAR ou ÍMPAR."
   ]
  },
  {
   "cell_type": "markdown",
   "metadata": {},
   "source": [
    "### Exercício-014\n",
    "Desenvolva um programa que pergunte a distância de uma viagem em km. Calcule o preço da passagem,\n",
    "cobrando R\\$ 0,50 por km para viagens de até 200 km e R\\$ 0,45 para viagens mais longas."
   ]
  },
  {
   "cell_type": "markdown",
   "metadata": {},
   "source": [
    "### Exercício-015\n",
    "Faça um programa que leia um ano qualquer e mostre se ele é BISSEXTO."
   ]
  },
  {
   "cell_type": "markdown",
   "metadata": {},
   "source": [
    "### Exercício-016\n",
    "Faça um programa que leia o sexo de uma pessoa, mas só aceite os valores 'M' ou 'F'.\n",
    "Caso esteja errado, peça a digitação novamente até ter um valor correto."
   ]
  },
  {
   "cell_type": "markdown",
   "metadata": {},
   "source": [
    "### Exercício-017\n",
    "Crie um programa que leia dois valores e mostre um menu como o abaixo na tela:\n",
    "\n",
    "[ 1 ] Somar\n",
    "\n",
    "[ 2 ] Multiplicar\n",
    "\n",
    "[ 3 ] Maior\n",
    "\n",
    "[ 4 ] Novos Números\n",
    "\n",
    "[ 5 ] Sair do Programa\n",
    "\n",
    "Seu programa deverá realizar a operação solicitada em cada caso."
   ]
  },
  {
   "cell_type": "markdown",
   "metadata": {},
   "source": [
    "### Exercício-018\n",
    "Crie um programa que leia o ano de nascimento de sete pessoas. No final, mostre\n",
    "quantas pessoas ainda não atingiram a maioridade e quantas já são maiores."
   ]
  },
  {
   "cell_type": "markdown",
   "metadata": {},
   "source": [
    "### Exercício-019\n",
    "Faça um programa que leia o peso de cinco pessoas.\n",
    "No final, mostre qual foi o maior e o menor peso lidos."
   ]
  },
  {
   "cell_type": "markdown",
   "metadata": {},
   "source": [
    "### Exercício-020\n",
    "Desenvolva um programa que leia o nome, idade e sexo de 4 pessoas. No final do programa, mostre:\n",
    "- A média de idade do grupo.\n",
    "- Qual é o nome do homem mais velho.\n",
    "- Quantas mulheres têm menos de 20 anos."
   ]
  },
  {
   "cell_type": "markdown",
   "metadata": {},
   "source": [
    "### Exercício-021\n",
    "Escreva uma função em python que recebe 3 números e encontra o maior valor. Execute a função com um exemplo:"
   ]
  },
  {
   "cell_type": "markdown",
   "metadata": {},
   "source": [
    "### Exerícios-022\n",
    "Escreve uma funão que recebe uma lista e retorna os elementos únicos da lista."
   ]
  },
  {
   "cell_type": "markdown",
   "metadata": {},
   "source": [
    "### Exercício-023\n",
    "Esceva uma função em python que recebe uma cadeia de caracteres separada por hifens e retorna uma cadeida de caracteres em ordem alfabética concatenada por hifens."
   ]
  },
  {
   "cell_type": "markdown",
   "metadata": {},
   "source": [
    "### Exercício-024\n",
    "Escreva uma função em python que checa se um número é primo ou não."
   ]
  },
  {
   "cell_type": "markdown",
   "metadata": {},
   "source": [
    "### Exercício-025\n",
    "\n",
    "Escreva uma função em python que aceita uma cadeida de caracteres e calcula o número de letras maiúsculas e minúsculas."
   ]
  }
 ],
 "metadata": {
  "kernelspec": {
   "display_name": "Python 3",
   "language": "python",
   "name": "python3"
  },
  "language_info": {
   "codemirror_mode": {
    "name": "ipython",
    "version": 3
   },
   "file_extension": ".py",
   "mimetype": "text/x-python",
   "name": "python",
   "nbconvert_exporter": "python",
   "pygments_lexer": "ipython3",
   "version": "3.12.4"
  }
 },
 "nbformat": 4,
 "nbformat_minor": 2
}
