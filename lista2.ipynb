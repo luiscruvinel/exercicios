{
  "cells": [
    {
      "cell_type": "code",
      "execution_count": null,
      "metadata": {},
      "outputs": [],
      "source": [
        "import numpy as np\n",
        "import pandas as pd"
      ]
    },
    {
      "cell_type": "markdown",
      "metadata": {
        "id": "S8_6xYPQISUF"
      },
      "source": [
        "### Exercício-001\n",
        "Crie uma matriz 3x3 com valores variando de 0 a 8:"
      ]
    },
    {
      "cell_type": "code",
      "execution_count": null,
      "metadata": {},
      "outputs": [],
      "source": [
        "array = np.random.uniform(0, 9, size = (3,3))\n",
        "print(array)"
      ]
    },
    {
      "cell_type": "markdown",
      "metadata": {
        "id": "ieFoeUD9JAEp"
      },
      "source": [
        "### Exercício-002\n",
        "Adicione uma borda ao redor de uma matriz numpy. Utilize _fancy indexing_."
      ]
    },
    {
      "cell_type": "code",
      "execution_count": null,
      "metadata": {},
      "outputs": [],
      "source": [
        "def bordeador(matriz):\n",
        "    rows, collumns = matriz.shape\n",
        "    \n",
        "    matriz_com_borda = np.zeros((rows+2, collumns+2), dtype = matriz.dtype)\n",
        "    matriz_com_borda[1:-1, 1:-1] = matriz\n",
        "\n",
        "    return matriz_com_borda\n",
        "\n",
        "if __name__ == '__main__':\n",
        "    matriz_exemplo = np.random.randint(1,10, (3,3))\n",
        "    print('Aqui está uma matriz exemplo: ')\n",
        "    print(matriz_exemplo, '\\n')\n",
        "\n",
        "    print('Aqui está a matriz exemplo com borda: ')\n",
        "    print(bordeador(matriz_exemplo))\n"
      ]
    },
    {
      "cell_type": "markdown",
      "metadata": {
        "id": "RcyKxi_oJ3E2"
      },
      "source": [
        "### Exercício-003\n",
        "Mude a escala uma matriz numpy de dimensões 5x5 com a seguinte formulação:\n",
        "\n",
        "$z=\\frac{x_i-\\bar{x}}{std(x)}$"
      ]
    },
    {
      "cell_type": "code",
      "execution_count": null,
      "metadata": {},
      "outputs": [],
      "source": [
        "import numpy as np\n",
        "# np.random.seed(0)\n",
        "\n",
        "def convert_to_zscore(array):\n",
        "    mean = array.mean()\n",
        "    std = array.std()\n",
        "\n",
        "    new_array = (array-mean)/std\n",
        "    return new_array\n",
        "\n",
        "\n",
        "if __name__ == '__main__':\n",
        "    test_array = np.random.uniform(0,10, size = (5,5))\n",
        "    z_array = convert_to_zscore(test_array)\n",
        "    \n",
        "    print('Este é o array aleatoriamente gerado: ')\n",
        "    print(test_array)\n",
        "    print()\n",
        "    print('Este é o array convertido a Z-scores')\n",
        "    print(z_array)"
      ]
    },
    {
      "cell_type": "markdown",
      "metadata": {
        "id": "odIjR_hULsrJ"
      },
      "source": [
        "### Exercício-004\n",
        "Crie um `array` numpy aleatório com 10 elementos e ordene utilizando um método da biblioteca numpy.\n"
      ]
    },
    {
      "cell_type": "code",
      "execution_count": null,
      "metadata": {},
      "outputs": [],
      "source": [
        "array = np.random.randint(0, 10, (2,5))\n",
        "print(array)\n",
        "\n",
        "ordered_array = np.sort(array, axis = 1)\n",
        "print(ordered_array)"
      ]
    },
    {
      "cell_type": "markdown",
      "metadata": {
        "id": "ld-aK2J1M6Te"
      },
      "source": [
        "### Exercícios-005\n",
        "Considerando 2 `arrays` numpy unidimensionais com 10 valores execute as operações: `np.sum(A)`, `A * B`, `np.inner(A, B)`, `np.outer(A, B)`\n",
        "\n",
        "\n",
        "e explique o funcionamento de cada operação"
      ]
    },
    {
      "cell_type": "code",
      "execution_count": null,
      "metadata": {},
      "outputs": [],
      "source": [
        "print('Aqui está uma matriz exemplo chamada matriz_a: ')\n",
        "matriz_a = np.arange(1, 11, 1)\n",
        "print(matriz_a, '\\n')\n",
        "\n",
        "print('Aqui está outra matriz exemplo chamada matriz_b: ')\n",
        "matriz_b = np.arange(11, 21, 1)\n",
        "print(matriz_b, '\\n')\n",
        "\n",
        "print('A função np.sum() retorna o somatório de todos os valores presentes em uma matriz, a menos que especificado um eixo: ')\n",
        "print(f'np.sum(matriz_a) == {np.sum(matriz_a)}\\nnp.sum(matriz_b) == {np.sum(matriz_b)}\\n')\n",
        "\n",
        "print('A operação de multiplicação retorna uma terceira matriz com o valor correspondente da multiplicação de cada índice: \\nNote que é diferente da operação matemática \"multiplicação de matrizes\": ')\n",
        "print(f'matriz_a * matriz_b == {matriz_a * matriz_b}')\n",
        "\n",
        "print('\\nAs funções np.inner() e np.outer() retornam os produtos interno e externo/vetorial de uma matriz, respectivamente: ')\n",
        "print(f'np.inner(matriz_a, matriz_b) == {np.inner(matriz_a, matriz_b)} --> o resultado sempre será um escalar.')\n",
        "print(f'np.outer(matriz_a, matriz_b) == \\n{np.outer(matriz_a, matriz_b)}')\n",
        "\n",
        "# produto interno [a, b, c] * [d, e, f] = a*d + b*e + c*f\n",
        "# produto externo"
      ]
    },
    {
      "cell_type": "markdown",
      "metadata": {
        "id": "FGn9Vy8uQKYL"
      },
      "source": [
        "### Exercícios-006\n",
        "Crie uma matriz no formato 10x3, extraia linhas com valores diferentes (exemplo: `[2, 2, 3]`):"
      ]
    },
    {
      "cell_type": "code",
      "execution_count": null,
      "metadata": {},
      "outputs": [],
      "source": [
        "matriz_exemplo = np.random.randint(1, 31, (10,3))\n",
        "print('Aqui está a matriz 10x3: ')\n",
        "print(matriz_exemplo)\n",
        "\n"
      ]
    },
    {
      "cell_type": "markdown",
      "metadata": {
        "id": "JvVV9_-4VizW"
      },
      "source": [
        "### Exercícios-007\n",
        "Crie duas matrizes com números aleatórios no formato 2x3, e multiplique a primeira matriz pela transposta da segunda. Explique como o resultado da multiplicação das matrizes foi obtido."
      ]
    },
    {
      "cell_type": "code",
      "execution_count": null,
      "metadata": {},
      "outputs": [],
      "source": [
        "np.random.seed(0)\n",
        "\n",
        "matriz_a = np.random.randint(1, 7, (2,3))\n",
        "matriz_b = np.random.randint(1, 7, (2,3))\n",
        "\n",
        "print('\\nAqui está a primeira matriz 2x3 aleatória: ')\n",
        "print(matriz_a)\n",
        "\n",
        "print('\\nAqui está a segunda matriz 2x3 aleatória: ')\n",
        "print(matriz_b)\n",
        "\n",
        "print('\\nAqui está a segunda matriz transposta, \\nEla foi obtida transformando as linhas em colunas e as colunas em linhas: ')\n",
        "print(matriz_b.transpose())\n",
        "\n",
        "print('\\nAqui está o resultado da multiplicação: ')\n",
        "print(np.matmul(matriz_a, matriz_b.transpose()))\n",
        "\n",
        "print('''\\nEla foi obtida através da operação matemática de multiplicação de matrizes, \n",
        "em que cada posição LxC (linha x coluna) corresponde ao somatório da multiplicação das colunas \n",
        "da primeira matriz pelas linhas da segunda matriz''')"
      ]
    },
    {
      "cell_type": "markdown",
      "metadata": {
        "id": "KvbfGxCWYMtt"
      },
      "source": [
        "### Exercício-008\n",
        "\n",
        "Calcule o percentil de 80% no segundo eixo (_axis_) de uma matriz numpy."
      ]
    },
    {
      "cell_type": "code",
      "execution_count": null,
      "metadata": {},
      "outputs": [],
      "source": [
        "np.random.seed(0)\n",
        "\n",
        "matriz = np.random.uniform(1, 50, size = (5,5))\n",
        "\n",
        "print('Aqui está uma matriz 5x5 aleatória: ')\n",
        "print(matriz)\n",
        "\n",
        "print(f'\\nAqui está o p80 no segundo eixo: p80 == {np.percentile(matriz, 80, 1)}')"
      ]
    },
    {
      "cell_type": "markdown",
      "metadata": {
        "id": "C9xGebpXZ5sZ"
      },
      "source": [
        "### Exercício-009\n",
        "\n",
        "Crie um programa utilizando pandas para disponibilizar um sumário básico de informações contidas em um _dataframe_:\n",
        "\n",
        "Informações que devem constar no _dataframe_:\n",
        "\n",
        "nome - ['Ana', 'Dilma', 'Catarina', 'João', 'Emilia', 'Michel', 'Mateus','Laura', 'Kevin', 'Jonas']\n",
        "\n",
        "nota - [12.5, 9, 16.5, np.nan, 9, 20, 14.5, np.nan, 8, 19]\n",
        "\n",
        "tentativas - [1, 3, 2, 3, 2, 3, 1, 1, 2, 1]\n",
        "\n",
        "qualicacao - ['yes', 'no', 'yes', 'no', 'no', 'yes', 'yes', 'no', 'no', 'yes']\n",
        "\n",
        "rotulos - ['a', 'b', 'c', 'd', 'e', 'f', 'g', 'h', 'i', 'j']"
      ]
    },
    {
      "cell_type": "code",
      "execution_count": null,
      "metadata": {},
      "outputs": [],
      "source": [
        "alunos = pd.DataFrame({\n",
        "    'nome' : ['Ana', 'Dilma', 'Catarina', 'João', 'Emilia', 'Michel', 'Mateus','Laura', 'Kevin', 'Jonas'],\n",
        "    'nota' : [12.5, 9, 16.5, np.nan, 9, 20, 14.5, np.nan, 8, 19],\n",
        "    'tentativas' : [1, 3, 2, 3, 2, 3, 1, 1, 2, 1],\n",
        "    'qualificacao' : ['yes', 'no', 'yes', 'no', 'no', 'yes', 'yes', 'no', 'no', 'yes'],\n",
        "    'rotulos' : ['a', 'b', 'c', 'd', 'e', 'f', 'g', 'h', 'i', 'j'],\n",
        "})\n",
        "\n",
        "display(alunos)"
      ]
    },
    {
      "cell_type": "markdown",
      "metadata": {
        "id": "lx9Kxh_rdOwS"
      },
      "source": [
        "### Exercício-010\n",
        "Escreva num programa para encontras os _n_ menores valores em um _dataframe_ pandas."
      ]
    },
    {
      "cell_type": "code",
      "execution_count": null,
      "metadata": {},
      "outputs": [],
      "source": [
        "def menores_valores(dataframe, n):\n",
        "    array = dataframe.to_numpy()\n",
        "    sortedarray = np.sort(array.flatten())\n",
        "    \n",
        "    return sortedarray[:n]\n",
        "\n",
        "# Poderia usar também: print(df.stack().nsmallest(3))\n",
        "\n",
        "if __name__ == '__main__':\n",
        "    df = pd.DataFrame(np.random.randint(0, 100, size=(5, 4)), columns = list('ABCD'))\n",
        "    print('Aqui está um dataframe aleatório: ')\n",
        "    display(df)\n",
        "\n",
        "    print('Aqui estão os 3 menores valores do dataframe: ')\n",
        "    print(menores_valores(df, 3))\n",
        "    # Poderia usar também: \n",
        "    # print(df.stack().nsmallest(3)) # -> retorna os menores valores COM posição na tabela\n",
        "\n",
        "\n"
      ]
    },
    {
      "cell_type": "markdown",
      "metadata": {
        "id": "BuCMREBgkQKj"
      },
      "source": [
        "### Exercício-011\n",
        "Escreva um programa para encontrar dentro de um intervalo fixado (exemplo: $a<x<b$) e substituí-los por 0."
      ]
    },
    {
      "cell_type": "code",
      "execution_count": null,
      "metadata": {},
      "outputs": [],
      "source": [
        "def replace_by_zero(dataframe, lower, upper):\n",
        "    dataframe[(dataframe >=lower) & (dataframe <= upper)] = 0\n",
        "    return dataframe\n",
        "\n",
        "\n",
        "if __name__ == '__main__':\n",
        "    print('Aqui está um dataframe aleatório: ')\n",
        "    df = pd.DataFrame(np.random.randint(0, 100, size=(5, 4)), columns = list('ABCD'))\n",
        "    display(df)\n",
        "\n",
        "    print('Aqui está o dataframe com números entre 20 e 80 substituídos por 0: ')\n",
        "    display(replace_by_zero(df, 20, 80))\n"
      ]
    },
    {
      "cell_type": "markdown",
      "metadata": {
        "id": "KgthBsthoAwp"
      },
      "source": [
        "### Exercício-012\n",
        "Utilize os métodos `max` para encontrar o máximo de uma coluna em _dataframe_ pandas e depois `query` para encontrar onde os valores na coluna referida são menores que o máximo."
      ]
    },
    {
      "cell_type": "code",
      "execution_count": null,
      "metadata": {},
      "outputs": [],
      "source": [
        "def lower_than_max(dataframe, coluna):\n",
        "    max_value = (dataframe.max()[coluna])\n",
        "    print(f'O valor máximo em {coluna} é: {max_value}')\n",
        "    print(f'Aqui estão as linhas onde o valor em {coluna} é menor que o máximo:\\n')\n",
        "    print(dataframe.query(f'{coluna} < @max_value'))\n",
        "\n",
        "if __name__ == '__main__':\n",
        "    print('Aqui está um dataframe aleatório: ')\n",
        "    df = pd.DataFrame(np.random.randint(0, 100, size=(5, 4)), columns = ['coluna_A','coluna_B','coluna_C','coluna_D'])\n",
        "    display(df)\n",
        "\n",
        "    lower_than_max(df, 'coluna_A')"
      ]
    },
    {
      "cell_type": "markdown",
      "metadata": {
        "id": "36iz1oN7p1H4"
      },
      "source": [
        "### Exercício-013\n",
        "Remova os espaços na extremidade dos nomes das colunas e transforme em minúsculo utilizando o método `.str` para o conjunto de dados listado abaixo."
      ]
    },
    {
      "cell_type": "code",
      "execution_count": null,
      "metadata": {
        "id": "kjCnot90rbUq"
      },
      "outputs": [],
      "source": [
        "df = pd.DataFrame({\n",
        "    'Nome': ['Alberto Franco','Giovane Pereira','Reinaldo Oliveira', 'Elen Cavalcanti', 'Paulo Freire'],\n",
        "    'Data_de_Nascimento ': ['17/05/2002','16/02/1999','25/09/1998','11/05/2002','15/09/1997'],\n",
        "    'Idade': [18.5, 21.2, 22.5, 22, 23]\n",
        "})\n",
        "\n",
        "print('Dataframe original: ')\n",
        "display(df)\n",
        "\n",
        "df.columns = df.columns.str.lower().str.strip(' ').str.replace(' ', '_')\n",
        "print('Dataframe com colunas formatadas:')\n",
        "display(df)"
      ]
    },
    {
      "cell_type": "markdown",
      "metadata": {
        "id": "Q-9b53bArwEG"
      },
      "source": [
        "### Exercício-014\n",
        "Preencha os dados de um _dataframe_ nas posições em que os dados são nulos com um segundo _dataframe_ para o conjunto de dados listado abaixo."
      ]
    },
    {
      "cell_type": "code",
      "execution_count": 221,
      "metadata": {
        "id": "5VBA4alsruku"
      },
      "outputs": [
        {
          "data": {
            "text/html": [
              "<div>\n",
              "<style scoped>\n",
              "    .dataframe tbody tr th:only-of-type {\n",
              "        vertical-align: middle;\n",
              "    }\n",
              "\n",
              "    .dataframe tbody tr th {\n",
              "        vertical-align: top;\n",
              "    }\n",
              "\n",
              "    .dataframe thead th {\n",
              "        text-align: right;\n",
              "    }\n",
              "</style>\n",
              "<table border=\"1\" class=\"dataframe\">\n",
              "  <thead>\n",
              "    <tr style=\"text-align: right;\">\n",
              "      <th></th>\n",
              "      <th>A</th>\n",
              "      <th>B</th>\n",
              "    </tr>\n",
              "  </thead>\n",
              "  <tbody>\n",
              "    <tr>\n",
              "      <th>0</th>\n",
              "      <td>NaN</td>\n",
              "      <td>3</td>\n",
              "    </tr>\n",
              "    <tr>\n",
              "      <th>1</th>\n",
              "      <td>0.0</td>\n",
              "      <td>4</td>\n",
              "    </tr>\n",
              "    <tr>\n",
              "      <th>2</th>\n",
              "      <td>NaN</td>\n",
              "      <td>5</td>\n",
              "    </tr>\n",
              "  </tbody>\n",
              "</table>\n",
              "</div>"
            ],
            "text/plain": [
              "     A  B\n",
              "0  NaN  3\n",
              "1  0.0  4\n",
              "2  NaN  5"
            ]
          },
          "metadata": {},
          "output_type": "display_data"
        },
        {
          "data": {
            "text/html": [
              "<div>\n",
              "<style scoped>\n",
              "    .dataframe tbody tr th:only-of-type {\n",
              "        vertical-align: middle;\n",
              "    }\n",
              "\n",
              "    .dataframe tbody tr th {\n",
              "        vertical-align: top;\n",
              "    }\n",
              "\n",
              "    .dataframe thead th {\n",
              "        text-align: right;\n",
              "    }\n",
              "</style>\n",
              "<table border=\"1\" class=\"dataframe\">\n",
              "  <thead>\n",
              "    <tr style=\"text-align: right;\">\n",
              "      <th></th>\n",
              "      <th>A</th>\n",
              "      <th>B</th>\n",
              "    </tr>\n",
              "  </thead>\n",
              "  <tbody>\n",
              "    <tr>\n",
              "      <th>0</th>\n",
              "      <td>1</td>\n",
              "      <td>3.0</td>\n",
              "    </tr>\n",
              "    <tr>\n",
              "      <th>1</th>\n",
              "      <td>1</td>\n",
              "      <td>NaN</td>\n",
              "    </tr>\n",
              "    <tr>\n",
              "      <th>2</th>\n",
              "      <td>3</td>\n",
              "      <td>3.0</td>\n",
              "    </tr>\n",
              "  </tbody>\n",
              "</table>\n",
              "</div>"
            ],
            "text/plain": [
              "   A    B\n",
              "0  1  3.0\n",
              "1  1  NaN\n",
              "2  3  3.0"
            ]
          },
          "metadata": {},
          "output_type": "display_data"
        }
      ],
      "source": [
        "df1 = pd.DataFrame({'A': [None, 0, None], 'B': [3, 4, 5]})\n",
        "df2 = pd.DataFrame({'A': [1, 1, 3], 'B': [3, None, 3]})\n",
        "\n",
        "display(df1, df2)"
      ]
    },
    {
      "cell_type": "markdown",
      "metadata": {
        "id": "8UmKSJKNtK8u"
      },
      "source": [
        "### Exercício-015\n",
        "Escreva um programa que primeiro concatena dois _dataframe_ e depois faz operação de união (`merge`) com um terceiro em uma coluna especificada para o conjunto de dados listado abaixo."
      ]
    },
    {
      "cell_type": "code",
      "execution_count": null,
      "metadata": {
        "id": "QOxNqkwItgX8"
      },
      "outputs": [],
      "source": [
        "dados_estudante1 = pd.DataFrame({\n",
        "        'codigo': ['S1', 'S2', 'S3', 'S4', 'S5'],\n",
        "         'name': ['Daniela', 'Riobaldo', 'Bruno', 'Eduardo', 'Monica'],\n",
        "        'notas': [200, 210, 190, 222, 199]})\n",
        "\n",
        "dados_estudante2 = pd.DataFrame({\n",
        "        'codigo': ['S4', 'S5', 'S6', 'S7', 'S8'],\n",
        "        'name': ['Isabela', 'Carla', 'Denise', 'Carmen', 'Madalena'],\n",
        "        'notas': [201, 200, 198, 219, 201]})\n",
        "\n",
        "exam_data = pd.DataFrame({\n",
        "        'codigo': ['S1', 'S2', 'S3', 'S4', 'S5', 'S7', 'S8', 'S9', 'S10', 'S11', 'S12', 'S13'],\n",
        "        'id_prova': [23, 45, 12, 67, 21, 55, 33, 14, 56, 83, 88, 12]})"
      ]
    },
    {
      "cell_type": "markdown",
      "metadata": {
        "id": "VKcRsX1Zvnyr"
      },
      "source": [
        "### Exercício-016\n",
        "Escreva um programa que faz operação de união (`merge`) utilizando mais de uma coluna para o conjunto de dados listado abaixo."
      ]
    },
    {
      "cell_type": "code",
      "execution_count": null,
      "metadata": {
        "id": "faN_Y-P8u9Fu"
      },
      "outputs": [],
      "source": [
        "import pandas as pd\n",
        "data1 = pd.DataFrame({'key1': ['K0', 'K0', 'K1', 'K2'],\n",
        "                     'key2': ['K0', 'K1', 'K0', 'K1'],\n",
        "                     'P': ['P0', 'P1', 'P2', 'P3'],\n",
        "                     'Q': ['Q0', 'Q1', 'Q2', 'Q3']})\n",
        "data2 = pd.DataFrame({'key1': ['K0', 'K1', 'K1', 'K2'],\n",
        "                      'key2': ['K0', 'K0', 'K0', 'K0'],\n",
        "                      'R': ['R0', 'R1', 'R2', 'R3'],\n",
        "                      'S': ['S0', 'S1', 'S2', 'S3']})\n",
        "\n",
        "display(data1)\n",
        "display(data2)"
      ]
    }
  ],
  "metadata": {
    "colab": {
      "name": "lista_2_resolvida.ipynb",
      "provenance": []
    },
    "kernelspec": {
      "display_name": "Python 3",
      "name": "python3"
    },
    "language_info": {
      "codemirror_mode": {
        "name": "ipython",
        "version": 3
      },
      "file_extension": ".py",
      "mimetype": "text/x-python",
      "name": "python",
      "nbconvert_exporter": "python",
      "pygments_lexer": "ipython3",
      "version": "3.12.4"
    }
  },
  "nbformat": 4,
  "nbformat_minor": 0
}
