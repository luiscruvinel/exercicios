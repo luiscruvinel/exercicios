{
  "cells": [
    {
      "cell_type": "markdown",
      "metadata": {},
      "source": [
        "# Exercícios\n",
        "\n",
        "Noteboook para lista_2 de exercícios da disciplina de introdução à ciência de dados.\n",
        "\n",
        "autor: Luís Eduardo Cruvinel Pinto  \n",
        "data: 18/08/2024"
      ]
    },
    {
      "cell_type": "markdown",
      "metadata": {},
      "source": [
        "[![Open In Colab](https://colab.research.google.com/assets/colab-badge.svg)](https://colab.research.google.com/github/luiscruvinel/exercicios/blob/main/lista2.ipynb)"
      ]
    },
    {
      "cell_type": "code",
      "execution_count": null,
      "metadata": {},
      "outputs": [],
      "source": [
        "import numpy as np\n",
        "import pandas as pd"
      ]
    },
    {
      "cell_type": "markdown",
      "metadata": {
        "id": "S8_6xYPQISUF"
      },
      "source": [
        "### Exercício-001\n",
        "Crie uma matriz 3x3 com valores variando de 0 a 8:"
      ]
    },
    {
      "cell_type": "code",
      "execution_count": 216,
      "metadata": {},
      "outputs": [
        {
          "name": "stdout",
          "output_type": "stream",
          "text": [
            "[[3 1 4]\n",
            " [3 7 4]\n",
            " [8 3 8]]\n"
          ]
        }
      ],
      "source": [
        "array = np.random.randint(0, 9, size = (3,3))\n",
        "print(array)"
      ]
    },
    {
      "cell_type": "markdown",
      "metadata": {
        "id": "ieFoeUD9JAEp"
      },
      "source": [
        "### Exercício-002\n",
        "Adicione uma borda ao redor de uma matriz numpy. Utilize _fancy indexing_."
      ]
    },
    {
      "cell_type": "code",
      "execution_count": 222,
      "metadata": {},
      "outputs": [
        {
          "name": "stdout",
          "output_type": "stream",
          "text": [
            "Aqui está uma matriz exemplo: \n",
            "[[5 8 8]\n",
            " [1 9 5]\n",
            " [2 3 5]] \n",
            "\n",
            "Aqui está a matriz exemplo com borda: \n",
            "[[0 0 0 0 0]\n",
            " [0 5 8 8 0]\n",
            " [0 1 9 5 0]\n",
            " [0 2 3 5 0]\n",
            " [0 0 0 0 0]]\n"
          ]
        }
      ],
      "source": [
        "def bordeador(matriz):\n",
        "    rows, collumns = matriz.shape\n",
        "    \n",
        "    matriz_com_borda = np.zeros((rows+2, collumns+2), dtype = matriz.dtype)\n",
        "    matriz_com_borda[1:-1, 1:-1] = matriz\n",
        "\n",
        "    return matriz_com_borda\n",
        "\n",
        "if __name__ == '__main__':\n",
        "    matriz_exemplo = np.random.randint(1,10, (3,3))\n",
        "    print('Aqui está uma matriz exemplo: ')\n",
        "    print(matriz_exemplo, '\\n')\n",
        "\n",
        "    print('Aqui está a matriz exemplo com borda: ')\n",
        "    print(bordeador(matriz_exemplo))\n"
      ]
    },
    {
      "cell_type": "markdown",
      "metadata": {
        "id": "RcyKxi_oJ3E2"
      },
      "source": [
        "### Exercício-003\n",
        "Mude a escala uma matriz numpy de dimensões 5x5 com a seguinte formulação:\n",
        "\n",
        "$z=\\frac{x_i-\\bar{x}}{std(x)}$"
      ]
    },
    {
      "cell_type": "code",
      "execution_count": 226,
      "metadata": {},
      "outputs": [
        {
          "name": "stdout",
          "output_type": "stream",
          "text": [
            "Este é o array aleatoriamente gerado: \n",
            "[[6.30813721 1.15609656 5.68480072 1.45284734 9.94708555]\n",
            " [9.09143568 6.0315453  7.54775095 9.59984555 1.7824146 ]\n",
            " [3.83712906 4.60466555 2.08134249 7.92114327 5.13011462]\n",
            " [3.75975553 0.15303479 0.95624566 1.40628221 6.58238806]\n",
            " [7.94299848 0.14095476 6.78725183 1.18587146 0.46635526]]\n",
            "\n",
            "Este é o array convertido a Z-scores\n",
            "[[ 0.58542108 -1.04858688  0.38772528 -0.95447017  1.73954057]\n",
            " [ 1.46816486  0.4976979   0.97857378  1.62941083 -0.84994546]\n",
            " [-0.19827751  0.04515239 -0.75513826  1.09699793  0.21180246]\n",
            " [-0.2228171  -1.36671537 -1.11197108 -0.96923865  0.67240177]\n",
            " [ 1.10392947 -1.37054664  0.73737584 -1.03914355 -1.26734346]]\n"
          ]
        }
      ],
      "source": [
        "import numpy as np\n",
        "# np.random.seed(0)\n",
        "\n",
        "def convert_to_zscore(array):\n",
        "    mean = array.mean()\n",
        "    std = array.std()\n",
        "\n",
        "    new_array = (array-mean)/std\n",
        "    return new_array\n",
        "\n",
        "\n",
        "if __name__ == '__main__':\n",
        "    test_array = np.random.uniform(0,10, size = (5,5))\n",
        "    z_array = convert_to_zscore(test_array)\n",
        "    \n",
        "    print('Este é o array aleatoriamente gerado: ')\n",
        "    print(test_array)\n",
        "    print()\n",
        "    print('Este é o array convertido a Z-scores')\n",
        "    print(z_array)"
      ]
    },
    {
      "cell_type": "markdown",
      "metadata": {
        "id": "odIjR_hULsrJ"
      },
      "source": [
        "### Exercício-004\n",
        "Crie um `array` numpy aleatório com 10 elementos e ordene utilizando um método da biblioteca numpy.\n"
      ]
    },
    {
      "cell_type": "code",
      "execution_count": 231,
      "metadata": {},
      "outputs": [
        {
          "name": "stdout",
          "output_type": "stream",
          "text": [
            "[[0 6 2 3 1]\n",
            " [6 0 7 6 8]]\n",
            "[[0 1 2 3 6]\n",
            " [0 6 6 7 8]]\n"
          ]
        }
      ],
      "source": [
        "array = np.random.randint(0, 10, (2,5))\n",
        "print(array)\n",
        "\n",
        "ordered_array = np.sort(array, axis = 1)\n",
        "print(ordered_array)"
      ]
    },
    {
      "cell_type": "markdown",
      "metadata": {
        "id": "ld-aK2J1M6Te"
      },
      "source": [
        "### Exercícios-005\n",
        "Considerando 2 `arrays` numpy unidimensionais com 10 valores execute as operações: `np.sum(A)`, `A * B`, `np.inner(A, B)`, `np.outer(A, B)`\n",
        "\n",
        "\n",
        "e explique o funcionamento de cada operação"
      ]
    },
    {
      "cell_type": "code",
      "execution_count": 235,
      "metadata": {},
      "outputs": [
        {
          "name": "stdout",
          "output_type": "stream",
          "text": [
            "Aqui está uma matriz exemplo chamada matriz_a: \n",
            "[ 1  2  3  4  5  6  7  8  9 10] \n",
            "\n",
            "Aqui está outra matriz exemplo chamada matriz_b: \n",
            "[11 12 13 14 15 16 17 18 19 20] \n",
            "\n",
            "A função np.sum() retorna o somatório de todos os valores presentes em uma matriz, a menos que especificado um eixo: \n",
            "np.sum(matriz_a) == 55\n",
            "np.sum(matriz_b) == 155\n",
            "\n",
            "A operação de multiplicação retorna uma terceira matriz com o valor correspondente da multiplicação de cada índice: \n",
            "Note que é diferente da operação matemática \"multiplicação de matrizes\": \n",
            "matriz_a * matriz_b == [ 11  24  39  56  75  96 119 144 171 200]\n",
            "\n",
            "As funções np.inner() e np.outer() retornam os produtos interno e externo/vetorial de uma matriz, respectivamente: \n",
            "np.inner(matriz_a, matriz_b) == 935 --> o resultado sempre será um escalar.\n",
            "np.outer(matriz_a, matriz_b) == \n",
            "[[ 11  12  13  14  15  16  17  18  19  20]\n",
            " [ 22  24  26  28  30  32  34  36  38  40]\n",
            " [ 33  36  39  42  45  48  51  54  57  60]\n",
            " [ 44  48  52  56  60  64  68  72  76  80]\n",
            " [ 55  60  65  70  75  80  85  90  95 100]\n",
            " [ 66  72  78  84  90  96 102 108 114 120]\n",
            " [ 77  84  91  98 105 112 119 126 133 140]\n",
            " [ 88  96 104 112 120 128 136 144 152 160]\n",
            " [ 99 108 117 126 135 144 153 162 171 180]\n",
            " [110 120 130 140 150 160 170 180 190 200]]\n"
          ]
        }
      ],
      "source": [
        "print('Aqui está uma matriz exemplo chamada matriz_a: ')\n",
        "matriz_a = np.arange(1, 11, 1)\n",
        "print(matriz_a, '\\n')\n",
        "\n",
        "print('Aqui está outra matriz exemplo chamada matriz_b: ')\n",
        "matriz_b = np.arange(11, 21, 1)\n",
        "print(matriz_b, '\\n')\n",
        "\n",
        "print('A função np.sum() retorna o somatório de todos os valores presentes em uma matriz, a menos que especificado um eixo: ')\n",
        "print(f'np.sum(matriz_a) == {np.sum(matriz_a)}\\nnp.sum(matriz_b) == {np.sum(matriz_b)}\\n')\n",
        "\n",
        "print('A operação de multiplicação retorna uma terceira matriz com o valor correspondente da multiplicação de cada índice: \\nNote que é diferente da operação matemática \"multiplicação de matrizes\": ')\n",
        "print(f'matriz_a * matriz_b == {matriz_a * matriz_b}')\n",
        "\n",
        "print('\\nAs funções np.inner() e np.outer() retornam os produtos interno e externo/vetorial de uma matriz, respectivamente: ')\n",
        "print(f'np.inner(matriz_a, matriz_b) == {np.inner(matriz_a, matriz_b)} --> o resultado sempre será um escalar.')\n",
        "print(f'np.outer(matriz_a, matriz_b) == \\n{np.outer(matriz_a, matriz_b)}')\n",
        "\n",
        "# produto interno [a, b, c] * [d, e, f] = a*d + b*e + c*f\n",
        "# produto externo"
      ]
    },
    {
      "cell_type": "markdown",
      "metadata": {
        "id": "FGn9Vy8uQKYL"
      },
      "source": [
        "### Exercícios-006\n",
        "Crie uma matriz no formato 10x3, extraia linhas com valores diferentes (exemplo: `[2, 2, 3]`):"
      ]
    },
    {
      "cell_type": "code",
      "execution_count": 240,
      "metadata": {},
      "outputs": [
        {
          "name": "stdout",
          "output_type": "stream",
          "text": [
            "Aqui está a matriz 10x3:\n",
            "Um dos elementos foi substituído por \"0\" aleatoriamente.\n",
            "[[ 0  1  1]\n",
            " [ 2  2  2]\n",
            " [ 3  3  3]\n",
            " [ 4  4  4]\n",
            " [ 5  5  5]\n",
            " [ 6  6  6]\n",
            " [ 7  7  7]\n",
            " [ 8  8  8]\n",
            " [ 9  9  9]\n",
            " [10 10 10]]\n",
            "\n",
            "Agora vamos encontrar onde está o intruso!\"\n",
            "[0 1 1]\n",
            "\n",
            "Aqui está a matriz sem o intruso:\n",
            "[[ 2  2  2]\n",
            " [ 3  3  3]\n",
            " [ 4  4  4]\n",
            " [ 5  5  5]\n",
            " [ 6  6  6]\n",
            " [ 7  7  7]\n",
            " [ 8  8  8]\n",
            " [ 9  9  9]\n",
            " [10 10 10]]\n"
          ]
        }
      ],
      "source": [
        "def find_wally(array):\n",
        "    rows_to_delete = []\n",
        "\n",
        "    for i, row in enumerate(array):\n",
        "        if len(set(row)) > 1:\n",
        "            print(row)\n",
        "            rows_to_delete.append(i)\n",
        "    \n",
        "    new_array = np.delete(array, rows_to_delete, axis = 0)\n",
        "    print('\\nAqui está a matriz sem o intruso:')\n",
        "    print(new_array)\n",
        "\n",
        "if __name__ == '__main__':\n",
        "    import random\n",
        "    matriz_exemplo = np.array([[i, i, i] for i in range(1,11)])\n",
        "\n",
        "    # Substituir um elemento aleatório por zero:\n",
        "    rows, cols = matriz_exemplo.shape\n",
        "    random_row = random.randint(0, rows-1)\n",
        "    random_col = random.randint(0, cols-1)\n",
        "    matriz_exemplo[random_row, random_col] = 0\n",
        "    print('Aqui está a matriz 10x3:\\nUm dos elementos foi substituído por \"0\" aleatoriamente.')\n",
        "    print(matriz_exemplo)\n",
        "    print('\\nAgora vamos encontrar onde está o intruso!\"')\n",
        "    find_wally(matriz_exemplo)\n",
        "\n"
      ]
    },
    {
      "cell_type": "markdown",
      "metadata": {
        "id": "JvVV9_-4VizW"
      },
      "source": [
        "### Exercícios-007\n",
        "Crie duas matrizes com números aleatórios no formato 2x3, e multiplique a primeira matriz pela transposta da segunda. Explique como o resultado da multiplicação das matrizes foi obtido."
      ]
    },
    {
      "cell_type": "code",
      "execution_count": 243,
      "metadata": {},
      "outputs": [
        {
          "name": "stdout",
          "output_type": "stream",
          "text": [
            "\n",
            "Aqui está a primeira matriz 2x3 aleatória: \n",
            "[[5 6 1]\n",
            " [4 4 4]]\n",
            "\n",
            "Aqui está a segunda matriz 2x3 aleatória: \n",
            "[[2 4 6]\n",
            " [3 5 1]]\n",
            "\n",
            "Aqui está a segunda matriz transposta, \n",
            "Ela foi obtida transformando as linhas em colunas e as colunas em linhas: \n",
            "[[2 3]\n",
            " [4 5]\n",
            " [6 1]]\n",
            "\n",
            "Aqui está o resultado da multiplicação: \n",
            "[[40 46]\n",
            " [48 36]]\n",
            "\n",
            "Ela foi obtida através da operação matemática de multiplicação de matrizes, \n",
            "em que cada posição LxC (linha x coluna) corresponde ao somatório da multiplicação das colunas \n",
            "da primeira matriz pelas linhas da segunda matriz\n"
          ]
        }
      ],
      "source": [
        "np.random.seed(0)\n",
        "\n",
        "matriz_a = np.random.randint(1, 7, (2,3))\n",
        "matriz_b = np.random.randint(1, 7, (2,3))\n",
        "\n",
        "print('\\nAqui está a primeira matriz 2x3 aleatória: ')\n",
        "print(matriz_a)\n",
        "\n",
        "print('\\nAqui está a segunda matriz 2x3 aleatória: ')\n",
        "print(matriz_b)\n",
        "\n",
        "print('\\nAqui está a segunda matriz transposta, \\nEla foi obtida transformando as linhas em colunas e as colunas em linhas: ')\n",
        "print(matriz_b.transpose())\n",
        "\n",
        "print('\\nAqui está o resultado da multiplicação: ')\n",
        "print(np.matmul(matriz_a, matriz_b.transpose()))\n",
        "\n",
        "print('''\\nEla foi obtida através da operação matemática de multiplicação de matrizes, \n",
        "em que cada posição LxC (linha x coluna) corresponde ao somatório da multiplicação das colunas \n",
        "da primeira matriz pelas linhas da segunda matriz''')"
      ]
    },
    {
      "cell_type": "markdown",
      "metadata": {
        "id": "KvbfGxCWYMtt"
      },
      "source": [
        "### Exercício-008\n",
        "\n",
        "Calcule o percentil de 80% no segundo eixo (_axis_) de uma matriz numpy."
      ]
    },
    {
      "cell_type": "code",
      "execution_count": 245,
      "metadata": {},
      "outputs": [
        {
          "name": "stdout",
          "output_type": "stream",
          "text": [
            "Aqui está uma matriz 5x5 aleatória: \n",
            "[[27.89186169 36.04427895 30.53540543 27.69927597 21.75908517]\n",
            " [32.64881154 22.44177335 44.69687704 48.21947526 19.78863442]\n",
            " [39.79452687 26.91585107 28.83418349 46.35423528  4.48076685]\n",
            " [ 5.26933569  1.99070147 41.79837243 39.1296808  43.63059526]\n",
            " [48.95229877 40.15876965 23.61248875 39.24592964  6.79544687]]\n",
            "\n",
            "Aqui está o p80 no segundo eixo: p80 == [31.63718013 45.40139668 41.10646855 42.164817   41.91747547]\n"
          ]
        }
      ],
      "source": [
        "np.random.seed(0)\n",
        "\n",
        "matriz = np.random.uniform(1, 50, size = (5,5))\n",
        "\n",
        "print('Aqui está uma matriz 5x5 aleatória: ')\n",
        "print(matriz)\n",
        "\n",
        "print(f'\\nAqui está o p80 no segundo eixo: p80 == {np.percentile(matriz, 80, axis=1)}')"
      ]
    },
    {
      "cell_type": "markdown",
      "metadata": {
        "id": "C9xGebpXZ5sZ"
      },
      "source": [
        "### Exercício-009\n",
        "\n",
        "Crie um programa utilizando pandas para disponibilizar um sumário básico de informações contidas em um _dataframe_:\n",
        "\n",
        "Informações que devem constar no _dataframe_:\n",
        "\n",
        "nome - ['Ana', 'Dilma', 'Catarina', 'João', 'Emilia', 'Michel', 'Mateus','Laura', 'Kevin', 'Jonas']\n",
        "\n",
        "nota - [12.5, 9, 16.5, np.nan, 9, 20, 14.5, np.nan, 8, 19]\n",
        "\n",
        "tentativas - [1, 3, 2, 3, 2, 3, 1, 1, 2, 1]\n",
        "\n",
        "qualicacao - ['yes', 'no', 'yes', 'no', 'no', 'yes', 'yes', 'no', 'no', 'yes']\n",
        "\n",
        "rotulos - ['a', 'b', 'c', 'd', 'e', 'f', 'g', 'h', 'i', 'j']"
      ]
    },
    {
      "cell_type": "code",
      "execution_count": 247,
      "metadata": {},
      "outputs": [
        {
          "data": {
            "text/html": [
              "<div>\n",
              "<style scoped>\n",
              "    .dataframe tbody tr th:only-of-type {\n",
              "        vertical-align: middle;\n",
              "    }\n",
              "\n",
              "    .dataframe tbody tr th {\n",
              "        vertical-align: top;\n",
              "    }\n",
              "\n",
              "    .dataframe thead th {\n",
              "        text-align: right;\n",
              "    }\n",
              "</style>\n",
              "<table border=\"1\" class=\"dataframe\">\n",
              "  <thead>\n",
              "    <tr style=\"text-align: right;\">\n",
              "      <th></th>\n",
              "      <th>nome</th>\n",
              "      <th>nota</th>\n",
              "      <th>tentativas</th>\n",
              "      <th>qualificacao</th>\n",
              "      <th>rotulos</th>\n",
              "    </tr>\n",
              "  </thead>\n",
              "  <tbody>\n",
              "    <tr>\n",
              "      <th>0</th>\n",
              "      <td>Ana</td>\n",
              "      <td>12.5</td>\n",
              "      <td>1</td>\n",
              "      <td>yes</td>\n",
              "      <td>a</td>\n",
              "    </tr>\n",
              "    <tr>\n",
              "      <th>1</th>\n",
              "      <td>Dilma</td>\n",
              "      <td>9.0</td>\n",
              "      <td>3</td>\n",
              "      <td>no</td>\n",
              "      <td>b</td>\n",
              "    </tr>\n",
              "    <tr>\n",
              "      <th>2</th>\n",
              "      <td>Catarina</td>\n",
              "      <td>16.5</td>\n",
              "      <td>2</td>\n",
              "      <td>yes</td>\n",
              "      <td>c</td>\n",
              "    </tr>\n",
              "    <tr>\n",
              "      <th>3</th>\n",
              "      <td>João</td>\n",
              "      <td>NaN</td>\n",
              "      <td>3</td>\n",
              "      <td>no</td>\n",
              "      <td>d</td>\n",
              "    </tr>\n",
              "    <tr>\n",
              "      <th>4</th>\n",
              "      <td>Emilia</td>\n",
              "      <td>9.0</td>\n",
              "      <td>2</td>\n",
              "      <td>no</td>\n",
              "      <td>e</td>\n",
              "    </tr>\n",
              "    <tr>\n",
              "      <th>5</th>\n",
              "      <td>Michel</td>\n",
              "      <td>20.0</td>\n",
              "      <td>3</td>\n",
              "      <td>yes</td>\n",
              "      <td>f</td>\n",
              "    </tr>\n",
              "    <tr>\n",
              "      <th>6</th>\n",
              "      <td>Mateus</td>\n",
              "      <td>14.5</td>\n",
              "      <td>1</td>\n",
              "      <td>yes</td>\n",
              "      <td>g</td>\n",
              "    </tr>\n",
              "    <tr>\n",
              "      <th>7</th>\n",
              "      <td>Laura</td>\n",
              "      <td>NaN</td>\n",
              "      <td>1</td>\n",
              "      <td>no</td>\n",
              "      <td>h</td>\n",
              "    </tr>\n",
              "    <tr>\n",
              "      <th>8</th>\n",
              "      <td>Kevin</td>\n",
              "      <td>8.0</td>\n",
              "      <td>2</td>\n",
              "      <td>no</td>\n",
              "      <td>i</td>\n",
              "    </tr>\n",
              "    <tr>\n",
              "      <th>9</th>\n",
              "      <td>Jonas</td>\n",
              "      <td>19.0</td>\n",
              "      <td>1</td>\n",
              "      <td>yes</td>\n",
              "      <td>j</td>\n",
              "    </tr>\n",
              "  </tbody>\n",
              "</table>\n",
              "</div>"
            ],
            "text/plain": [
              "       nome  nota  tentativas qualificacao rotulos\n",
              "0       Ana  12.5           1          yes       a\n",
              "1     Dilma   9.0           3           no       b\n",
              "2  Catarina  16.5           2          yes       c\n",
              "3      João   NaN           3           no       d\n",
              "4    Emilia   9.0           2           no       e\n",
              "5    Michel  20.0           3          yes       f\n",
              "6    Mateus  14.5           1          yes       g\n",
              "7     Laura   NaN           1           no       h\n",
              "8     Kevin   8.0           2           no       i\n",
              "9     Jonas  19.0           1          yes       j"
            ]
          },
          "metadata": {},
          "output_type": "display_data"
        }
      ],
      "source": [
        "alunos = pd.DataFrame({\n",
        "    'nome' : ['Ana', 'Dilma', 'Catarina', 'João', 'Emilia', 'Michel', 'Mateus','Laura', 'Kevin', 'Jonas'],\n",
        "    'nota' : [12.5, 9, 16.5, np.nan, 9, 20, 14.5, np.nan, 8, 19],\n",
        "    'tentativas' : [1, 3, 2, 3, 2, 3, 1, 1, 2, 1],\n",
        "    'qualificacao' : ['yes', 'no', 'yes', 'no', 'no', 'yes', 'yes', 'no', 'no', 'yes'],\n",
        "    'rotulos' : ['a', 'b', 'c', 'd', 'e', 'f', 'g', 'h', 'i', 'j'],\n",
        "})\n",
        "\n",
        "display(alunos)"
      ]
    },
    {
      "cell_type": "markdown",
      "metadata": {
        "id": "lx9Kxh_rdOwS"
      },
      "source": [
        "### Exercício-010\n",
        "Escreva num programa para encontras os _n_ menores valores em um _dataframe_ pandas."
      ]
    },
    {
      "cell_type": "code",
      "execution_count": 250,
      "metadata": {},
      "outputs": [
        {
          "name": "stdout",
          "output_type": "stream",
          "text": [
            "Aqui está um dataframe aleatório: \n"
          ]
        },
        {
          "data": {
            "text/html": [
              "<div>\n",
              "<style scoped>\n",
              "    .dataframe tbody tr th:only-of-type {\n",
              "        vertical-align: middle;\n",
              "    }\n",
              "\n",
              "    .dataframe tbody tr th {\n",
              "        vertical-align: top;\n",
              "    }\n",
              "\n",
              "    .dataframe thead th {\n",
              "        text-align: right;\n",
              "    }\n",
              "</style>\n",
              "<table border=\"1\" class=\"dataframe\">\n",
              "  <thead>\n",
              "    <tr style=\"text-align: right;\">\n",
              "      <th></th>\n",
              "      <th>A</th>\n",
              "      <th>B</th>\n",
              "      <th>C</th>\n",
              "      <th>D</th>\n",
              "    </tr>\n",
              "  </thead>\n",
              "  <tbody>\n",
              "    <tr>\n",
              "      <th>0</th>\n",
              "      <td>84</td>\n",
              "      <td>75</td>\n",
              "      <td>68</td>\n",
              "      <td>6</td>\n",
              "    </tr>\n",
              "    <tr>\n",
              "      <th>1</th>\n",
              "      <td>68</td>\n",
              "      <td>47</td>\n",
              "      <td>3</td>\n",
              "      <td>76</td>\n",
              "    </tr>\n",
              "    <tr>\n",
              "      <th>2</th>\n",
              "      <td>52</td>\n",
              "      <td>78</td>\n",
              "      <td>15</td>\n",
              "      <td>20</td>\n",
              "    </tr>\n",
              "    <tr>\n",
              "      <th>3</th>\n",
              "      <td>99</td>\n",
              "      <td>58</td>\n",
              "      <td>23</td>\n",
              "      <td>79</td>\n",
              "    </tr>\n",
              "    <tr>\n",
              "      <th>4</th>\n",
              "      <td>13</td>\n",
              "      <td>85</td>\n",
              "      <td>48</td>\n",
              "      <td>49</td>\n",
              "    </tr>\n",
              "  </tbody>\n",
              "</table>\n",
              "</div>"
            ],
            "text/plain": [
              "    A   B   C   D\n",
              "0  84  75  68   6\n",
              "1  68  47   3  76\n",
              "2  52  78  15  20\n",
              "3  99  58  23  79\n",
              "4  13  85  48  49"
            ]
          },
          "metadata": {},
          "output_type": "display_data"
        },
        {
          "name": "stdout",
          "output_type": "stream",
          "text": [
            "Aqui estão os 3 menores valores do dataframe: \n",
            "[ 3  6 13]\n"
          ]
        }
      ],
      "source": [
        "def menores_valores(dataframe, n):\n",
        "    array = dataframe.to_numpy()\n",
        "    sortedarray = np.sort(array.flatten())\n",
        "    \n",
        "    return sortedarray[:n]\n",
        "\n",
        "# Poderia usar também: print(df.stack().nsmallest(3))\n",
        "\n",
        "if __name__ == '__main__':\n",
        "    df = pd.DataFrame(np.random.randint(0, 100, size=(5, 4)), columns = list('ABCD'))\n",
        "    print('Aqui está um dataframe aleatório: ')\n",
        "    display(df)\n",
        "\n",
        "    print('Aqui estão os 3 menores valores do dataframe: ')\n",
        "    print(menores_valores(df, 3))\n",
        "    # Poderia usar também: \n",
        "    # print(df.stack().nsmallest(3)) # -> retorna os menores valores COM posição na tabela\n",
        "\n",
        "\n"
      ]
    },
    {
      "cell_type": "markdown",
      "metadata": {
        "id": "BuCMREBgkQKj"
      },
      "source": [
        "### Exercício-011\n",
        "Escreva um programa para encontrar dentro de um intervalo fixado (exemplo: $a<x<b$) e substituí-los por 0."
      ]
    },
    {
      "cell_type": "code",
      "execution_count": 253,
      "metadata": {},
      "outputs": [
        {
          "name": "stdout",
          "output_type": "stream",
          "text": [
            "Aqui está um dataframe aleatório: \n"
          ]
        },
        {
          "data": {
            "text/html": [
              "<div>\n",
              "<style scoped>\n",
              "    .dataframe tbody tr th:only-of-type {\n",
              "        vertical-align: middle;\n",
              "    }\n",
              "\n",
              "    .dataframe tbody tr th {\n",
              "        vertical-align: top;\n",
              "    }\n",
              "\n",
              "    .dataframe thead th {\n",
              "        text-align: right;\n",
              "    }\n",
              "</style>\n",
              "<table border=\"1\" class=\"dataframe\">\n",
              "  <thead>\n",
              "    <tr style=\"text-align: right;\">\n",
              "      <th></th>\n",
              "      <th>A</th>\n",
              "      <th>B</th>\n",
              "      <th>C</th>\n",
              "      <th>D</th>\n",
              "    </tr>\n",
              "  </thead>\n",
              "  <tbody>\n",
              "    <tr>\n",
              "      <th>0</th>\n",
              "      <td>58</td>\n",
              "      <td>65</td>\n",
              "      <td>36</td>\n",
              "      <td>10</td>\n",
              "    </tr>\n",
              "    <tr>\n",
              "      <th>1</th>\n",
              "      <td>86</td>\n",
              "      <td>43</td>\n",
              "      <td>11</td>\n",
              "      <td>2</td>\n",
              "    </tr>\n",
              "    <tr>\n",
              "      <th>2</th>\n",
              "      <td>51</td>\n",
              "      <td>80</td>\n",
              "      <td>32</td>\n",
              "      <td>54</td>\n",
              "    </tr>\n",
              "    <tr>\n",
              "      <th>3</th>\n",
              "      <td>0</td>\n",
              "      <td>38</td>\n",
              "      <td>19</td>\n",
              "      <td>46</td>\n",
              "    </tr>\n",
              "    <tr>\n",
              "      <th>4</th>\n",
              "      <td>42</td>\n",
              "      <td>56</td>\n",
              "      <td>60</td>\n",
              "      <td>77</td>\n",
              "    </tr>\n",
              "  </tbody>\n",
              "</table>\n",
              "</div>"
            ],
            "text/plain": [
              "    A   B   C   D\n",
              "0  58  65  36  10\n",
              "1  86  43  11   2\n",
              "2  51  80  32  54\n",
              "3   0  38  19  46\n",
              "4  42  56  60  77"
            ]
          },
          "metadata": {},
          "output_type": "display_data"
        },
        {
          "name": "stdout",
          "output_type": "stream",
          "text": [
            "Aqui está o dataframe com números entre 20 e 80 substituídos por 0: \n"
          ]
        },
        {
          "data": {
            "text/html": [
              "<div>\n",
              "<style scoped>\n",
              "    .dataframe tbody tr th:only-of-type {\n",
              "        vertical-align: middle;\n",
              "    }\n",
              "\n",
              "    .dataframe tbody tr th {\n",
              "        vertical-align: top;\n",
              "    }\n",
              "\n",
              "    .dataframe thead th {\n",
              "        text-align: right;\n",
              "    }\n",
              "</style>\n",
              "<table border=\"1\" class=\"dataframe\">\n",
              "  <thead>\n",
              "    <tr style=\"text-align: right;\">\n",
              "      <th></th>\n",
              "      <th>A</th>\n",
              "      <th>B</th>\n",
              "      <th>C</th>\n",
              "      <th>D</th>\n",
              "    </tr>\n",
              "  </thead>\n",
              "  <tbody>\n",
              "    <tr>\n",
              "      <th>0</th>\n",
              "      <td>0</td>\n",
              "      <td>0</td>\n",
              "      <td>0</td>\n",
              "      <td>10</td>\n",
              "    </tr>\n",
              "    <tr>\n",
              "      <th>1</th>\n",
              "      <td>86</td>\n",
              "      <td>0</td>\n",
              "      <td>11</td>\n",
              "      <td>2</td>\n",
              "    </tr>\n",
              "    <tr>\n",
              "      <th>2</th>\n",
              "      <td>0</td>\n",
              "      <td>0</td>\n",
              "      <td>0</td>\n",
              "      <td>0</td>\n",
              "    </tr>\n",
              "    <tr>\n",
              "      <th>3</th>\n",
              "      <td>0</td>\n",
              "      <td>0</td>\n",
              "      <td>19</td>\n",
              "      <td>0</td>\n",
              "    </tr>\n",
              "    <tr>\n",
              "      <th>4</th>\n",
              "      <td>0</td>\n",
              "      <td>0</td>\n",
              "      <td>0</td>\n",
              "      <td>0</td>\n",
              "    </tr>\n",
              "  </tbody>\n",
              "</table>\n",
              "</div>"
            ],
            "text/plain": [
              "    A  B   C   D\n",
              "0   0  0   0  10\n",
              "1  86  0  11   2\n",
              "2   0  0   0   0\n",
              "3   0  0  19   0\n",
              "4   0  0   0   0"
            ]
          },
          "metadata": {},
          "output_type": "display_data"
        }
      ],
      "source": [
        "def replace_by_zero(dataframe, lower, upper):\n",
        "    dataframe[(dataframe >=lower) & (dataframe <= upper)] = 0\n",
        "    return dataframe\n",
        "\n",
        "\n",
        "if __name__ == '__main__':\n",
        "    print('Aqui está um dataframe aleatório: ')\n",
        "    df = pd.DataFrame(np.random.randint(0, 100, size=(5, 4)), columns = list('ABCD'))\n",
        "    display(df)\n",
        "\n",
        "    print('Aqui está o dataframe com números entre 20 e 80 substituídos por 0: ')\n",
        "    display(replace_by_zero(df, 20, 80))\n"
      ]
    },
    {
      "cell_type": "markdown",
      "metadata": {
        "id": "KgthBsthoAwp"
      },
      "source": [
        "### Exercício-012\n",
        "Utilize os métodos `max` para encontrar o máximo de uma coluna em _dataframe_ pandas e depois `query` para encontrar onde os valores na coluna referida são menores que o máximo."
      ]
    },
    {
      "cell_type": "code",
      "execution_count": 266,
      "metadata": {},
      "outputs": [
        {
          "name": "stdout",
          "output_type": "stream",
          "text": [
            "Aqui está um dataframe aleatório: \n"
          ]
        },
        {
          "data": {
            "text/html": [
              "<div>\n",
              "<style scoped>\n",
              "    .dataframe tbody tr th:only-of-type {\n",
              "        vertical-align: middle;\n",
              "    }\n",
              "\n",
              "    .dataframe tbody tr th {\n",
              "        vertical-align: top;\n",
              "    }\n",
              "\n",
              "    .dataframe thead th {\n",
              "        text-align: right;\n",
              "    }\n",
              "</style>\n",
              "<table border=\"1\" class=\"dataframe\">\n",
              "  <thead>\n",
              "    <tr style=\"text-align: right;\">\n",
              "      <th></th>\n",
              "      <th>coluna_A</th>\n",
              "      <th>coluna_B</th>\n",
              "      <th>coluna_C</th>\n",
              "      <th>coluna_D</th>\n",
              "    </tr>\n",
              "  </thead>\n",
              "  <tbody>\n",
              "    <tr>\n",
              "      <th>0</th>\n",
              "      <td>58</td>\n",
              "      <td>43</td>\n",
              "      <td>55</td>\n",
              "      <td>18</td>\n",
              "    </tr>\n",
              "    <tr>\n",
              "      <th>1</th>\n",
              "      <td>45</td>\n",
              "      <td>87</td>\n",
              "      <td>65</td>\n",
              "      <td>70</td>\n",
              "    </tr>\n",
              "    <tr>\n",
              "      <th>2</th>\n",
              "      <td>53</td>\n",
              "      <td>48</td>\n",
              "      <td>94</td>\n",
              "      <td>59</td>\n",
              "    </tr>\n",
              "    <tr>\n",
              "      <th>3</th>\n",
              "      <td>80</td>\n",
              "      <td>26</td>\n",
              "      <td>35</td>\n",
              "      <td>58</td>\n",
              "    </tr>\n",
              "    <tr>\n",
              "      <th>4</th>\n",
              "      <td>49</td>\n",
              "      <td>73</td>\n",
              "      <td>44</td>\n",
              "      <td>13</td>\n",
              "    </tr>\n",
              "  </tbody>\n",
              "</table>\n",
              "</div>"
            ],
            "text/plain": [
              "   coluna_A  coluna_B  coluna_C  coluna_D\n",
              "0        58        43        55        18\n",
              "1        45        87        65        70\n",
              "2        53        48        94        59\n",
              "3        80        26        35        58\n",
              "4        49        73        44        13"
            ]
          },
          "metadata": {},
          "output_type": "display_data"
        },
        {
          "name": "stdout",
          "output_type": "stream",
          "text": [
            "O valor máximo em coluna_A é: 80\n",
            "Aqui estão as linhas onde o valor em coluna_A é menor que o máximo:\n",
            "\n"
          ]
        },
        {
          "data": {
            "text/html": [
              "<div>\n",
              "<style scoped>\n",
              "    .dataframe tbody tr th:only-of-type {\n",
              "        vertical-align: middle;\n",
              "    }\n",
              "\n",
              "    .dataframe tbody tr th {\n",
              "        vertical-align: top;\n",
              "    }\n",
              "\n",
              "    .dataframe thead th {\n",
              "        text-align: right;\n",
              "    }\n",
              "</style>\n",
              "<table border=\"1\" class=\"dataframe\">\n",
              "  <thead>\n",
              "    <tr style=\"text-align: right;\">\n",
              "      <th></th>\n",
              "      <th>coluna_A</th>\n",
              "      <th>coluna_B</th>\n",
              "      <th>coluna_C</th>\n",
              "      <th>coluna_D</th>\n",
              "    </tr>\n",
              "  </thead>\n",
              "  <tbody>\n",
              "    <tr>\n",
              "      <th>0</th>\n",
              "      <td>58</td>\n",
              "      <td>43</td>\n",
              "      <td>55</td>\n",
              "      <td>18</td>\n",
              "    </tr>\n",
              "    <tr>\n",
              "      <th>1</th>\n",
              "      <td>45</td>\n",
              "      <td>87</td>\n",
              "      <td>65</td>\n",
              "      <td>70</td>\n",
              "    </tr>\n",
              "    <tr>\n",
              "      <th>2</th>\n",
              "      <td>53</td>\n",
              "      <td>48</td>\n",
              "      <td>94</td>\n",
              "      <td>59</td>\n",
              "    </tr>\n",
              "    <tr>\n",
              "      <th>4</th>\n",
              "      <td>49</td>\n",
              "      <td>73</td>\n",
              "      <td>44</td>\n",
              "      <td>13</td>\n",
              "    </tr>\n",
              "  </tbody>\n",
              "</table>\n",
              "</div>"
            ],
            "text/plain": [
              "   coluna_A  coluna_B  coluna_C  coluna_D\n",
              "0        58        43        55        18\n",
              "1        45        87        65        70\n",
              "2        53        48        94        59\n",
              "4        49        73        44        13"
            ]
          },
          "metadata": {},
          "output_type": "display_data"
        }
      ],
      "source": [
        "def lower_than_max(dataframe, coluna):\n",
        "    max_value = (dataframe.max()[coluna])\n",
        "    print(f'O valor máximo em {coluna} é: {max_value}')\n",
        "    print(f'Aqui estão as linhas onde o valor em {coluna} é menor que o máximo:\\n')\n",
        "    display(dataframe.query(f'{coluna} < @max_value'))\n",
        "\n",
        "if __name__ == '__main__':\n",
        "    print('Aqui está um dataframe aleatório: ')\n",
        "    df = pd.DataFrame(np.random.randint(0, 100, size=(5, 4)), columns = ['coluna_A','coluna_B','coluna_C','coluna_D'])\n",
        "    display(df)\n",
        "\n",
        "    lower_than_max(df, 'coluna_A')"
      ]
    },
    {
      "cell_type": "markdown",
      "metadata": {
        "id": "36iz1oN7p1H4"
      },
      "source": [
        "### Exercício-013\n",
        "Remova os espaços na extremidade dos nomes das colunas e transforme em minúsculo utilizando o método `.str` para o conjunto de dados listado abaixo."
      ]
    },
    {
      "cell_type": "code",
      "execution_count": 270,
      "metadata": {
        "id": "kjCnot90rbUq"
      },
      "outputs": [
        {
          "name": "stdout",
          "output_type": "stream",
          "text": [
            "Dataframe original: \n"
          ]
        },
        {
          "data": {
            "text/html": [
              "<div>\n",
              "<style scoped>\n",
              "    .dataframe tbody tr th:only-of-type {\n",
              "        vertical-align: middle;\n",
              "    }\n",
              "\n",
              "    .dataframe tbody tr th {\n",
              "        vertical-align: top;\n",
              "    }\n",
              "\n",
              "    .dataframe thead th {\n",
              "        text-align: right;\n",
              "    }\n",
              "</style>\n",
              "<table border=\"1\" class=\"dataframe\">\n",
              "  <thead>\n",
              "    <tr style=\"text-align: right;\">\n",
              "      <th></th>\n",
              "      <th>Nome</th>\n",
              "      <th>Data_de_Nascimento</th>\n",
              "      <th>Idade</th>\n",
              "    </tr>\n",
              "  </thead>\n",
              "  <tbody>\n",
              "    <tr>\n",
              "      <th>0</th>\n",
              "      <td>Alberto Franco</td>\n",
              "      <td>17/05/2002</td>\n",
              "      <td>18.5</td>\n",
              "    </tr>\n",
              "    <tr>\n",
              "      <th>1</th>\n",
              "      <td>Giovane Pereira</td>\n",
              "      <td>16/02/1999</td>\n",
              "      <td>21.2</td>\n",
              "    </tr>\n",
              "    <tr>\n",
              "      <th>2</th>\n",
              "      <td>Reinaldo Oliveira</td>\n",
              "      <td>25/09/1998</td>\n",
              "      <td>22.5</td>\n",
              "    </tr>\n",
              "    <tr>\n",
              "      <th>3</th>\n",
              "      <td>Elen Cavalcanti</td>\n",
              "      <td>11/05/2002</td>\n",
              "      <td>22.0</td>\n",
              "    </tr>\n",
              "    <tr>\n",
              "      <th>4</th>\n",
              "      <td>Paulo Freire</td>\n",
              "      <td>15/09/1997</td>\n",
              "      <td>23.0</td>\n",
              "    </tr>\n",
              "  </tbody>\n",
              "</table>\n",
              "</div>"
            ],
            "text/plain": [
              "                Nome Data_de_Nascimento   Idade\n",
              "0     Alberto Franco          17/05/2002   18.5\n",
              "1    Giovane Pereira          16/02/1999   21.2\n",
              "2  Reinaldo Oliveira          25/09/1998   22.5\n",
              "3    Elen Cavalcanti          11/05/2002   22.0\n",
              "4       Paulo Freire          15/09/1997   23.0"
            ]
          },
          "metadata": {},
          "output_type": "display_data"
        },
        {
          "name": "stdout",
          "output_type": "stream",
          "text": [
            "Dataframe com colunas formatadas:\n"
          ]
        },
        {
          "data": {
            "text/html": [
              "<div>\n",
              "<style scoped>\n",
              "    .dataframe tbody tr th:only-of-type {\n",
              "        vertical-align: middle;\n",
              "    }\n",
              "\n",
              "    .dataframe tbody tr th {\n",
              "        vertical-align: top;\n",
              "    }\n",
              "\n",
              "    .dataframe thead th {\n",
              "        text-align: right;\n",
              "    }\n",
              "</style>\n",
              "<table border=\"1\" class=\"dataframe\">\n",
              "  <thead>\n",
              "    <tr style=\"text-align: right;\">\n",
              "      <th></th>\n",
              "      <th>nome</th>\n",
              "      <th>data_de_nascimento</th>\n",
              "      <th>idade</th>\n",
              "    </tr>\n",
              "  </thead>\n",
              "  <tbody>\n",
              "    <tr>\n",
              "      <th>0</th>\n",
              "      <td>Alberto Franco</td>\n",
              "      <td>17/05/2002</td>\n",
              "      <td>18.5</td>\n",
              "    </tr>\n",
              "    <tr>\n",
              "      <th>1</th>\n",
              "      <td>Giovane Pereira</td>\n",
              "      <td>16/02/1999</td>\n",
              "      <td>21.2</td>\n",
              "    </tr>\n",
              "    <tr>\n",
              "      <th>2</th>\n",
              "      <td>Reinaldo Oliveira</td>\n",
              "      <td>25/09/1998</td>\n",
              "      <td>22.5</td>\n",
              "    </tr>\n",
              "    <tr>\n",
              "      <th>3</th>\n",
              "      <td>Elen Cavalcanti</td>\n",
              "      <td>11/05/2002</td>\n",
              "      <td>22.0</td>\n",
              "    </tr>\n",
              "    <tr>\n",
              "      <th>4</th>\n",
              "      <td>Paulo Freire</td>\n",
              "      <td>15/09/1997</td>\n",
              "      <td>23.0</td>\n",
              "    </tr>\n",
              "  </tbody>\n",
              "</table>\n",
              "</div>"
            ],
            "text/plain": [
              "                nome data_de_nascimento  idade\n",
              "0     Alberto Franco         17/05/2002   18.5\n",
              "1    Giovane Pereira         16/02/1999   21.2\n",
              "2  Reinaldo Oliveira         25/09/1998   22.5\n",
              "3    Elen Cavalcanti         11/05/2002   22.0\n",
              "4       Paulo Freire         15/09/1997   23.0"
            ]
          },
          "metadata": {},
          "output_type": "display_data"
        }
      ],
      "source": [
        "df = pd.DataFrame({\n",
        "    'Nome': ['Alberto Franco','Giovane Pereira','Reinaldo Oliveira', 'Elen Cavalcanti', 'Paulo Freire'],\n",
        "    'Data_de_Nascimento ': ['17/05/2002','16/02/1999','25/09/1998','11/05/2002','15/09/1997'],\n",
        "    'Idade': [18.5, 21.2, 22.5, 22, 23]\n",
        "})\n",
        "\n",
        "print('Dataframe original: ')\n",
        "display(df)\n",
        "\n",
        "df.columns = df.columns.str.lower().str.strip(' ').str.replace(' ', '_')\n",
        "print('Dataframe com colunas formatadas:')\n",
        "display(df)"
      ]
    },
    {
      "cell_type": "markdown",
      "metadata": {
        "id": "Q-9b53bArwEG"
      },
      "source": [
        "### Exercício-014\n",
        "Preencha os dados de um _dataframe_ nas posições em que os dados são nulos com um segundo _dataframe_ para o conjunto de dados listado abaixo."
      ]
    },
    {
      "cell_type": "code",
      "execution_count": 273,
      "metadata": {
        "id": "5VBA4alsruku"
      },
      "outputs": [
        {
          "name": "stdout",
          "output_type": "stream",
          "text": [
            "Aqui estão os dataframes originais: \n"
          ]
        },
        {
          "data": {
            "text/html": [
              "<div>\n",
              "<style scoped>\n",
              "    .dataframe tbody tr th:only-of-type {\n",
              "        vertical-align: middle;\n",
              "    }\n",
              "\n",
              "    .dataframe tbody tr th {\n",
              "        vertical-align: top;\n",
              "    }\n",
              "\n",
              "    .dataframe thead th {\n",
              "        text-align: right;\n",
              "    }\n",
              "</style>\n",
              "<table border=\"1\" class=\"dataframe\">\n",
              "  <thead>\n",
              "    <tr style=\"text-align: right;\">\n",
              "      <th></th>\n",
              "      <th>A</th>\n",
              "      <th>B</th>\n",
              "    </tr>\n",
              "  </thead>\n",
              "  <tbody>\n",
              "    <tr>\n",
              "      <th>0</th>\n",
              "      <td>NaN</td>\n",
              "      <td>3</td>\n",
              "    </tr>\n",
              "    <tr>\n",
              "      <th>1</th>\n",
              "      <td>0.0</td>\n",
              "      <td>4</td>\n",
              "    </tr>\n",
              "    <tr>\n",
              "      <th>2</th>\n",
              "      <td>NaN</td>\n",
              "      <td>5</td>\n",
              "    </tr>\n",
              "  </tbody>\n",
              "</table>\n",
              "</div>"
            ],
            "text/plain": [
              "     A  B\n",
              "0  NaN  3\n",
              "1  0.0  4\n",
              "2  NaN  5"
            ]
          },
          "metadata": {},
          "output_type": "display_data"
        },
        {
          "data": {
            "text/html": [
              "<div>\n",
              "<style scoped>\n",
              "    .dataframe tbody tr th:only-of-type {\n",
              "        vertical-align: middle;\n",
              "    }\n",
              "\n",
              "    .dataframe tbody tr th {\n",
              "        vertical-align: top;\n",
              "    }\n",
              "\n",
              "    .dataframe thead th {\n",
              "        text-align: right;\n",
              "    }\n",
              "</style>\n",
              "<table border=\"1\" class=\"dataframe\">\n",
              "  <thead>\n",
              "    <tr style=\"text-align: right;\">\n",
              "      <th></th>\n",
              "      <th>A</th>\n",
              "      <th>B</th>\n",
              "    </tr>\n",
              "  </thead>\n",
              "  <tbody>\n",
              "    <tr>\n",
              "      <th>0</th>\n",
              "      <td>1</td>\n",
              "      <td>3.0</td>\n",
              "    </tr>\n",
              "    <tr>\n",
              "      <th>1</th>\n",
              "      <td>1</td>\n",
              "      <td>NaN</td>\n",
              "    </tr>\n",
              "    <tr>\n",
              "      <th>2</th>\n",
              "      <td>3</td>\n",
              "      <td>3.0</td>\n",
              "    </tr>\n",
              "  </tbody>\n",
              "</table>\n",
              "</div>"
            ],
            "text/plain": [
              "   A    B\n",
              "0  1  3.0\n",
              "1  1  NaN\n",
              "2  3  3.0"
            ]
          },
          "metadata": {},
          "output_type": "display_data"
        },
        {
          "name": "stdout",
          "output_type": "stream",
          "text": [
            "Aqui estão os dataframes com seus nulos substituídos: \n"
          ]
        },
        {
          "data": {
            "text/html": [
              "<div>\n",
              "<style scoped>\n",
              "    .dataframe tbody tr th:only-of-type {\n",
              "        vertical-align: middle;\n",
              "    }\n",
              "\n",
              "    .dataframe tbody tr th {\n",
              "        vertical-align: top;\n",
              "    }\n",
              "\n",
              "    .dataframe thead th {\n",
              "        text-align: right;\n",
              "    }\n",
              "</style>\n",
              "<table border=\"1\" class=\"dataframe\">\n",
              "  <thead>\n",
              "    <tr style=\"text-align: right;\">\n",
              "      <th></th>\n",
              "      <th>A</th>\n",
              "      <th>B</th>\n",
              "    </tr>\n",
              "  </thead>\n",
              "  <tbody>\n",
              "    <tr>\n",
              "      <th>0</th>\n",
              "      <td>1.0</td>\n",
              "      <td>3</td>\n",
              "    </tr>\n",
              "    <tr>\n",
              "      <th>1</th>\n",
              "      <td>0.0</td>\n",
              "      <td>4</td>\n",
              "    </tr>\n",
              "    <tr>\n",
              "      <th>2</th>\n",
              "      <td>3.0</td>\n",
              "      <td>5</td>\n",
              "    </tr>\n",
              "  </tbody>\n",
              "</table>\n",
              "</div>"
            ],
            "text/plain": [
              "     A  B\n",
              "0  1.0  3\n",
              "1  0.0  4\n",
              "2  3.0  5"
            ]
          },
          "metadata": {},
          "output_type": "display_data"
        },
        {
          "data": {
            "text/html": [
              "<div>\n",
              "<style scoped>\n",
              "    .dataframe tbody tr th:only-of-type {\n",
              "        vertical-align: middle;\n",
              "    }\n",
              "\n",
              "    .dataframe tbody tr th {\n",
              "        vertical-align: top;\n",
              "    }\n",
              "\n",
              "    .dataframe thead th {\n",
              "        text-align: right;\n",
              "    }\n",
              "</style>\n",
              "<table border=\"1\" class=\"dataframe\">\n",
              "  <thead>\n",
              "    <tr style=\"text-align: right;\">\n",
              "      <th></th>\n",
              "      <th>A</th>\n",
              "      <th>B</th>\n",
              "    </tr>\n",
              "  </thead>\n",
              "  <tbody>\n",
              "    <tr>\n",
              "      <th>0</th>\n",
              "      <td>1</td>\n",
              "      <td>3.0</td>\n",
              "    </tr>\n",
              "    <tr>\n",
              "      <th>1</th>\n",
              "      <td>1</td>\n",
              "      <td>4.0</td>\n",
              "    </tr>\n",
              "    <tr>\n",
              "      <th>2</th>\n",
              "      <td>3</td>\n",
              "      <td>3.0</td>\n",
              "    </tr>\n",
              "  </tbody>\n",
              "</table>\n",
              "</div>"
            ],
            "text/plain": [
              "   A    B\n",
              "0  1  3.0\n",
              "1  1  4.0\n",
              "2  3  3.0"
            ]
          },
          "metadata": {},
          "output_type": "display_data"
        }
      ],
      "source": [
        "df1 = pd.DataFrame({'A': [None, 0, None], 'B': [3, 4, 5]})\n",
        "df2 = pd.DataFrame({'A': [1, 1, 3], 'B': [3, None, 3]})\n",
        "\n",
        "print('Aqui estão os dataframes originais: ')\n",
        "display(df1, df2)\n",
        "\n",
        "df1 = df1.fillna(df2)\n",
        "df2 = df2.fillna(df1)\n",
        "\n",
        "print('Aqui estão os dataframes com seus nulos substituídos: ')\n",
        "display(df1, df2)"
      ]
    },
    {
      "cell_type": "markdown",
      "metadata": {
        "id": "8UmKSJKNtK8u"
      },
      "source": [
        "### Exercício-015\n",
        "Escreva um programa que primeiro concatena dois _dataframe_ e depois faz operação de união (`merge`) com um terceiro em uma coluna especificada para o conjunto de dados listado abaixo."
      ]
    },
    {
      "cell_type": "code",
      "execution_count": 298,
      "metadata": {
        "id": "QOxNqkwItgX8"
      },
      "outputs": [
        {
          "data": {
            "text/html": [
              "<div>\n",
              "<style scoped>\n",
              "    .dataframe tbody tr th:only-of-type {\n",
              "        vertical-align: middle;\n",
              "    }\n",
              "\n",
              "    .dataframe tbody tr th {\n",
              "        vertical-align: top;\n",
              "    }\n",
              "\n",
              "    .dataframe thead th {\n",
              "        text-align: right;\n",
              "    }\n",
              "</style>\n",
              "<table border=\"1\" class=\"dataframe\">\n",
              "  <thead>\n",
              "    <tr style=\"text-align: right;\">\n",
              "      <th></th>\n",
              "      <th>codigo</th>\n",
              "      <th>name</th>\n",
              "      <th>notas</th>\n",
              "      <th>id_prova</th>\n",
              "    </tr>\n",
              "  </thead>\n",
              "  <tbody>\n",
              "    <tr>\n",
              "      <th>0</th>\n",
              "      <td>S1</td>\n",
              "      <td>Daniela</td>\n",
              "      <td>200</td>\n",
              "      <td>23</td>\n",
              "    </tr>\n",
              "    <tr>\n",
              "      <th>1</th>\n",
              "      <td>S2</td>\n",
              "      <td>Riobaldo</td>\n",
              "      <td>210</td>\n",
              "      <td>45</td>\n",
              "    </tr>\n",
              "    <tr>\n",
              "      <th>2</th>\n",
              "      <td>S3</td>\n",
              "      <td>Bruno</td>\n",
              "      <td>190</td>\n",
              "      <td>12</td>\n",
              "    </tr>\n",
              "    <tr>\n",
              "      <th>3</th>\n",
              "      <td>S4</td>\n",
              "      <td>Eduardo</td>\n",
              "      <td>222</td>\n",
              "      <td>67</td>\n",
              "    </tr>\n",
              "    <tr>\n",
              "      <th>4</th>\n",
              "      <td>S5</td>\n",
              "      <td>Monica</td>\n",
              "      <td>199</td>\n",
              "      <td>21</td>\n",
              "    </tr>\n",
              "    <tr>\n",
              "      <th>5</th>\n",
              "      <td>S4</td>\n",
              "      <td>Isabela</td>\n",
              "      <td>201</td>\n",
              "      <td>67</td>\n",
              "    </tr>\n",
              "    <tr>\n",
              "      <th>6</th>\n",
              "      <td>S5</td>\n",
              "      <td>Carla</td>\n",
              "      <td>200</td>\n",
              "      <td>21</td>\n",
              "    </tr>\n",
              "    <tr>\n",
              "      <th>7</th>\n",
              "      <td>S7</td>\n",
              "      <td>Carmen</td>\n",
              "      <td>219</td>\n",
              "      <td>55</td>\n",
              "    </tr>\n",
              "    <tr>\n",
              "      <th>8</th>\n",
              "      <td>S8</td>\n",
              "      <td>Madalena</td>\n",
              "      <td>201</td>\n",
              "      <td>33</td>\n",
              "    </tr>\n",
              "  </tbody>\n",
              "</table>\n",
              "</div>"
            ],
            "text/plain": [
              "  codigo      name  notas  id_prova\n",
              "0     S1   Daniela    200        23\n",
              "1     S2  Riobaldo    210        45\n",
              "2     S3     Bruno    190        12\n",
              "3     S4   Eduardo    222        67\n",
              "4     S5    Monica    199        21\n",
              "5     S4   Isabela    201        67\n",
              "6     S5     Carla    200        21\n",
              "7     S7    Carmen    219        55\n",
              "8     S8  Madalena    201        33"
            ]
          },
          "metadata": {},
          "output_type": "display_data"
        }
      ],
      "source": [
        "dados_estudante1 = pd.DataFrame({\n",
        "        'codigo': ['S1', 'S2', 'S3', 'S4', 'S5'],\n",
        "         'name': ['Daniela', 'Riobaldo', 'Bruno', 'Eduardo', 'Monica'],\n",
        "        'notas': [200, 210, 190, 222, 199]})\n",
        "\n",
        "dados_estudante2 = pd.DataFrame({\n",
        "        'codigo': ['S4', 'S5', 'S6', 'S7', 'S8'],\n",
        "        'name': ['Isabela', 'Carla', 'Denise', 'Carmen', 'Madalena'],\n",
        "        'notas': [201, 200, 198, 219, 201]})\n",
        "\n",
        "exam_data = pd.DataFrame({\n",
        "        'codigo': ['S1', 'S2', 'S3', 'S4', 'S5', 'S7', 'S8', 'S9', 'S10', 'S11', 'S12', 'S13'],\n",
        "        'id_prova': [23, 45, 12, 67, 21, 55, 33, 14, 56, 83, 88, 12]})\n",
        "\n",
        "todos_estudantes = pd.concat((dados_estudante1, dados_estudante2)).reset_index(drop=True)\n",
        "full_data = pd.merge(todos_estudantes, exam_data, on='codigo', how='inner') # especificando on e inner apenas para deixar claro\n",
        "display(full_data)"
      ]
    },
    {
      "cell_type": "markdown",
      "metadata": {
        "id": "VKcRsX1Zvnyr"
      },
      "source": [
        "### Exercício-016\n",
        "Escreva um programa que faz operação de união (`merge`) utilizando mais de uma coluna para o conjunto de dados listado abaixo."
      ]
    },
    {
      "cell_type": "code",
      "execution_count": 299,
      "metadata": {
        "id": "faN_Y-P8u9Fu"
      },
      "outputs": [
        {
          "data": {
            "text/html": [
              "<div>\n",
              "<style scoped>\n",
              "    .dataframe tbody tr th:only-of-type {\n",
              "        vertical-align: middle;\n",
              "    }\n",
              "\n",
              "    .dataframe tbody tr th {\n",
              "        vertical-align: top;\n",
              "    }\n",
              "\n",
              "    .dataframe thead th {\n",
              "        text-align: right;\n",
              "    }\n",
              "</style>\n",
              "<table border=\"1\" class=\"dataframe\">\n",
              "  <thead>\n",
              "    <tr style=\"text-align: right;\">\n",
              "      <th></th>\n",
              "      <th>key1</th>\n",
              "      <th>key2</th>\n",
              "      <th>P</th>\n",
              "      <th>Q</th>\n",
              "    </tr>\n",
              "  </thead>\n",
              "  <tbody>\n",
              "    <tr>\n",
              "      <th>0</th>\n",
              "      <td>K0</td>\n",
              "      <td>K0</td>\n",
              "      <td>P0</td>\n",
              "      <td>Q0</td>\n",
              "    </tr>\n",
              "    <tr>\n",
              "      <th>1</th>\n",
              "      <td>K0</td>\n",
              "      <td>K1</td>\n",
              "      <td>P1</td>\n",
              "      <td>Q1</td>\n",
              "    </tr>\n",
              "    <tr>\n",
              "      <th>2</th>\n",
              "      <td>K1</td>\n",
              "      <td>K0</td>\n",
              "      <td>P2</td>\n",
              "      <td>Q2</td>\n",
              "    </tr>\n",
              "    <tr>\n",
              "      <th>3</th>\n",
              "      <td>K2</td>\n",
              "      <td>K1</td>\n",
              "      <td>P3</td>\n",
              "      <td>Q3</td>\n",
              "    </tr>\n",
              "  </tbody>\n",
              "</table>\n",
              "</div>"
            ],
            "text/plain": [
              "  key1 key2   P   Q\n",
              "0   K0   K0  P0  Q0\n",
              "1   K0   K1  P1  Q1\n",
              "2   K1   K0  P2  Q2\n",
              "3   K2   K1  P3  Q3"
            ]
          },
          "metadata": {},
          "output_type": "display_data"
        },
        {
          "data": {
            "text/html": [
              "<div>\n",
              "<style scoped>\n",
              "    .dataframe tbody tr th:only-of-type {\n",
              "        vertical-align: middle;\n",
              "    }\n",
              "\n",
              "    .dataframe tbody tr th {\n",
              "        vertical-align: top;\n",
              "    }\n",
              "\n",
              "    .dataframe thead th {\n",
              "        text-align: right;\n",
              "    }\n",
              "</style>\n",
              "<table border=\"1\" class=\"dataframe\">\n",
              "  <thead>\n",
              "    <tr style=\"text-align: right;\">\n",
              "      <th></th>\n",
              "      <th>key1</th>\n",
              "      <th>key2</th>\n",
              "      <th>R</th>\n",
              "      <th>S</th>\n",
              "    </tr>\n",
              "  </thead>\n",
              "  <tbody>\n",
              "    <tr>\n",
              "      <th>0</th>\n",
              "      <td>K0</td>\n",
              "      <td>K0</td>\n",
              "      <td>R0</td>\n",
              "      <td>S0</td>\n",
              "    </tr>\n",
              "    <tr>\n",
              "      <th>1</th>\n",
              "      <td>K1</td>\n",
              "      <td>K0</td>\n",
              "      <td>R1</td>\n",
              "      <td>S1</td>\n",
              "    </tr>\n",
              "    <tr>\n",
              "      <th>2</th>\n",
              "      <td>K1</td>\n",
              "      <td>K0</td>\n",
              "      <td>R2</td>\n",
              "      <td>S2</td>\n",
              "    </tr>\n",
              "    <tr>\n",
              "      <th>3</th>\n",
              "      <td>K2</td>\n",
              "      <td>K0</td>\n",
              "      <td>R3</td>\n",
              "      <td>S3</td>\n",
              "    </tr>\n",
              "  </tbody>\n",
              "</table>\n",
              "</div>"
            ],
            "text/plain": [
              "  key1 key2   R   S\n",
              "0   K0   K0  R0  S0\n",
              "1   K1   K0  R1  S1\n",
              "2   K1   K0  R2  S2\n",
              "3   K2   K0  R3  S3"
            ]
          },
          "metadata": {},
          "output_type": "display_data"
        },
        {
          "data": {
            "text/html": [
              "<div>\n",
              "<style scoped>\n",
              "    .dataframe tbody tr th:only-of-type {\n",
              "        vertical-align: middle;\n",
              "    }\n",
              "\n",
              "    .dataframe tbody tr th {\n",
              "        vertical-align: top;\n",
              "    }\n",
              "\n",
              "    .dataframe thead th {\n",
              "        text-align: right;\n",
              "    }\n",
              "</style>\n",
              "<table border=\"1\" class=\"dataframe\">\n",
              "  <thead>\n",
              "    <tr style=\"text-align: right;\">\n",
              "      <th></th>\n",
              "      <th>key1</th>\n",
              "      <th>key2</th>\n",
              "      <th>P</th>\n",
              "      <th>Q</th>\n",
              "      <th>R</th>\n",
              "      <th>S</th>\n",
              "    </tr>\n",
              "  </thead>\n",
              "  <tbody>\n",
              "    <tr>\n",
              "      <th>0</th>\n",
              "      <td>K0</td>\n",
              "      <td>K0</td>\n",
              "      <td>P0</td>\n",
              "      <td>Q0</td>\n",
              "      <td>R0</td>\n",
              "      <td>S0</td>\n",
              "    </tr>\n",
              "    <tr>\n",
              "      <th>1</th>\n",
              "      <td>K1</td>\n",
              "      <td>K0</td>\n",
              "      <td>P2</td>\n",
              "      <td>Q2</td>\n",
              "      <td>R1</td>\n",
              "      <td>S1</td>\n",
              "    </tr>\n",
              "    <tr>\n",
              "      <th>2</th>\n",
              "      <td>K1</td>\n",
              "      <td>K0</td>\n",
              "      <td>P2</td>\n",
              "      <td>Q2</td>\n",
              "      <td>R2</td>\n",
              "      <td>S2</td>\n",
              "    </tr>\n",
              "  </tbody>\n",
              "</table>\n",
              "</div>"
            ],
            "text/plain": [
              "  key1 key2   P   Q   R   S\n",
              "0   K0   K0  P0  Q0  R0  S0\n",
              "1   K1   K0  P2  Q2  R1  S1\n",
              "2   K1   K0  P2  Q2  R2  S2"
            ]
          },
          "metadata": {},
          "output_type": "display_data"
        }
      ],
      "source": [
        "data1 = pd.DataFrame({'key1': ['K0', 'K0', 'K1', 'K2'],\n",
        "                     'key2': ['K0', 'K1', 'K0', 'K1'],\n",
        "                     'P': ['P0', 'P1', 'P2', 'P3'],\n",
        "                     'Q': ['Q0', 'Q1', 'Q2', 'Q3']})\n",
        "data2 = pd.DataFrame({'key1': ['K0', 'K1', 'K1', 'K2'],\n",
        "                      'key2': ['K0', 'K0', 'K0', 'K0'],\n",
        "                      'R': ['R0', 'R1', 'R2', 'R3'],\n",
        "                      'S': ['S0', 'S1', 'S2', 'S3']})\n",
        "\n",
        "display(data1, data2)\n",
        "\n",
        "data3 = pd.merge(data1, data2, on = ['key1', 'key2'])\n",
        "display(data3)"
      ]
    }
  ],
  "metadata": {
    "colab": {
      "name": "lista_2_resolvida.ipynb",
      "provenance": []
    },
    "kernelspec": {
      "display_name": "Python 3",
      "name": "python3"
    },
    "language_info": {
      "codemirror_mode": {
        "name": "ipython",
        "version": 3
      },
      "file_extension": ".py",
      "mimetype": "text/x-python",
      "name": "python",
      "nbconvert_exporter": "python",
      "pygments_lexer": "ipython3",
      "version": "3.12.4"
    }
  },
  "nbformat": 4,
  "nbformat_minor": 0
}
