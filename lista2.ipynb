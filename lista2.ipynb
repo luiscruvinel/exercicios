{
  "cells": [
    {
      "cell_type": "code",
      "execution_count": 33,
      "metadata": {},
      "outputs": [],
      "source": [
        "import numpy as np"
      ]
    },
    {
      "cell_type": "markdown",
      "metadata": {
        "id": "S8_6xYPQISUF"
      },
      "source": [
        "### Exercício-001\n",
        "Crie uma matriz 3x3 com valores variando de 0 a 8:"
      ]
    },
    {
      "cell_type": "code",
      "execution_count": null,
      "metadata": {},
      "outputs": [],
      "source": [
        "array = np.random.uniform(0, 9, size = (3,3))\n",
        "print(array)"
      ]
    },
    {
      "cell_type": "markdown",
      "metadata": {
        "id": "ieFoeUD9JAEp"
      },
      "source": [
        "### Exercício-002\n",
        "Adicione uma borda ao redor de uma matriz numpy. Utilize _fancy indexing_."
      ]
    },
    {
      "cell_type": "code",
      "execution_count": 40,
      "metadata": {},
      "outputs": [
        {
          "name": "stdout",
          "output_type": "stream",
          "text": [
            "Aqui está uma matriz exemplo: \n",
            "[[3 2 2]\n",
            " [3 2 4]\n",
            " [7 7 9]] \n",
            "\n",
            "Aqui está a matriz exemplo com borda: \n",
            "[[0 0 0 0 0]\n",
            " [0 3 2 2 0]\n",
            " [0 3 2 4 0]\n",
            " [0 7 7 9 0]\n",
            " [0 0 0 0 0]]\n"
          ]
        }
      ],
      "source": [
        "def bordeador(matriz):\n",
        "    rows, collumns = matriz.shape\n",
        "    \n",
        "    matriz_com_borda = np.zeros((rows+2, collumns+2), dtype = matriz.dtype)\n",
        "    matriz_com_borda[1:-1, 1:-1] = matriz\n",
        "\n",
        "    return matriz_com_borda\n",
        "\n",
        "if __name__ == '__main__':\n",
        "    matriz_exemplo = np.random.randint(1,10, (3,3))\n",
        "    print('Aqui está uma matriz exemplo: ')\n",
        "    print(matriz_exemplo, '\\n')\n",
        "\n",
        "    print('Aqui está a matriz exemplo com borda: ')\n",
        "    print(bordeador(matriz_exemplo))\n"
      ]
    },
    {
      "cell_type": "markdown",
      "metadata": {
        "id": "RcyKxi_oJ3E2"
      },
      "source": [
        "### Exercício-003\n",
        "Mude a escala uma matriz numpy de dimensões 5x5 com a seguinte formulação:\n",
        "\n",
        "$z=\\frac{x_i-\\bar{x}}{std(x)}$"
      ]
    },
    {
      "cell_type": "code",
      "execution_count": 41,
      "metadata": {},
      "outputs": [
        {
          "name": "stdout",
          "output_type": "stream",
          "text": [
            "Este é o array aleatoriamente gerado: \n",
            "[[5.48813504 7.15189366 6.02763376 5.44883183 4.23654799]\n",
            " [6.45894113 4.37587211 8.91773001 9.63662761 3.83441519]\n",
            " [7.91725038 5.2889492  5.68044561 9.25596638 0.71036058]\n",
            " [0.871293   0.20218397 8.32619846 7.78156751 8.70012148]\n",
            " [9.78618342 7.99158564 4.61479362 7.80529176 1.18274426]]\n",
            "\n",
            "Este é o array convertido a Z-scores\n",
            "[[-0.14854421  0.44055117  0.04247881 -0.1624605  -0.59169993]\n",
            " [ 0.19519398 -0.54236874  1.06578972  1.32033341 -0.73408512]\n",
            " [ 0.71154487 -0.21907095 -0.08045184  1.18555078 -1.84023484]\n",
            " [-1.78325269 -2.02016749  0.85634317  0.66350295  0.98873998]\n",
            " [ 1.37328739  0.73786513 -0.4577726   0.67190312 -1.67297558]]\n"
          ]
        }
      ],
      "source": [
        "import numpy as np\n",
        "np.random.seed(0)\n",
        "\n",
        "array = np.random.uniform(0,10, size = (5,5))\n",
        "\n",
        "mean = array.mean()\n",
        "std = array.std()\n",
        "\n",
        "new_array = (array-mean)/std\n",
        "\n",
        "print('Este é o array aleatoriamente gerado: ')\n",
        "print(array)\n",
        "print()\n",
        "print('Este é o array convertido a Z-scores')\n",
        "print(new_array)"
      ]
    },
    {
      "cell_type": "markdown",
      "metadata": {
        "id": "odIjR_hULsrJ"
      },
      "source": [
        "### Exercício-004\n",
        "Crie um `array` numpy aleatório com 10 elementos e ordene utilizando um método da biblioteca numpy.\n"
      ]
    },
    {
      "cell_type": "code",
      "execution_count": 46,
      "metadata": {},
      "outputs": [
        {
          "name": "stdout",
          "output_type": "stream",
          "text": [
            "[[4 3 4 4 8]\n",
            " [4 3 7 5 5]]\n",
            "[[3 4 4 4 8]\n",
            " [3 4 5 5 7]]\n"
          ]
        }
      ],
      "source": [
        "array = np.random.randint(0, 10, (2,5))\n",
        "print(array)\n",
        "\n",
        "ordered_array = np.sort(array)\n",
        "print(ordered_array)"
      ]
    },
    {
      "cell_type": "markdown",
      "metadata": {
        "id": "ld-aK2J1M6Te"
      },
      "source": [
        "### Exercícios-005\n",
        "Considerando 2 `arrays` numpy unidimensionais com 10 valores execute as operações: `np.sum(A)`, `A * B`, `np.inner(A, B)`, `np.outer(A, B)`\n",
        "\n",
        "\n",
        "e explique o funcionamento de cada operação"
      ]
    },
    {
      "cell_type": "code",
      "execution_count": 63,
      "metadata": {},
      "outputs": [
        {
          "name": "stdout",
          "output_type": "stream",
          "text": [
            "Aqui está uma matriz exemplo chamada matriz_a: \n",
            "[ 1  2  3  4  5  6  7  8  9 10] \n",
            "\n",
            "Aqui está outra matriz exemplo chamada matriz_b: \n",
            "[11 12 13 14 15 16 17 18 19 20] \n",
            "\n",
            "A função np.sum() retorna o somatório de todos os valores presentes em uma matriz: \n",
            "np.sum(matriz_a) == 55\n",
            "np.sum(matriz_b) == 155\n",
            "\n",
            "A operação de multiplicação retorna uma terceira matriz com o valor correspondente da multiplicação de cada índice: \n",
            "Note que é diferente da operação matemática \"multiplicação de matrizes\": \n",
            "matriz_a * matriz_b == [ 11  24  39  56  75  96 119 144 171 200]\n",
            "\n",
            "As funções np.inner() e np.outer() retornam os produtos interno e externo/vetorial de uma matriz, respectivamente: \n",
            "np.inner(matriz_a, matriz_b) == 935 --> o resultado sempre será um escalar.\n",
            "np.outer(matriz_a, matriz_b) == \n",
            "[[ 11  12  13  14  15  16  17  18  19  20]\n",
            " [ 22  24  26  28  30  32  34  36  38  40]\n",
            " [ 33  36  39  42  45  48  51  54  57  60]\n",
            " [ 44  48  52  56  60  64  68  72  76  80]\n",
            " [ 55  60  65  70  75  80  85  90  95 100]\n",
            " [ 66  72  78  84  90  96 102 108 114 120]\n",
            " [ 77  84  91  98 105 112 119 126 133 140]\n",
            " [ 88  96 104 112 120 128 136 144 152 160]\n",
            " [ 99 108 117 126 135 144 153 162 171 180]\n",
            " [110 120 130 140 150 160 170 180 190 200]]\n"
          ]
        }
      ],
      "source": [
        "print('Aqui está uma matriz exemplo chamada matriz_a: ')\n",
        "matriz_a = np.arange(1, 11, 1)\n",
        "print(matriz_a, '\\n')\n",
        "\n",
        "print('Aqui está outra matriz exemplo chamada matriz_b: ')\n",
        "matriz_b = np.arange(11, 21, 1)\n",
        "print(matriz_b, '\\n')\n",
        "\n",
        "print('A função np.sum() retorna o somatório de todos os valores presentes em uma matriz, a menos que especificado um eixo: ')\n",
        "print(f'np.sum(matriz_a) == {np.sum(matriz_a)}\\nnp.sum(matriz_b) == {np.sum(matriz_b)}\\n')\n",
        "\n",
        "print('A operação de multiplicação retorna uma terceira matriz com o valor correspondente da multiplicação de cada índice: \\nNote que é diferente da operação matemática \"multiplicação de matrizes\": ')\n",
        "print(f'matriz_a * matriz_b == {matriz_a * matriz_b}')\n",
        "\n",
        "print('\\nAs funções np.inner() e np.outer() retornam os produtos interno e externo/vetorial de uma matriz, respectivamente: ')\n",
        "print(f'np.inner(matriz_a, matriz_b) == {np.inner(matriz_a, matriz_b)} --> o resultado sempre será um escalar.')\n",
        "print(f'np.outer(matriz_a, matriz_b) == \\n{np.outer(matriz_a, matriz_b)}')\n",
        "\n",
        "# produto interno [a, b, c] * [d, e, f] = a*d + b*e + c*f\n",
        "# produto externo"
      ]
    },
    {
      "cell_type": "markdown",
      "metadata": {
        "id": "FGn9Vy8uQKYL"
      },
      "source": [
        "### Exercícios-006\n",
        "Crie uma matriz no formato 10x3, extraia linhas com valores diferentes (exemplo: `[2, 2, 3]`):"
      ]
    },
    {
      "cell_type": "code",
      "execution_count": 49,
      "metadata": {},
      "outputs": [
        {
          "name": "stdout",
          "output_type": "stream",
          "text": [
            "Aqui está a matriz 10x3: \n",
            "[[26  3  4]\n",
            " [28  4 19]\n",
            " [15  4 21]\n",
            " [18 19 28]\n",
            " [15 10 27]\n",
            " [ 2  5 11]\n",
            " [23 12  9]\n",
            " [12  3 20]\n",
            " [17  1 23]\n",
            " [ 1  7 20]]\n"
          ]
        }
      ],
      "source": [
        "matriz_exemplo = np.random.randint(1, 31, (10,3))\n",
        "print('Aqui está a matriz 10x3: ')\n",
        "print(matriz_exemplo)\n",
        "\n",
        "# O que é pra fazer???"
      ]
    },
    {
      "cell_type": "markdown",
      "metadata": {
        "id": "JvVV9_-4VizW"
      },
      "source": [
        "### Exercícios-007\n",
        "Crie duas matrizes com números aleatórios no formato 2x3, e multiplique a primeira matriz pela transposta da segunda. Explique como o resultado da multiplicação das matrizes foi obtido."
      ]
    },
    {
      "cell_type": "code",
      "execution_count": 71,
      "metadata": {},
      "outputs": [
        {
          "name": "stdout",
          "output_type": "stream",
          "text": [
            "\n",
            "Aqui está a primeira matriz 2x3 aleatória: \n",
            "[[5 6 1]\n",
            " [4 4 4]]\n",
            "\n",
            "Aqui está a segunda matriz 2x3 aleatória: \n",
            "[[2 4 6]\n",
            " [3 5 1]]\n",
            "\n",
            "Aqui está a segunda matriz transposta, \n",
            "Ela foi obtida transformando as linhas em colunas e as colunas em linhas: \n",
            "[[2 3]\n",
            " [4 5]\n",
            " [6 1]]\n",
            "\n",
            "Aqui está o resultado da multiplicação: \n",
            "[[40 46]\n",
            " [48 36]]\n",
            "\n",
            "Ela foi obtida através da operação matemática de multiplicação de matrizes, \n",
            "em que cada posição LxC (linha x coluna) corresponde ao somatório da multiplicação das colunas \n",
            "da primeira matriz pelas linhas da segunda matriz\n"
          ]
        }
      ],
      "source": [
        "np.random.seed(0)\n",
        "\n",
        "matriz_a = np.random.randint(1, 7, (2,3))\n",
        "matriz_b = np.random.randint(1, 7, (2,3))\n",
        "\n",
        "print('\\nAqui está a primeira matriz 2x3 aleatória: ')\n",
        "print(matriz_a)\n",
        "\n",
        "print('\\nAqui está a segunda matriz 2x3 aleatória: ')\n",
        "print(matriz_b)\n",
        "\n",
        "print('\\nAqui está a segunda matriz transposta, \\nEla foi obtida transformando as linhas em colunas e as colunas em linhas: ')\n",
        "print(matriz_b.transpose())\n",
        "\n",
        "print('\\nAqui está o resultado da multiplicação: ')\n",
        "print(np.matmul(matriz_a, matriz_b.transpose()))\n",
        "\n",
        "print('''\\nEla foi obtida através da operação matemática de multiplicação de matrizes, \n",
        "em que cada posição LxC (linha x coluna) corresponde ao somatório da multiplicação das colunas \n",
        "da primeira matriz pelas linhas da segunda matriz''')"
      ]
    },
    {
      "cell_type": "markdown",
      "metadata": {
        "id": "KvbfGxCWYMtt"
      },
      "source": [
        "### Exercício-008\n",
        "\n",
        "Calcule o percentil de 80% no segundo eixo (_axis_) de uma matriz numpy."
      ]
    },
    {
      "cell_type": "code",
      "execution_count": 79,
      "metadata": {},
      "outputs": [
        {
          "name": "stdout",
          "output_type": "stream",
          "text": [
            "Aqui está uma matriz 5x5 aleatória: \n",
            "[[27.89186169 36.04427895 30.53540543 27.69927597 21.75908517]\n",
            " [32.64881154 22.44177335 44.69687704 48.21947526 19.78863442]\n",
            " [39.79452687 26.91585107 28.83418349 46.35423528  4.48076685]\n",
            " [ 5.26933569  1.99070147 41.79837243 39.1296808  43.63059526]\n",
            " [48.95229877 40.15876965 23.61248875 39.24592964  6.79544687]]\n",
            "\n",
            "Aqui está o p80 no segundo eixo: p80 == [31.63718013 45.40139668 41.10646855 42.164817   41.91747547]\n"
          ]
        }
      ],
      "source": [
        "np.random.seed(0)\n",
        "\n",
        "matriz = np.random.uniform(1, 50, size = (5,5))\n",
        "\n",
        "print('Aqui está uma matriz 5x5 aleatória: ')\n",
        "print(matriz)\n",
        "\n",
        "print(f'\\nAqui está o p80 no segundo eixo: p80 == {np.percentile(matriz, 80, 1)}')"
      ]
    },
    {
      "cell_type": "markdown",
      "metadata": {
        "id": "C9xGebpXZ5sZ"
      },
      "source": [
        "### Exercício-009\n",
        "\n",
        "Crie um programa utilizando pandas para disponibilizar um sumário básico de informações contidas em um _dataframe_:\n",
        "\n",
        "Informações que devem constar no _dataframe_:\n",
        "\n",
        "nome - ['Ana', 'Dilma', 'Catarina', 'João', 'Emilia', 'Michel', 'Mateus','Laura', 'Kevin', 'Jonas']\n",
        "\n",
        "nota - [12.5, 9, 16.5, np.nan, 9, 20, 14.5, np.nan, 8, 19]\n",
        "\n",
        "tentativas - [1, 3, 2, 3, 2, 3, 1, 1, 2, 1]\n",
        "\n",
        "qualicacao - ['yes', 'no', 'yes', 'no', 'no', 'yes', 'yes', 'no', 'no', 'yes']\n",
        "\n",
        "rotulos - ['a', 'b', 'c', 'd', 'e', 'f', 'g', 'h', 'i', 'j']"
      ]
    },
    {
      "cell_type": "markdown",
      "metadata": {
        "id": "lx9Kxh_rdOwS"
      },
      "source": [
        "### Exercício-010\n",
        "Escreva num programa para encontras os _n_ menores valores em um _dataframe_ pandas."
      ]
    },
    {
      "cell_type": "markdown",
      "metadata": {
        "id": "BuCMREBgkQKj"
      },
      "source": [
        "### Exercício-011\n",
        "Escreva um programa para encontrar dentro de um intervalo fixado (exemplo: $a<x<b$) e substituí-los por 0."
      ]
    },
    {
      "cell_type": "markdown",
      "metadata": {
        "id": "KgthBsthoAwp"
      },
      "source": [
        "### Exercício-012\n",
        "Utilize os métodos `max` para encontrar o máximo de uma coluna em _dataframe_ pandas e depois `query` para encontrar onde os valores na coluna referida são menores que o máximo."
      ]
    },
    {
      "cell_type": "markdown",
      "metadata": {
        "id": "36iz1oN7p1H4"
      },
      "source": [
        "### Exercício-013\n",
        "Remova os espaços na extremidade dos nomes das colunas e transforme em minúsculo utilizando o método `.str` para o conjunto de dados listado abaixo."
      ]
    },
    {
      "cell_type": "code",
      "execution_count": null,
      "metadata": {
        "id": "kjCnot90rbUq"
      },
      "outputs": [],
      "source": [
        "df = pd.DataFrame({\n",
        "    'Nome': ['Alberto Franco','Giovane Pereira','Reinaldo Oliveira', 'Elen Cavalcanti', 'Paulo Freire'],\n",
        "    'Data_de_Nascimento ': ['17/05/2002','16/02/1999','25/09/1998','11/05/2002','15/09/1997'],\n",
        "    'Idade': [18.5, 21.2, 22.5, 22, 23]\n",
        "})"
      ]
    },
    {
      "cell_type": "markdown",
      "metadata": {
        "id": "Q-9b53bArwEG"
      },
      "source": [
        "### Exercício-014\n",
        "Preencha os dados de um _dataframe_ nas posições em que os dados são nulos com um segundo _dataframe_ para o conjunto de dados listado abaixo."
      ]
    },
    {
      "cell_type": "code",
      "execution_count": null,
      "metadata": {
        "id": "5VBA4alsruku"
      },
      "outputs": [],
      "source": [
        "df1 = pd.DataFrame({'A': [None, 0, None], 'B': [3, 4, 5]})\n",
        "df2 = pd.DataFrame({'A': [1, 1, 3], 'B': [3, None, 3]})"
      ]
    },
    {
      "cell_type": "markdown",
      "metadata": {
        "id": "8UmKSJKNtK8u"
      },
      "source": [
        "### Exercício-015\n",
        "Escreva um programa que primeiro concatena dois _dataframe_ e depois faz operação de união (`merge`) com um terceiro em uma coluna especificada para o conjunto de dados listado abaixo."
      ]
    },
    {
      "cell_type": "code",
      "execution_count": null,
      "metadata": {
        "id": "QOxNqkwItgX8"
      },
      "outputs": [],
      "source": [
        "dados_estudante1 = pd.DataFrame({\n",
        "        'codigo': ['S1', 'S2', 'S3', 'S4', 'S5'],\n",
        "         'name': ['Daniela', 'Riobaldo', 'Bruno', 'Eduardo', 'Monica'],\n",
        "        'notas': [200, 210, 190, 222, 199]})\n",
        "\n",
        "dados_estudante2 = pd.DataFrame({\n",
        "        'codigo': ['S4', 'S5', 'S6', 'S7', 'S8'],\n",
        "        'name': ['Isabela', 'Carla', 'Denise', 'Carmen', 'Madalena'],\n",
        "        'notas': [201, 200, 198, 219, 201]})\n",
        "\n",
        "exam_data = pd.DataFrame({\n",
        "        'codigo': ['S1', 'S2', 'S3', 'S4', 'S5', 'S7', 'S8', 'S9', 'S10', 'S11', 'S12', 'S13'],\n",
        "        'id_prova': [23, 45, 12, 67, 21, 55, 33, 14, 56, 83, 88, 12]})"
      ]
    },
    {
      "cell_type": "markdown",
      "metadata": {
        "id": "VKcRsX1Zvnyr"
      },
      "source": [
        "### Exercício-016\n",
        "Escreva um programa que faz operação de união (`merge`) utilizando mais de uma coluna para o conjunto de dados listado abaixo."
      ]
    },
    {
      "cell_type": "code",
      "execution_count": null,
      "metadata": {
        "id": "faN_Y-P8u9Fu"
      },
      "outputs": [],
      "source": [
        "import pandas as pd\n",
        "data1 = pd.DataFrame({'key1': ['K0', 'K0', 'K1', 'K2'],\n",
        "                     'key2': ['K0', 'K1', 'K0', 'K1'],\n",
        "                     'P': ['P0', 'P1', 'P2', 'P3'],\n",
        "                     'Q': ['Q0', 'Q1', 'Q2', 'Q3']})\n",
        "data2 = pd.DataFrame({'key1': ['K0', 'K1', 'K1', 'K2'],\n",
        "                      'key2': ['K0', 'K0', 'K0', 'K0'],\n",
        "                      'R': ['R0', 'R1', 'R2', 'R3'],\n",
        "                      'S': ['S0', 'S1', 'S2', 'S3']})"
      ]
    }
  ],
  "metadata": {
    "colab": {
      "name": "lista_2_resolvida.ipynb",
      "provenance": []
    },
    "kernelspec": {
      "display_name": "Python 3",
      "name": "python3"
    },
    "language_info": {
      "codemirror_mode": {
        "name": "ipython",
        "version": 3
      },
      "file_extension": ".py",
      "mimetype": "text/x-python",
      "name": "python",
      "nbconvert_exporter": "python",
      "pygments_lexer": "ipython3",
      "version": "3.12.4"
    }
  },
  "nbformat": 4,
  "nbformat_minor": 0
}
