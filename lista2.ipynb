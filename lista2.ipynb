{
  "cells": [
    {
      "cell_type": "code",
      "execution_count": null,
      "metadata": {},
      "outputs": [],
      "source": [
        "import numpy as np\n",
        "import pandas as pd"
      ]
    },
    {
      "cell_type": "markdown",
      "metadata": {
        "id": "S8_6xYPQISUF"
      },
      "source": [
        "### Exercício-001\n",
        "Crie uma matriz 3x3 com valores variando de 0 a 8:"
      ]
    },
    {
      "cell_type": "code",
      "execution_count": null,
      "metadata": {},
      "outputs": [],
      "source": [
        "array = np.random.uniform(0, 9, size = (3,3))\n",
        "print(array)"
      ]
    },
    {
      "cell_type": "markdown",
      "metadata": {
        "id": "ieFoeUD9JAEp"
      },
      "source": [
        "### Exercício-002\n",
        "Adicione uma borda ao redor de uma matriz numpy. Utilize _fancy indexing_."
      ]
    },
    {
      "cell_type": "code",
      "execution_count": null,
      "metadata": {},
      "outputs": [],
      "source": [
        "def bordeador(matriz):\n",
        "    rows, collumns = matriz.shape\n",
        "    \n",
        "    matriz_com_borda = np.zeros((rows+2, collumns+2), dtype = matriz.dtype)\n",
        "    matriz_com_borda[1:-1, 1:-1] = matriz\n",
        "\n",
        "    return matriz_com_borda\n",
        "\n",
        "if __name__ == '__main__':\n",
        "    matriz_exemplo = np.random.randint(1,10, (3,3))\n",
        "    print('Aqui está uma matriz exemplo: ')\n",
        "    print(matriz_exemplo, '\\n')\n",
        "\n",
        "    print('Aqui está a matriz exemplo com borda: ')\n",
        "    print(bordeador(matriz_exemplo))\n"
      ]
    },
    {
      "cell_type": "markdown",
      "metadata": {
        "id": "RcyKxi_oJ3E2"
      },
      "source": [
        "### Exercício-003\n",
        "Mude a escala uma matriz numpy de dimensões 5x5 com a seguinte formulação:\n",
        "\n",
        "$z=\\frac{x_i-\\bar{x}}{std(x)}$"
      ]
    },
    {
      "cell_type": "code",
      "execution_count": null,
      "metadata": {},
      "outputs": [],
      "source": [
        "import numpy as np\n",
        "# np.random.seed(0)\n",
        "\n",
        "def convert_to_zscore(array):\n",
        "    mean = array.mean()\n",
        "    std = array.std()\n",
        "\n",
        "    new_array = (array-mean)/std\n",
        "    return new_array\n",
        "\n",
        "\n",
        "if __name__ == '__main__':\n",
        "    test_array = np.random.uniform(0,10, size = (5,5))\n",
        "    z_array = convert_to_zscore(test_array)\n",
        "    \n",
        "    print('Este é o array aleatoriamente gerado: ')\n",
        "    print(test_array)\n",
        "    print()\n",
        "    print('Este é o array convertido a Z-scores')\n",
        "    print(z_array)"
      ]
    },
    {
      "cell_type": "markdown",
      "metadata": {
        "id": "odIjR_hULsrJ"
      },
      "source": [
        "### Exercício-004\n",
        "Crie um `array` numpy aleatório com 10 elementos e ordene utilizando um método da biblioteca numpy.\n"
      ]
    },
    {
      "cell_type": "code",
      "execution_count": null,
      "metadata": {},
      "outputs": [],
      "source": [
        "array = np.random.randint(0, 10, (2,5))\n",
        "print(array)\n",
        "\n",
        "ordered_array = np.sort(array, axis = 1)\n",
        "print(ordered_array)"
      ]
    },
    {
      "cell_type": "markdown",
      "metadata": {
        "id": "ld-aK2J1M6Te"
      },
      "source": [
        "### Exercícios-005\n",
        "Considerando 2 `arrays` numpy unidimensionais com 10 valores execute as operações: `np.sum(A)`, `A * B`, `np.inner(A, B)`, `np.outer(A, B)`\n",
        "\n",
        "\n",
        "e explique o funcionamento de cada operação"
      ]
    },
    {
      "cell_type": "code",
      "execution_count": null,
      "metadata": {},
      "outputs": [],
      "source": [
        "print('Aqui está uma matriz exemplo chamada matriz_a: ')\n",
        "matriz_a = np.arange(1, 11, 1)\n",
        "print(matriz_a, '\\n')\n",
        "\n",
        "print('Aqui está outra matriz exemplo chamada matriz_b: ')\n",
        "matriz_b = np.arange(11, 21, 1)\n",
        "print(matriz_b, '\\n')\n",
        "\n",
        "print('A função np.sum() retorna o somatório de todos os valores presentes em uma matriz, a menos que especificado um eixo: ')\n",
        "print(f'np.sum(matriz_a) == {np.sum(matriz_a)}\\nnp.sum(matriz_b) == {np.sum(matriz_b)}\\n')\n",
        "\n",
        "print('A operação de multiplicação retorna uma terceira matriz com o valor correspondente da multiplicação de cada índice: \\nNote que é diferente da operação matemática \"multiplicação de matrizes\": ')\n",
        "print(f'matriz_a * matriz_b == {matriz_a * matriz_b}')\n",
        "\n",
        "print('\\nAs funções np.inner() e np.outer() retornam os produtos interno e externo/vetorial de uma matriz, respectivamente: ')\n",
        "print(f'np.inner(matriz_a, matriz_b) == {np.inner(matriz_a, matriz_b)} --> o resultado sempre será um escalar.')\n",
        "print(f'np.outer(matriz_a, matriz_b) == \\n{np.outer(matriz_a, matriz_b)}')\n",
        "\n",
        "# produto interno [a, b, c] * [d, e, f] = a*d + b*e + c*f\n",
        "# produto externo"
      ]
    },
    {
      "cell_type": "markdown",
      "metadata": {
        "id": "FGn9Vy8uQKYL"
      },
      "source": [
        "### Exercícios-006\n",
        "Crie uma matriz no formato 10x3, extraia linhas com valores diferentes (exemplo: `[2, 2, 3]`):"
      ]
    },
    {
      "cell_type": "code",
      "execution_count": null,
      "metadata": {},
      "outputs": [],
      "source": [
        "matriz_exemplo = np.random.randint(1, 31, (10,3))\n",
        "print('Aqui está a matriz 10x3: ')\n",
        "print(matriz_exemplo)\n",
        "\n"
      ]
    },
    {
      "cell_type": "markdown",
      "metadata": {
        "id": "JvVV9_-4VizW"
      },
      "source": [
        "### Exercícios-007\n",
        "Crie duas matrizes com números aleatórios no formato 2x3, e multiplique a primeira matriz pela transposta da segunda. Explique como o resultado da multiplicação das matrizes foi obtido."
      ]
    },
    {
      "cell_type": "code",
      "execution_count": null,
      "metadata": {},
      "outputs": [],
      "source": [
        "np.random.seed(0)\n",
        "\n",
        "matriz_a = np.random.randint(1, 7, (2,3))\n",
        "matriz_b = np.random.randint(1, 7, (2,3))\n",
        "\n",
        "print('\\nAqui está a primeira matriz 2x3 aleatória: ')\n",
        "print(matriz_a)\n",
        "\n",
        "print('\\nAqui está a segunda matriz 2x3 aleatória: ')\n",
        "print(matriz_b)\n",
        "\n",
        "print('\\nAqui está a segunda matriz transposta, \\nEla foi obtida transformando as linhas em colunas e as colunas em linhas: ')\n",
        "print(matriz_b.transpose())\n",
        "\n",
        "print('\\nAqui está o resultado da multiplicação: ')\n",
        "print(np.matmul(matriz_a, matriz_b.transpose()))\n",
        "\n",
        "print('''\\nEla foi obtida através da operação matemática de multiplicação de matrizes, \n",
        "em que cada posição LxC (linha x coluna) corresponde ao somatório da multiplicação das colunas \n",
        "da primeira matriz pelas linhas da segunda matriz''')"
      ]
    },
    {
      "cell_type": "markdown",
      "metadata": {
        "id": "KvbfGxCWYMtt"
      },
      "source": [
        "### Exercício-008\n",
        "\n",
        "Calcule o percentil de 80% no segundo eixo (_axis_) de uma matriz numpy."
      ]
    },
    {
      "cell_type": "code",
      "execution_count": null,
      "metadata": {},
      "outputs": [],
      "source": [
        "np.random.seed(0)\n",
        "\n",
        "matriz = np.random.uniform(1, 50, size = (5,5))\n",
        "\n",
        "print('Aqui está uma matriz 5x5 aleatória: ')\n",
        "print(matriz)\n",
        "\n",
        "print(f'\\nAqui está o p80 no segundo eixo: p80 == {np.percentile(matriz, 80, 1)}')"
      ]
    },
    {
      "cell_type": "markdown",
      "metadata": {
        "id": "C9xGebpXZ5sZ"
      },
      "source": [
        "### Exercício-009\n",
        "\n",
        "Crie um programa utilizando pandas para disponibilizar um sumário básico de informações contidas em um _dataframe_:\n",
        "\n",
        "Informações que devem constar no _dataframe_:\n",
        "\n",
        "nome - ['Ana', 'Dilma', 'Catarina', 'João', 'Emilia', 'Michel', 'Mateus','Laura', 'Kevin', 'Jonas']\n",
        "\n",
        "nota - [12.5, 9, 16.5, np.nan, 9, 20, 14.5, np.nan, 8, 19]\n",
        "\n",
        "tentativas - [1, 3, 2, 3, 2, 3, 1, 1, 2, 1]\n",
        "\n",
        "qualicacao - ['yes', 'no', 'yes', 'no', 'no', 'yes', 'yes', 'no', 'no', 'yes']\n",
        "\n",
        "rotulos - ['a', 'b', 'c', 'd', 'e', 'f', 'g', 'h', 'i', 'j']"
      ]
    },
    {
      "cell_type": "code",
      "execution_count": null,
      "metadata": {},
      "outputs": [],
      "source": [
        "alunos = pd.DataFrame({\n",
        "    'nome' : ['Ana', 'Dilma', 'Catarina', 'João', 'Emilia', 'Michel', 'Mateus','Laura', 'Kevin', 'Jonas'],\n",
        "    'nota' : [12.5, 9, 16.5, np.nan, 9, 20, 14.5, np.nan, 8, 19],\n",
        "    'tentativas' : [1, 3, 2, 3, 2, 3, 1, 1, 2, 1],\n",
        "    'qualificacao' : ['yes', 'no', 'yes', 'no', 'no', 'yes', 'yes', 'no', 'no', 'yes'],\n",
        "    'rotulos' : ['a', 'b', 'c', 'd', 'e', 'f', 'g', 'h', 'i', 'j'],\n",
        "})\n",
        "\n",
        "display(alunos)"
      ]
    },
    {
      "cell_type": "markdown",
      "metadata": {
        "id": "lx9Kxh_rdOwS"
      },
      "source": [
        "### Exercício-010\n",
        "Escreva num programa para encontras os _n_ menores valores em um _dataframe_ pandas."
      ]
    },
    {
      "cell_type": "code",
      "execution_count": null,
      "metadata": {},
      "outputs": [],
      "source": [
        "def menores_valores(dataframe, n):\n",
        "    array = dataframe.to_numpy()\n",
        "    sortedarray = np.sort(array.flatten())\n",
        "    \n",
        "    return sortedarray[:n]\n",
        "\n",
        "# Poderia usar também: print(df.stack().nsmallest(3))\n",
        "\n",
        "if __name__ == '__main__':\n",
        "    df = pd.DataFrame(np.random.randint(0, 100, size=(5, 4)), columns = list('ABCD'))\n",
        "    print('Aqui está um dataframe aleatório: ')\n",
        "    display(df)\n",
        "\n",
        "    print('Aqui estão os 3 menores valores do dataframe: ')\n",
        "    print(menores_valores(df, 3))\n",
        "    # Poderia usar também: \n",
        "    # print(df.stack().nsmallest(3)) # -> retorna os menores valores COM posição na tabela\n",
        "\n",
        "\n"
      ]
    },
    {
      "cell_type": "markdown",
      "metadata": {
        "id": "BuCMREBgkQKj"
      },
      "source": [
        "### Exercício-011\n",
        "Escreva um programa para encontrar dentro de um intervalo fixado (exemplo: $a<x<b$) e substituí-los por 0."
      ]
    },
    {
      "cell_type": "code",
      "execution_count": null,
      "metadata": {},
      "outputs": [],
      "source": [
        "def replace_by_zero(dataframe, lower, upper):\n",
        "    dataframe[(dataframe >=lower) & (dataframe <= upper)] = 0\n",
        "    return dataframe\n",
        "\n",
        "\n",
        "if __name__ == '__main__':\n",
        "    print('Aqui está um dataframe aleatório: ')\n",
        "    df = pd.DataFrame(np.random.randint(0, 100, size=(5, 4)), columns = list('ABCD'))\n",
        "    display(df)\n",
        "\n",
        "    print('Aqui está o dataframe com números entre 20 e 80 substituídos por 0: ')\n",
        "    display(replace_by_zero(df, 20, 80))\n"
      ]
    },
    {
      "cell_type": "markdown",
      "metadata": {
        "id": "KgthBsthoAwp"
      },
      "source": [
        "### Exercício-012\n",
        "Utilize os métodos `max` para encontrar o máximo de uma coluna em _dataframe_ pandas e depois `query` para encontrar onde os valores na coluna referida são menores que o máximo."
      ]
    },
    {
      "cell_type": "code",
      "execution_count": null,
      "metadata": {},
      "outputs": [],
      "source": [
        "def lower_than_max(dataframe, coluna):\n",
        "    max_value = (dataframe.max()[coluna])\n",
        "    print(f'O valor máximo em {coluna} é: {max_value}')\n",
        "    print(f'Aqui estão as linhas onde o valor em {coluna} é menor que o máximo:\\n')\n",
        "    print(dataframe.query(f'{coluna} < @max_value'))\n",
        "\n",
        "if __name__ == '__main__':\n",
        "    print('Aqui está um dataframe aleatório: ')\n",
        "    df = pd.DataFrame(np.random.randint(0, 100, size=(5, 4)), columns = ['coluna_A','coluna_B','coluna_C','coluna_D'])\n",
        "    display(df)\n",
        "\n",
        "    lower_than_max(df, 'coluna_A')"
      ]
    },
    {
      "cell_type": "markdown",
      "metadata": {
        "id": "36iz1oN7p1H4"
      },
      "source": [
        "### Exercício-013\n",
        "Remova os espaços na extremidade dos nomes das colunas e transforme em minúsculo utilizando o método `.str` para o conjunto de dados listado abaixo."
      ]
    },
    {
      "cell_type": "code",
      "execution_count": null,
      "metadata": {
        "id": "kjCnot90rbUq"
      },
      "outputs": [],
      "source": [
        "df = pd.DataFrame({\n",
        "    'Nome': ['Alberto Franco','Giovane Pereira','Reinaldo Oliveira', 'Elen Cavalcanti', 'Paulo Freire'],\n",
        "    'Data_de_Nascimento ': ['17/05/2002','16/02/1999','25/09/1998','11/05/2002','15/09/1997'],\n",
        "    'Idade': [18.5, 21.2, 22.5, 22, 23]\n",
        "})\n",
        "\n",
        "print('Dataframe original: ')\n",
        "display(df)\n",
        "\n",
        "df.columns = df.columns.str.lower().str.strip(' ').str.replace(' ', '_')\n",
        "print('Dataframe com colunas formatadas:')\n",
        "display(df)"
      ]
    },
    {
      "cell_type": "markdown",
      "metadata": {
        "id": "Q-9b53bArwEG"
      },
      "source": [
        "### Exercício-014\n",
        "Preencha os dados de um _dataframe_ nas posições em que os dados são nulos com um segundo _dataframe_ para o conjunto de dados listado abaixo."
      ]
    },
    {
      "cell_type": "code",
      "execution_count": null,
      "metadata": {
        "id": "5VBA4alsruku"
      },
      "outputs": [],
      "source": [
        "df1 = pd.DataFrame({'A': [None, 0, None], 'B': [3, 4, 5]})\n",
        "df2 = pd.DataFrame({'A': [1, 1, 3], 'B': [3, None, 3]})\n",
        "\n",
        "print('Aqui estão os dataframes originais: ')\n",
        "display(df1, df2)\n",
        "\n",
        "df1 = df1.fillna(df2)\n",
        "df2 = df2.fillna(df1)\n",
        "\n",
        "print('Aqui estão os dataframes com seus nulos substituídos: ')\n",
        "display(df1, df2)"
      ]
    },
    {
      "cell_type": "markdown",
      "metadata": {
        "id": "8UmKSJKNtK8u"
      },
      "source": [
        "### Exercício-015\n",
        "Escreva um programa que primeiro concatena dois _dataframe_ e depois faz operação de união (`merge`) com um terceiro em uma coluna especificada para o conjunto de dados listado abaixo."
      ]
    },
    {
      "cell_type": "code",
      "execution_count": 13,
      "metadata": {
        "id": "QOxNqkwItgX8"
      },
      "outputs": [
        {
          "data": {
            "text/html": [
              "<div>\n",
              "<style scoped>\n",
              "    .dataframe tbody tr th:only-of-type {\n",
              "        vertical-align: middle;\n",
              "    }\n",
              "\n",
              "    .dataframe tbody tr th {\n",
              "        vertical-align: top;\n",
              "    }\n",
              "\n",
              "    .dataframe thead th {\n",
              "        text-align: right;\n",
              "    }\n",
              "</style>\n",
              "<table border=\"1\" class=\"dataframe\">\n",
              "  <thead>\n",
              "    <tr style=\"text-align: right;\">\n",
              "      <th></th>\n",
              "      <th>codigo</th>\n",
              "      <th>name</th>\n",
              "      <th>notas</th>\n",
              "    </tr>\n",
              "  </thead>\n",
              "  <tbody>\n",
              "    <tr>\n",
              "      <th>0</th>\n",
              "      <td>S1</td>\n",
              "      <td>Daniela</td>\n",
              "      <td>200</td>\n",
              "    </tr>\n",
              "    <tr>\n",
              "      <th>1</th>\n",
              "      <td>S2</td>\n",
              "      <td>Riobaldo</td>\n",
              "      <td>210</td>\n",
              "    </tr>\n",
              "    <tr>\n",
              "      <th>2</th>\n",
              "      <td>S3</td>\n",
              "      <td>Bruno</td>\n",
              "      <td>190</td>\n",
              "    </tr>\n",
              "    <tr>\n",
              "      <th>3</th>\n",
              "      <td>S4</td>\n",
              "      <td>Eduardo</td>\n",
              "      <td>222</td>\n",
              "    </tr>\n",
              "    <tr>\n",
              "      <th>4</th>\n",
              "      <td>S5</td>\n",
              "      <td>Monica</td>\n",
              "      <td>199</td>\n",
              "    </tr>\n",
              "  </tbody>\n",
              "</table>\n",
              "</div>"
            ],
            "text/plain": [
              "  codigo      name  notas\n",
              "0     S1   Daniela    200\n",
              "1     S2  Riobaldo    210\n",
              "2     S3     Bruno    190\n",
              "3     S4   Eduardo    222\n",
              "4     S5    Monica    199"
            ]
          },
          "metadata": {},
          "output_type": "display_data"
        },
        {
          "data": {
            "text/html": [
              "<div>\n",
              "<style scoped>\n",
              "    .dataframe tbody tr th:only-of-type {\n",
              "        vertical-align: middle;\n",
              "    }\n",
              "\n",
              "    .dataframe tbody tr th {\n",
              "        vertical-align: top;\n",
              "    }\n",
              "\n",
              "    .dataframe thead th {\n",
              "        text-align: right;\n",
              "    }\n",
              "</style>\n",
              "<table border=\"1\" class=\"dataframe\">\n",
              "  <thead>\n",
              "    <tr style=\"text-align: right;\">\n",
              "      <th></th>\n",
              "      <th>codigo</th>\n",
              "      <th>name</th>\n",
              "      <th>notas</th>\n",
              "    </tr>\n",
              "  </thead>\n",
              "  <tbody>\n",
              "    <tr>\n",
              "      <th>0</th>\n",
              "      <td>S4</td>\n",
              "      <td>Isabela</td>\n",
              "      <td>201</td>\n",
              "    </tr>\n",
              "    <tr>\n",
              "      <th>1</th>\n",
              "      <td>S5</td>\n",
              "      <td>Carla</td>\n",
              "      <td>200</td>\n",
              "    </tr>\n",
              "    <tr>\n",
              "      <th>2</th>\n",
              "      <td>S6</td>\n",
              "      <td>Denise</td>\n",
              "      <td>198</td>\n",
              "    </tr>\n",
              "    <tr>\n",
              "      <th>3</th>\n",
              "      <td>S7</td>\n",
              "      <td>Carmen</td>\n",
              "      <td>219</td>\n",
              "    </tr>\n",
              "    <tr>\n",
              "      <th>4</th>\n",
              "      <td>S8</td>\n",
              "      <td>Madalena</td>\n",
              "      <td>201</td>\n",
              "    </tr>\n",
              "  </tbody>\n",
              "</table>\n",
              "</div>"
            ],
            "text/plain": [
              "  codigo      name  notas\n",
              "0     S4   Isabela    201\n",
              "1     S5     Carla    200\n",
              "2     S6    Denise    198\n",
              "3     S7    Carmen    219\n",
              "4     S8  Madalena    201"
            ]
          },
          "metadata": {},
          "output_type": "display_data"
        },
        {
          "data": {
            "text/html": [
              "<div>\n",
              "<style scoped>\n",
              "    .dataframe tbody tr th:only-of-type {\n",
              "        vertical-align: middle;\n",
              "    }\n",
              "\n",
              "    .dataframe tbody tr th {\n",
              "        vertical-align: top;\n",
              "    }\n",
              "\n",
              "    .dataframe thead th {\n",
              "        text-align: right;\n",
              "    }\n",
              "</style>\n",
              "<table border=\"1\" class=\"dataframe\">\n",
              "  <thead>\n",
              "    <tr style=\"text-align: right;\">\n",
              "      <th></th>\n",
              "      <th>codigo</th>\n",
              "      <th>id_prova</th>\n",
              "    </tr>\n",
              "  </thead>\n",
              "  <tbody>\n",
              "    <tr>\n",
              "      <th>0</th>\n",
              "      <td>S1</td>\n",
              "      <td>23</td>\n",
              "    </tr>\n",
              "    <tr>\n",
              "      <th>1</th>\n",
              "      <td>S2</td>\n",
              "      <td>45</td>\n",
              "    </tr>\n",
              "    <tr>\n",
              "      <th>2</th>\n",
              "      <td>S3</td>\n",
              "      <td>12</td>\n",
              "    </tr>\n",
              "    <tr>\n",
              "      <th>3</th>\n",
              "      <td>S4</td>\n",
              "      <td>67</td>\n",
              "    </tr>\n",
              "    <tr>\n",
              "      <th>4</th>\n",
              "      <td>S5</td>\n",
              "      <td>21</td>\n",
              "    </tr>\n",
              "    <tr>\n",
              "      <th>5</th>\n",
              "      <td>S7</td>\n",
              "      <td>55</td>\n",
              "    </tr>\n",
              "    <tr>\n",
              "      <th>6</th>\n",
              "      <td>S8</td>\n",
              "      <td>33</td>\n",
              "    </tr>\n",
              "    <tr>\n",
              "      <th>7</th>\n",
              "      <td>S9</td>\n",
              "      <td>14</td>\n",
              "    </tr>\n",
              "    <tr>\n",
              "      <th>8</th>\n",
              "      <td>S10</td>\n",
              "      <td>56</td>\n",
              "    </tr>\n",
              "    <tr>\n",
              "      <th>9</th>\n",
              "      <td>S11</td>\n",
              "      <td>83</td>\n",
              "    </tr>\n",
              "    <tr>\n",
              "      <th>10</th>\n",
              "      <td>S12</td>\n",
              "      <td>88</td>\n",
              "    </tr>\n",
              "    <tr>\n",
              "      <th>11</th>\n",
              "      <td>S13</td>\n",
              "      <td>12</td>\n",
              "    </tr>\n",
              "  </tbody>\n",
              "</table>\n",
              "</div>"
            ],
            "text/plain": [
              "   codigo  id_prova\n",
              "0      S1        23\n",
              "1      S2        45\n",
              "2      S3        12\n",
              "3      S4        67\n",
              "4      S5        21\n",
              "5      S7        55\n",
              "6      S8        33\n",
              "7      S9        14\n",
              "8     S10        56\n",
              "9     S11        83\n",
              "10    S12        88\n",
              "11    S13        12"
            ]
          },
          "metadata": {},
          "output_type": "display_data"
        }
      ],
      "source": [
        "dados_estudante1 = pd.DataFrame({\n",
        "        'codigo': ['S1', 'S2', 'S3', 'S4', 'S5'],\n",
        "         'name': ['Daniela', 'Riobaldo', 'Bruno', 'Eduardo', 'Monica'],\n",
        "        'notas': [200, 210, 190, 222, 199]})\n",
        "\n",
        "dados_estudante2 = pd.DataFrame({\n",
        "        'codigo': ['S4', 'S5', 'S6', 'S7', 'S8'],\n",
        "        'name': ['Isabela', 'Carla', 'Denise', 'Carmen', 'Madalena'],\n",
        "        'notas': [201, 200, 198, 219, 201]})\n",
        "\n",
        "exam_data = pd.DataFrame({\n",
        "        'codigo': ['S1', 'S2', 'S3', 'S4', 'S5', 'S7', 'S8', 'S9', 'S10', 'S11', 'S12', 'S13'],\n",
        "        'id_prova': [23, 45, 12, 67, 21, 55, 33, 14, 56, 83, 88, 12]})\n",
        "\n",
        "display(dados_estudante1, dados_estudante2, exam_data)"
      ]
    },
    {
      "cell_type": "markdown",
      "metadata": {
        "id": "VKcRsX1Zvnyr"
      },
      "source": [
        "### Exercício-016\n",
        "Escreva um programa que faz operação de união (`merge`) utilizando mais de uma coluna para o conjunto de dados listado abaixo."
      ]
    },
    {
      "cell_type": "code",
      "execution_count": null,
      "metadata": {
        "id": "faN_Y-P8u9Fu"
      },
      "outputs": [],
      "source": [
        "data1 = pd.DataFrame({'key1': ['K0', 'K0', 'K1', 'K2'],\n",
        "                     'key2': ['K0', 'K1', 'K0', 'K1'],\n",
        "                     'P': ['P0', 'P1', 'P2', 'P3'],\n",
        "                     'Q': ['Q0', 'Q1', 'Q2', 'Q3']})\n",
        "data2 = pd.DataFrame({'key1': ['K0', 'K1', 'K1', 'K2'],\n",
        "                      'key2': ['K0', 'K0', 'K0', 'K0'],\n",
        "                      'R': ['R0', 'R1', 'R2', 'R3'],\n",
        "                      'S': ['S0', 'S1', 'S2', 'S3']})\n",
        "\n",
        "display(data1, data2)\n",
        "\n",
        "data3 = pd.merge(data1, data2, on = ['key1', 'key2'])\n",
        "display(data3)"
      ]
    }
  ],
  "metadata": {
    "colab": {
      "name": "lista_2_resolvida.ipynb",
      "provenance": []
    },
    "kernelspec": {
      "display_name": "Python 3",
      "name": "python3"
    },
    "language_info": {
      "codemirror_mode": {
        "name": "ipython",
        "version": 3
      },
      "file_extension": ".py",
      "mimetype": "text/x-python",
      "name": "python",
      "nbconvert_exporter": "python",
      "pygments_lexer": "ipython3",
      "version": "3.12.4"
    }
  },
  "nbformat": 4,
  "nbformat_minor": 0
}
