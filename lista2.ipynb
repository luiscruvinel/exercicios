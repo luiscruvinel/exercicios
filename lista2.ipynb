{
  "cells": [
    {
      "cell_type": "markdown",
      "metadata": {
        "id": "S8_6xYPQISUF"
      },
      "source": [
        "### Exercício-001\n",
        "Crie uma matriz 3x3 com valores variando de 0 a 8:"
      ]
    },
    {
      "cell_type": "code",
      "execution_count": 5,
      "metadata": {},
      "outputs": [
        {
          "name": "stdout",
          "output_type": "stream",
          "text": [
            "[[5.12715683 3.0630252  6.12504707]\n",
            " [1.6317974  7.33522307 0.8447333 ]\n",
            " [8.03878793 8.38965327 1.36400544]]\n"
          ]
        }
      ],
      "source": [
        "import numpy as np\n",
        "\n",
        "array = np.random.uniform(0, 9, size = (3,3))\n",
        "print(array)"
      ]
    },
    {
      "cell_type": "markdown",
      "metadata": {
        "id": "ieFoeUD9JAEp"
      },
      "source": [
        "### Exercício-002\n",
        "Adicione uma borda ao redor de uma matriz numpy. Utilize _fancy indexing_."
      ]
    },
    {
      "cell_type": "markdown",
      "metadata": {
        "id": "RcyKxi_oJ3E2"
      },
      "source": [
        "### Exercício-003\n",
        "Mude a escala uma matriz numpy de dimensões 5x5 com a seguinte formulação:\n",
        "\n",
        "$z=\\frac{x_i-\\bar{x}}{std(x)}$"
      ]
    },
    {
      "cell_type": "code",
      "execution_count": 14,
      "metadata": {},
      "outputs": [
        {
          "name": "stdout",
          "output_type": "stream",
          "text": [
            "Este é o array aleatoriamente gerado: \n",
            "[[5.48813504 7.15189366 6.02763376 5.44883183 4.23654799]\n",
            " [6.45894113 4.37587211 8.91773001 9.63662761 3.83441519]\n",
            " [7.91725038 5.2889492  5.68044561 9.25596638 0.71036058]\n",
            " [0.871293   0.20218397 8.32619846 7.78156751 8.70012148]\n",
            " [9.78618342 7.99158564 4.61479362 7.80529176 1.18274426]]\n",
            "\n",
            "Este é o array convertido a Z-scores\n",
            "[[-0.14854421  0.44055117  0.04247881 -0.1624605  -0.59169993]\n",
            " [ 0.19519398 -0.54236874  1.06578972  1.32033341 -0.73408512]\n",
            " [ 0.71154487 -0.21907095 -0.08045184  1.18555078 -1.84023484]\n",
            " [-1.78325269 -2.02016749  0.85634317  0.66350295  0.98873998]\n",
            " [ 1.37328739  0.73786513 -0.4577726   0.67190312 -1.67297558]]\n"
          ]
        }
      ],
      "source": [
        "import numpy as np\n",
        "np.random.seed(0)\n",
        "\n",
        "array = np.random.uniform(0,10, size = (5,5))\n",
        "\n",
        "mean = array.mean()\n",
        "std = array.std()\n",
        "\n",
        "new_array = (array-mean)/std\n",
        "\n",
        "print('Este é o array aleatoriamente gerado: ')\n",
        "print(array)\n",
        "print()\n",
        "print('Este é o array convertido a Z-scores')\n",
        "print(new_array)"
      ]
    },
    {
      "cell_type": "markdown",
      "metadata": {
        "id": "odIjR_hULsrJ"
      },
      "source": [
        "### Exercício-004\n",
        "Crie um `array` numpy aleatório com 10 elementos e ordene utilizando um método da biblioteca numpy.\n"
      ]
    },
    {
      "cell_type": "code",
      "execution_count": 12,
      "metadata": {},
      "outputs": [
        {
          "name": "stdout",
          "output_type": "stream",
          "text": [
            "[8.74153963 9.80616208 3.81638833 0.4229492  1.61932027 3.7453416\n",
            " 7.21575196 2.8931531  3.26379382 6.49804111]\n",
            "[0.4229492  1.61932027 2.8931531  3.26379382 3.7453416  3.81638833\n",
            " 6.49804111 7.21575196 8.74153963 9.80616208]\n"
          ]
        }
      ],
      "source": [
        "array = np.random.uniform(0, 10, 10)\n",
        "print(array)\n",
        "\n",
        "ordered_array = np.sort(array)\n",
        "print(ordered_array)"
      ]
    },
    {
      "cell_type": "markdown",
      "metadata": {
        "id": "ld-aK2J1M6Te"
      },
      "source": [
        "### Exercícios-005\n",
        "Considerando 2 `arrays` numpy unidimensionais com 10 valores execute as operações: `np.sum(A)`, `A * B`, `np.inner(A, B)`, `np.outer(A, B)`\n",
        "\n",
        "\n",
        "e explique o funcionamento de cada operação"
      ]
    },
    {
      "cell_type": "markdown",
      "metadata": {
        "id": "FGn9Vy8uQKYL"
      },
      "source": [
        "### Exercícios-006\n",
        "Crie uma matriz no formato 10x3, extraia linhas com valores diferentes (exemplo: `[2, 2, 3]`):"
      ]
    },
    {
      "cell_type": "markdown",
      "metadata": {
        "id": "JvVV9_-4VizW"
      },
      "source": [
        "### Exercícios-007\n",
        "Crie duas matrizes com números aleatórios no formato 2x3, e multiplique a primeira matriz pela transposta da segunda. Explique como o resultado da multiplicação das matrizes foi obtido."
      ]
    },
    {
      "cell_type": "markdown",
      "metadata": {
        "id": "KvbfGxCWYMtt"
      },
      "source": [
        "### Exercício-008\n",
        "\n",
        "Calcule o percentil de 80% no segundo eixo (_axis_) de uma matriz numpy."
      ]
    },
    {
      "cell_type": "markdown",
      "metadata": {
        "id": "C9xGebpXZ5sZ"
      },
      "source": [
        "### Exercício-009\n",
        "\n",
        "Crie um programa utilizando pandas para disponibilizar um sumário básico de informações contidas em um _dataframe_:\n",
        "\n",
        "Informações que devem constar no _dataframe_:\n",
        "\n",
        "nome - ['Ana', 'Dilma', 'Catarina', 'João', 'Emilia', 'Michel', 'Mateus','Laura', 'Kevin', 'Jonas']\n",
        "\n",
        "nota - [12.5, 9, 16.5, np.nan, 9, 20, 14.5, np.nan, 8, 19]\n",
        "\n",
        "tentativas - [1, 3, 2, 3, 2, 3, 1, 1, 2, 1]\n",
        "\n",
        "qualicacao - ['yes', 'no', 'yes', 'no', 'no', 'yes', 'yes', 'no', 'no', 'yes']\n",
        "\n",
        "rotulos - ['a', 'b', 'c', 'd', 'e', 'f', 'g', 'h', 'i', 'j']"
      ]
    },
    {
      "cell_type": "markdown",
      "metadata": {
        "id": "lx9Kxh_rdOwS"
      },
      "source": [
        "### Exercício-010\n",
        "Escreva num programa para encontras os _n_ menores valores em um _dataframe_ pandas."
      ]
    },
    {
      "cell_type": "markdown",
      "metadata": {
        "id": "BuCMREBgkQKj"
      },
      "source": [
        "### Exercício-011\n",
        "Escreva um programa para encontrar dentro de um intervalo fixado (exemplo: $a<x<b$) e substituí-los por 0."
      ]
    },
    {
      "cell_type": "markdown",
      "metadata": {
        "id": "KgthBsthoAwp"
      },
      "source": [
        "### Exercício-012\n",
        "Utilize os métodos `max` para encontrar o máximo de uma coluna em _dataframe_ pandas e depois `query` para encontrar onde os valores na coluna referida são menores que o máximo."
      ]
    },
    {
      "cell_type": "markdown",
      "metadata": {
        "id": "36iz1oN7p1H4"
      },
      "source": [
        "### Exercício-013\n",
        "Remova os espaços na extremidade dos nomes das colunas e transforme em minúsculo utilizando o método `.str` para o conjunto de dados listado abaixo."
      ]
    },
    {
      "cell_type": "code",
      "execution_count": null,
      "metadata": {
        "id": "kjCnot90rbUq"
      },
      "outputs": [],
      "source": [
        "df = pd.DataFrame({\n",
        "    'Nome': ['Alberto Franco','Giovane Pereira','Reinaldo Oliveira', 'Elen Cavalcanti', 'Paulo Freire'],\n",
        "    'Data_de_Nascimento ': ['17/05/2002','16/02/1999','25/09/1998','11/05/2002','15/09/1997'],\n",
        "    'Idade': [18.5, 21.2, 22.5, 22, 23]\n",
        "})"
      ]
    },
    {
      "cell_type": "markdown",
      "metadata": {
        "id": "Q-9b53bArwEG"
      },
      "source": [
        "### Exercício-014\n",
        "Preencha os dados de um _dataframe_ nas posições em que os dados são nulos com um segundo _dataframe_ para o conjunto de dados listado abaixo."
      ]
    },
    {
      "cell_type": "code",
      "execution_count": null,
      "metadata": {
        "id": "5VBA4alsruku"
      },
      "outputs": [],
      "source": [
        "df1 = pd.DataFrame({'A': [None, 0, None], 'B': [3, 4, 5]})\n",
        "df2 = pd.DataFrame({'A': [1, 1, 3], 'B': [3, None, 3]})"
      ]
    },
    {
      "cell_type": "markdown",
      "metadata": {
        "id": "8UmKSJKNtK8u"
      },
      "source": [
        "### Exercício-015\n",
        "Escreva um programa que primeiro concatena dois _dataframe_ e depois faz operação de união (`merge`) com um terceiro em uma coluna especificada para o conjunto de dados listado abaixo."
      ]
    },
    {
      "cell_type": "code",
      "execution_count": null,
      "metadata": {
        "id": "QOxNqkwItgX8"
      },
      "outputs": [],
      "source": [
        "dados_estudante1 = pd.DataFrame({\n",
        "        'codigo': ['S1', 'S2', 'S3', 'S4', 'S5'],\n",
        "         'name': ['Daniela', 'Riobaldo', 'Bruno', 'Eduardo', 'Monica'],\n",
        "        'notas': [200, 210, 190, 222, 199]})\n",
        "\n",
        "dados_estudante2 = pd.DataFrame({\n",
        "        'codigo': ['S4', 'S5', 'S6', 'S7', 'S8'],\n",
        "        'name': ['Isabela', 'Carla', 'Denise', 'Carmen', 'Madalena'],\n",
        "        'notas': [201, 200, 198, 219, 201]})\n",
        "\n",
        "exam_data = pd.DataFrame({\n",
        "        'codigo': ['S1', 'S2', 'S3', 'S4', 'S5', 'S7', 'S8', 'S9', 'S10', 'S11', 'S12', 'S13'],\n",
        "        'id_prova': [23, 45, 12, 67, 21, 55, 33, 14, 56, 83, 88, 12]})"
      ]
    },
    {
      "cell_type": "markdown",
      "metadata": {
        "id": "VKcRsX1Zvnyr"
      },
      "source": [
        "### Exercício-016\n",
        "Escreva um programa que faz operação de união (`merge`) utilizando mais de uma coluna para o conjunto de dados listado abaixo."
      ]
    },
    {
      "cell_type": "code",
      "execution_count": null,
      "metadata": {
        "id": "faN_Y-P8u9Fu"
      },
      "outputs": [],
      "source": [
        "import pandas as pd\n",
        "data1 = pd.DataFrame({'key1': ['K0', 'K0', 'K1', 'K2'],\n",
        "                     'key2': ['K0', 'K1', 'K0', 'K1'],\n",
        "                     'P': ['P0', 'P1', 'P2', 'P3'],\n",
        "                     'Q': ['Q0', 'Q1', 'Q2', 'Q3']})\n",
        "data2 = pd.DataFrame({'key1': ['K0', 'K1', 'K1', 'K2'],\n",
        "                      'key2': ['K0', 'K0', 'K0', 'K0'],\n",
        "                      'R': ['R0', 'R1', 'R2', 'R3'],\n",
        "                      'S': ['S0', 'S1', 'S2', 'S3']})"
      ]
    }
  ],
  "metadata": {
    "colab": {
      "name": "lista_2_resolvida.ipynb",
      "provenance": []
    },
    "kernelspec": {
      "display_name": "Python 3",
      "name": "python3"
    },
    "language_info": {
      "codemirror_mode": {
        "name": "ipython",
        "version": 3
      },
      "file_extension": ".py",
      "mimetype": "text/x-python",
      "name": "python",
      "nbconvert_exporter": "python",
      "pygments_lexer": "ipython3",
      "version": "3.12.4"
    }
  },
  "nbformat": 4,
  "nbformat_minor": 0
}
